{
 "cells": [
  {
   "cell_type": "code",
   "execution_count": 1,
   "metadata": {},
   "outputs": [],
   "source": [
    "# Import modules\n",
    "\n",
    "import os\n",
    "import pandas as pd\n",
    "import numpy as np\n",
    "import scipy.stats as sp\n",
    "import datetime\n",
    "import seaborn as sns\n",
    "from datetime import date, timedelta\n",
    "from matplotlib import pyplot as plt\n",
    "from scipy.stats import skew\n",
    "\n",
    "sns.set_style(style='whitegrid')\n",
    "sns.set_palette(palette='colorblind')"
   ]
  },
  {
   "cell_type": "code",
   "execution_count": 2,
   "metadata": {},
   "outputs": [],
   "source": [
    "# Petter's code for extracting all the data files and then combining them.\n",
    "\n",
    "def extract_folder(folderpath, add_scores=False, downsample=None):\n",
    "    \"\"\"\n",
    "    Extract CSV data from folder and subfolders into a dataframe.\n",
    "\n",
    "    Args:\n",
    "      folderpath (str): Path to the folder containing CSV files.\n",
    "      add_scores (bool, optional): Boolean to add scores.csv to the dataframe. Defaults to False.\n",
    "      downsample (int, optional): Number of rows to downsample CSVs to. Defaults to None.\n",
    "\n",
    "    Returns:\n",
    "      pandas.DataFrame: DataFrame of concatenated CSV data.\n",
    "    \"\"\"\n",
    "    import os\n",
    "    import pandas as pd\n",
    "    \n",
    "    # Dict to store dataframes by condition  \n",
    "    dfs = {'control': [], 'condition': []}\n",
    "\n",
    "    try:\n",
    "        # Handle top-level scores CSV\n",
    "        if add_scores and 'scores.csv' in os.listdir(folderpath):\n",
    "            scores_path = os.path.join(folderpath, 'scores.csv')  \n",
    "            dfs['scores'] = pd.read_csv(scores_path)\n",
    "\n",
    "        # Get subfolders\n",
    "        subfolders = [f for f in os.listdir(folderpath) if os.path.isdir(os.path.join(folderpath, f))]\n",
    "\n",
    "        for subfolder in subfolders:\n",
    "            subfolderpath = os.path.join(folderpath, subfolder)  \n",
    "\n",
    "            # Get list of CSV files\n",
    "            files = os.listdir(subfolderpath)\n",
    "\n",
    "            for file in files:\n",
    "                filepath = os.path.join(subfolderpath, file)\n",
    "\n",
    "                # Extract ID from filename \n",
    "                id = file.split('.')[0]\n",
    "\n",
    "                df = pd.read_csv(filepath)\n",
    "\n",
    "                # Downsample if needed\n",
    "                if downsample:\n",
    "                    df = df.sample(downsample)\n",
    "\n",
    "                # Add ID column - this is the filename without the extension\n",
    "                df['id'] = id\n",
    "\n",
    "                # Add 'condition' column\n",
    "                df['condition'] = subfolder\n",
    "\n",
    "                # Convert 'timestamp' and 'date' to datetime\n",
    "                df['timestamp'] = pd.to_datetime(df['timestamp'])\n",
    "                df['date'] = pd.to_datetime(df['date'])\n",
    "\n",
    "                # Append to dict by condition\n",
    "                if subfolder == 'control':\n",
    "                    dfs['control'].append(df)\n",
    "                else:  \n",
    "                    dfs['condition'].append(df)\n",
    "\n",
    "    except OSError:\n",
    "        print(f\"Error reading folder: {folderpath}\")\n",
    "\n",
    "    # concatenate dfs for each condition\n",
    "    dfs['control'] = pd.concat(dfs['control'])\n",
    "    dfs['condition'] = pd.concat(dfs['condition'])\n",
    "\n",
    "    # Reset index on the final df\n",
    "    df = pd.concat([dfs['control'], dfs['condition']]).reset_index(drop=True)\n",
    "\n",
    "    # add label column\n",
    "    df['label'] = 0\n",
    "    df.loc[df['condition'] == 'condition', 'label'] = 1\n",
    "    \n",
    "    # remove old 'condition' column\n",
    "    df.drop('condition', axis=1, inplace=True)\n",
    "\n",
    "    # Final concat\n",
    "    return df"
   ]
  },
  {
   "cell_type": "code",
   "execution_count": 3,
   "metadata": {},
   "outputs": [
    {
     "data": {
      "text/plain": [
       "(1571706, 5)"
      ]
     },
     "execution_count": 3,
     "metadata": {},
     "output_type": "execute_result"
    }
   ],
   "source": [
    "# Extration of all the acitvity data into one data frame\n",
    "\n",
    "df = extract_folder('../data/depresjon')\n",
    "df.shape\n"
   ]
  },
  {
   "cell_type": "code",
   "execution_count": 104,
   "metadata": {},
   "outputs": [],
   "source": [
    "# Function to clasify each row of data as either day (0) or night (1) \n",
    "\n",
    "def day_or_night (dataframe,day_start,day_end):\n",
    "    \n",
    "    # day night classifying function\n",
    "    def day_night_test(time):\n",
    "        if day_start <= time.hour < day_end:\n",
    "            return (0)\n",
    "        else:\n",
    "            return (1)\n",
    "    \n",
    "    # Create a copy of the data frame\n",
    "    dayNight_df = dataframe.copy()\n",
    "    \n",
    "    # Add in the new column with day or night values\n",
    "    dayNight_df['day_night'] = dayNight_df['timestamp'].apply(day_night_test)\n",
    "    return (dayNight_df)\n",
    "\n",
    "# Day values using rodriguez model values of 8:00 - 20:00. \n",
    "\n",
    "DN_df = day_or_night(df,8,20)"
   ]
  },
  {
   "cell_type": "code",
   "execution_count": 105,
   "metadata": {},
   "outputs": [],
   "source": [
    "# Function to create a field of acitve (1) and non-active (0) time\n",
    "\n",
    "def active_nonactive (dataframe):\n",
    "    \n",
    "    # function to test if a minute is active ('1') or inactive('0')\n",
    "    def time_test(activity):\n",
    "        if activity < 5:\n",
    "            return ('0')\n",
    "        else:\n",
    "            return ('1') \n",
    "    \n",
    "    # Create a copy of the data frame    \n",
    "    new_df = dataframe.copy()\n",
    "    \n",
    "    # Create a new column classifying each minute as acitve or inactive\n",
    "    new_df['col1'] = new_df['activity'].apply(time_test)\n",
    "    \n",
    "    # Create a new column that sums the 11 values (5 below and 5 above) the trigger value \n",
    "    new_df['col2'] = new_df['col1'].rolling(window=11, center=True).sum()\n",
    "    \n",
    "    # Function to test if a period is active or inactive\n",
    "    def activ_test(value):\n",
    "        if value >= 2:\n",
    "            return (1)    \n",
    "        elif value < 2:\n",
    "            return (0)\n",
    "        else:\n",
    "            return ('NaN')\n",
    "        \n",
    "    # Create the column of active or inactive periods   \n",
    "    new_df['active_inactive'] = new_df['col2'].apply(activ_test)\n",
    "    \n",
    "    # Drop the unnecessary columns created\n",
    "    new_df.drop(['col1','col2'], axis=1, inplace=True)\n",
    "    \n",
    "    return(new_df)\n",
    "\n",
    "active_df = active_nonactive(DN_df)"
   ]
  },
  {
   "cell_type": "code",
   "execution_count": 117,
   "metadata": {},
   "outputs": [],
   "source": [
    "# Read in sunlight data obtain from the website\n",
    "# Sunrise and sunset by month for Oslo \n",
    "# 'https://www.worlddata.info/europe/norway/sunset.php'\n",
    "\n",
    "sunlight = pd.read_csv('data/depresjon/Norway_Sunlight.csv')\n",
    "\n",
    "# add month column for merging \n",
    "active_df['month'] = pd.to_datetime(active_df['timestamp']).dt.month\n",
    "\n",
    "# merge dataframes\n",
    "merged_df = active_df.copy()\n",
    "merged_df = pd.merge(merged_df, sunlight, on='month', how='inner')\n",
    "\n",
    "# remove unnecessary columns       \n",
    "merged_df.drop('month', axis=1, inplace=True)"
   ]
  },
  {
   "cell_type": "code",
   "execution_count": 118,
   "metadata": {},
   "outputs": [
    {
     "name": "stderr",
     "output_type": "stream",
     "text": [
      "C:\\Users\\44778\\AppData\\Local\\Temp\\ipykernel_45788\\1526019979.py:8: UserWarning: Could not infer format, so each element will be parsed individually, falling back to `dateutil`. To ensure parsing is consistent and as-expected, please specify a format.\n",
      "  sunrise = pd.to_datetime(dataframe['sunrise']).dt.time\n",
      "C:\\Users\\44778\\AppData\\Local\\Temp\\ipykernel_45788\\1526019979.py:9: UserWarning: Could not infer format, so each element will be parsed individually, falling back to `dateutil`. To ensure parsing is consistent and as-expected, please specify a format.\n",
      "  sunset = pd.to_datetime(dataframe['sunset']).dt.time\n"
     ]
    }
   ],
   "source": [
    "# Function to clasify each row of data as either light (0) or dark (1) \n",
    "\n",
    "def light_dark(dataframe):\n",
    "    \n",
    "    # extract time, sunrise and sunset columns \n",
    "    # convert sunrise and sunset columns to time format        \n",
    "    dataframe['time'] = pd.to_datetime(dataframe['timestamp']).dt.time\n",
    "    sunrise = pd.to_datetime(dataframe['sunrise']).dt.time\n",
    "    sunset = pd.to_datetime(dataframe['sunset']).dt.time\n",
    "    time = dataframe['time']\n",
    "        \n",
    "    # create a list of when it is light(0) or dark(1)\n",
    "    size = len(sunrise)\n",
    "    light_dark = []\n",
    "    for n in range (0,size):\n",
    "        if sunrise[n] <= time[n] < sunset[n]:\n",
    "            light_dark.append(0)\n",
    "        else:\n",
    "            light_dark.append(1)\n",
    "\n",
    "    # add list as a new column 'light_dark' to dataframe    \n",
    "    dataframe['light_dark'] = light_dark\n",
    "\n",
    "    # remove unnecessary columns       \n",
    "    dataframe.drop(['time','sunrise','sunset'], axis=1, inplace=True)\n",
    "    \n",
    "    return(dataframe)\n",
    "    \n",
    "\n",
    "LD_df = light_dark(merged_df)"
   ]
  },
  {
   "cell_type": "code",
   "execution_count": 119,
   "metadata": {},
   "outputs": [],
   "source": [
    "def fullDays(dataframe):\n",
    "    participants = dataframe['id'].unique()\n",
    "    df_new = pd.DataFrame({})\n",
    "    for participant in participants:\n",
    "        df_tochange = dataframe[dataframe['id'] == participant]\n",
    "        min_timestamp = df_tochange['timestamp'].min()\n",
    "        min_date = df_tochange['date'].min()\n",
    "        \n",
    "        if min_date < min_timestamp:\n",
    "            min_fullday_date = min_date + timedelta(1)\n",
    "            df_minchange = df_tochange[df_tochange['date'] >= min_fullday_date]\n",
    "        else:\n",
    "            df_minchange = df_tochange.copy()\n",
    "        \n",
    "        max_timestamp = df_minchange['timestamp'].max()\n",
    "        max_date = df_minchange['date'].max()\n",
    "        \n",
    "        if max_date < max_timestamp:\n",
    "            df_maxchange = df_minchange[df_minchange['date'] < max_date]\n",
    "        else:\n",
    "            df_maxchange = df_minchange.copy()\n",
    "        \n",
    "        df_new = pd.concat([df_new,df_maxchange])\n",
    "        \n",
    "    return (df_new)\n",
    "\n",
    "fulldays_df = fullDays(LD_df)"
   ]
  },
  {
   "cell_type": "code",
   "execution_count": 120,
   "metadata": {},
   "outputs": [],
   "source": [
    "scores = pd.read_csv('data/depresjon/scores.csv')\n",
    "\n",
    "def trueDates (dataframe):\n",
    "    \n",
    "    df_new = pd.DataFrame({})\n",
    "    participants = dataframe['id'].unique()\n",
    "    \n",
    "    for participant in participants:\n",
    "        \n",
    "        df_tochange = dataframe[dataframe['id'] == participant]\n",
    "        trueDays = scores.loc[scores['number'] == participant, 'days'].values[0]\n",
    "        \n",
    "        min_date = dataframe.loc[dataframe['id'] == participant, 'date'].min()\n",
    "        min_truedate = min_date + timedelta(int(trueDays))\n",
    "        \n",
    "        df_reduce = df_tochange[df_tochange['date'] < min_truedate]\n",
    "        df_new = pd.concat([df_new,df_reduce])\n",
    "    \n",
    "    return (df_new)\n",
    "\n",
    "TD_df = trueDates(fulldays_df)"
   ]
  },
  {
   "cell_type": "code",
   "execution_count": 107,
   "metadata": {},
   "outputs": [
    {
     "data": {
      "image/png": "[encoded data removed]",
      "text/plain": [
       "<Figure size 1500x600 with 1 Axes>"
      ]
     },
     "metadata": {},
     "output_type": "display_data"
    }
   ],
   "source": [
    "plt.figure(figsize=(15, 6))\n",
    "\n",
    "palette = ['red' if condition == 'condition_8' \n",
    "           else 'blue' if condition in ['condition_16','condition_23','condition_2', 'control_2', 'control_28'] \n",
    "           else 'orange' for condition in scores['number']]\n",
    "\n",
    "ax = sns.barplot(data=scores, x='number', y='days',color='blue',palette=palette)\n",
    "plt.xticks(rotation=90)\n",
    "\n",
    "\n",
    "\n",
    "ax.plot(7,5.5,\"*\", markersize=10, color=\"r\")\n",
    "ax.plot(1,18.5,\"*\", markersize=10, color=\"b\")\n",
    "ax.plot(24,20.5,\"*\", markersize=10, color=\"b\")\n",
    "ax.plot(50,16.5,\"*\", markersize=10, color=\"b\")\n",
    "ax.plot(15,16.5,\"*\", markersize=10, color=\"b\")\n",
    "ax.plot(22,16.5,\"*\", markersize=10, color=\"b\")\n",
    "\n",
    "plt.show()"
   ]
  },
  {
   "cell_type": "code",
   "execution_count": 121,
   "metadata": {},
   "outputs": [],
   "source": [
    "def weekDays(dataframe):\n",
    "    \n",
    "    participants = dataframe['id'].unique()\n",
    "    df_new = pd.DataFrame({})\n",
    "    \n",
    "    for participant in participants:\n",
    "        \n",
    "        df_tochange = dataframe[dataframe['id'] == participant]\n",
    "        \n",
    "        min_date = pd.to_datetime(df_tochange['date']).min()\n",
    "        max_date = pd.to_datetime(df_tochange['date']).max()\n",
    "        week = min_date + timedelta(7)   \n",
    "        \n",
    "        df_week = df_tochange[df_tochange['date'] < week]\n",
    "                        \n",
    "        df_new = pd.concat([df_new,df_week])\n",
    "        \n",
    "    return (df_new)\n",
    "\n",
    "week_df = weekDays(TD_df)\n",
    "\n",
    "\n"
   ]
  },
  {
   "cell_type": "code",
   "execution_count": 122,
   "metadata": {},
   "outputs": [],
   "source": [
    "clean_df = week_df[week_df['id'] != \"condition_8\"]"
   ]
  },
  {
   "cell_type": "code",
   "execution_count": 125,
   "metadata": {},
   "outputs": [
    {
     "data": {
      "text/plain": [
       "timestamp          0\n",
       "date               0\n",
       "activity           0\n",
       "id                 0\n",
       "label              0\n",
       "day_night          0\n",
       "active_inactive    0\n",
       "light_dark         0\n",
       "dtype: int64"
      ]
     },
     "execution_count": 125,
     "metadata": {},
     "output_type": "execute_result"
    }
   ],
   "source": [
    "clean_df.isnull().sum()"
   ]
  },
  {
   "cell_type": "code",
   "execution_count": 124,
   "metadata": {},
   "outputs": [
    {
     "data": {
      "image/png": "[encoded data removed]",
      "text/plain": [
       "<Figure size 1500x600 with 1 Axes>"
      ]
     },
     "metadata": {},
     "output_type": "display_data"
    }
   ],
   "source": [
    "WD_df = clean_df.groupby('id').size().reset_index(name='count')\n",
    "\n",
    "plt.figure(figsize=(15, 6))\n",
    "\n",
    "palette = ['red' if condition == 'condition_8' \n",
    "           else 'blue' if condition in ['condition_16','condition_23','condition_2', 'control_2', 'control_28'] \n",
    "           else 'orange' for condition in WD_df['id']]\n",
    "\n",
    "\n",
    "\n",
    "\n",
    "sns.barplot(data=WD_df, x='id', y='count',color='blue', palette=palette)\n",
    "plt.xticks(rotation=90)\n",
    "plt.show()"
   ]
  },
  {
   "cell_type": "code",
   "execution_count": null,
   "metadata": {},
   "outputs": [],
   "source": []
  }
 ],
 "metadata": {
  "kernelspec": {
   "display_name": "base",
   "language": "python",
   "name": "python3"
  },
  "language_info": {
   "codemirror_mode": {
    "name": "ipython",
    "version": 3
   },
   "file_extension": ".py",
   "mimetype": "text/x-python",
   "name": "python",
   "nbconvert_exporter": "python",
   "pygments_lexer": "ipython3",
   "version": "3.11.5"
  }
 },
 "nbformat": 4,
 "nbformat_minor": 2
}
