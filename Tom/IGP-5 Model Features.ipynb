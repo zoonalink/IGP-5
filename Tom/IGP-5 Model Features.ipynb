{
 "cells": [
  {
   "cell_type": "code",
   "execution_count": 1,
   "metadata": {},
   "outputs": [],
   "source": [
    "# Import modules\n",
    "\n",
    "import os\n",
    "import pandas as pd\n",
    "import numpy as np\n",
    "import scipy.stats as sp\n",
    "import datetime\n",
    "import seaborn as sns\n",
    "from datetime import date, timedelta\n",
    "from matplotlib import pyplot as plt\n",
    "from scipy.stats import skew\n",
    "\n",
    "sns.set_style(style='whitegrid')\n",
    "sns.set_palette(palette='colorblind')"
   ]
  },
  {
   "cell_type": "code",
   "execution_count": 2,
   "metadata": {},
   "outputs": [],
   "source": [
    "# Petter's code for extracting all the data files and then combining them.\n",
    "\n",
    "def extract_folder(folderpath, add_scores=False, downsample=None):\n",
    "    \"\"\"\n",
    "    Extract CSV data from folder and subfolders into a dataframe.\n",
    "\n",
    "    Args:\n",
    "      folderpath (str): Path to the folder containing CSV files.\n",
    "      add_scores (bool, optional): Boolean to add scores.csv to the dataframe. Defaults to False.\n",
    "      downsample (int, optional): Number of rows to downsample CSVs to. Defaults to None.\n",
    "\n",
    "    Returns:\n",
    "      pandas.DataFrame: DataFrame of concatenated CSV data.\n",
    "    \"\"\"\n",
    "    import os\n",
    "    import pandas as pd\n",
    "    \n",
    "    # Dict to store dataframes by condition  \n",
    "    dfs = {'control': [], 'condition': []}\n",
    "\n",
    "    try:\n",
    "        # Handle top-level scores CSV\n",
    "        if add_scores and 'scores.csv' in os.listdir(folderpath):\n",
    "            scores_path = os.path.join(folderpath, 'scores.csv')  \n",
    "            dfs['scores'] = pd.read_csv(scores_path)\n",
    "\n",
    "        # Get subfolders\n",
    "        subfolders = [f for f in os.listdir(folderpath) if os.path.isdir(os.path.join(folderpath, f))]\n",
    "\n",
    "        for subfolder in subfolders:\n",
    "            subfolderpath = os.path.join(folderpath, subfolder)  \n",
    "\n",
    "            # Get list of CSV files\n",
    "            files = os.listdir(subfolderpath)\n",
    "\n",
    "            for file in files:\n",
    "                filepath = os.path.join(subfolderpath, file)\n",
    "\n",
    "                # Extract ID from filename \n",
    "                id = file.split('.')[0]\n",
    "\n",
    "                df = pd.read_csv(filepath)\n",
    "\n",
    "                # Downsample if needed\n",
    "                if downsample:\n",
    "                    df = df.sample(downsample)\n",
    "\n",
    "                # Add ID column - this is the filename without the extension\n",
    "                df['id'] = id\n",
    "\n",
    "                # Add 'condition' column\n",
    "                df['condition'] = subfolder\n",
    "\n",
    "                # Convert 'timestamp' and 'date' to datetime\n",
    "                df['timestamp'] = pd.to_datetime(df['timestamp'])\n",
    "                df['date'] = pd.to_datetime(df['date'])\n",
    "\n",
    "                # Append to dict by condition\n",
    "                if subfolder == 'control':\n",
    "                    dfs['control'].append(df)\n",
    "                else:  \n",
    "                    dfs['condition'].append(df)\n",
    "\n",
    "    except OSError:\n",
    "        print(f\"Error reading folder: {folderpath}\")\n",
    "\n",
    "    # concatenate dfs for each condition\n",
    "    dfs['control'] = pd.concat(dfs['control'])\n",
    "    dfs['condition'] = pd.concat(dfs['condition'])\n",
    "\n",
    "    # Reset index on the final df\n",
    "    df = pd.concat([dfs['control'], dfs['condition']]).reset_index(drop=True)\n",
    "\n",
    "    # add label column\n",
    "    df['label'] = 0\n",
    "    df.loc[df['condition'] == 'condition', 'label'] = 1\n",
    "    \n",
    "    # remove old 'condition' column\n",
    "    df.drop('condition', axis=1, inplace=True)\n",
    "\n",
    "    # Final concat\n",
    "    return df"
   ]
  },
  {
   "cell_type": "code",
   "execution_count": 3,
   "metadata": {},
   "outputs": [
    {
     "data": {
      "text/plain": [
       "(1571706, 5)"
      ]
     },
     "execution_count": 3,
     "metadata": {},
     "output_type": "execute_result"
    }
   ],
   "source": [
    "# Extration of all the acitvity data into one data frame\n",
    "\n",
    "df = extract_folder('../data/depresjon')\n",
    "df.shape\n"
   ]
  },
  {
   "cell_type": "code",
   "execution_count": 4,
   "metadata": {},
   "outputs": [],
   "source": [
    "# Function to clasify each row of data as either day (0) or night (1) \n",
    "\n",
    "def day_or_night (dataframe,day_start,day_end):\n",
    "    \n",
    "    # day night classifying function\n",
    "    def day_night_test(time):\n",
    "        if day_start <= time.hour < day_end:\n",
    "            return (0)\n",
    "        else:\n",
    "            return (1)\n",
    "    \n",
    "    # Create a copy of the data frame\n",
    "    dayNight_df = dataframe.copy()\n",
    "    \n",
    "    # Add in the new column with day or night values\n",
    "    dayNight_df['day_night'] = dayNight_df['timestamp'].apply(day_night_test)\n",
    "    return (dayNight_df)\n",
    "\n",
    "# Day values using rodriguez model values of 8:00 - 20:00. \n",
    "\n",
    "DN_df = day_or_night(df,8,20)"
   ]
  },
  {
   "cell_type": "code",
   "execution_count": 5,
   "metadata": {},
   "outputs": [],
   "source": [
    "# Function to create a field of acitve (1) and non-active (0) time\n",
    "\n",
    "def active_nonactive (dataframe):\n",
    "    \n",
    "    # function to test if a minute is active ('1') or inactive('0')\n",
    "    def time_test(activity):\n",
    "        if activity < 5:\n",
    "            return ('0')\n",
    "        else:\n",
    "            return ('1') \n",
    "    \n",
    "    # Create a copy of the data frame    \n",
    "    new_df = dataframe.copy()\n",
    "    \n",
    "    # Create a new column classifying each minute as acitve or inactive\n",
    "    new_df['col1'] = new_df['activity'].apply(time_test)\n",
    "    \n",
    "    # Create a new column that sums the 11 values (5 below and 5 above) the trigger value \n",
    "    new_df['col2'] = new_df['col1'].rolling(window=11, center=True).sum()\n",
    "    \n",
    "    # Function to test if a period is active or inactive\n",
    "    def activ_test(value):\n",
    "        if value >= 2:\n",
    "            return (1)    \n",
    "        elif value < 2:\n",
    "            return (0)\n",
    "        else:\n",
    "            return ('NaN')\n",
    "        \n",
    "    # Create the column of active or inactive periods   \n",
    "    new_df['active_inactive'] = new_df['col2'].apply(activ_test)\n",
    "    \n",
    "    # Drop the unnecessary columns created\n",
    "    new_df.drop(['col1','col2'], axis=1, inplace=True)\n",
    "    \n",
    "    return(new_df)\n",
    "\n",
    "active_df = active_nonactive(DN_df)"
   ]
  },
  {
   "cell_type": "code",
   "execution_count": 6,
   "metadata": {},
   "outputs": [],
   "source": [
    "# Read in sunlight data obtain from the website\n",
    "# Sunrise and sunset by month for Oslo \n",
    "# 'https://www.worlddata.info/europe/norway/sunset.php'\n",
    "\n",
    "sunlight = pd.read_csv('data/depresjon/Norway_Sunlight.csv')\n",
    "\n",
    "# add month column for merging \n",
    "active_df['month'] = pd.to_datetime(active_df['timestamp']).dt.month\n",
    "\n",
    "# merge dataframes\n",
    "merged_df = active_df.copy()\n",
    "merged_df = pd.merge(merged_df, sunlight, on='month', how='inner')\n",
    "\n",
    "# remove unnecessary columns       \n",
    "merged_df.drop('month', axis=1, inplace=True)"
   ]
  },
  {
   "cell_type": "code",
   "execution_count": 7,
   "metadata": {},
   "outputs": [
    {
     "name": "stderr",
     "output_type": "stream",
     "text": [
      "C:\\Users\\44778\\AppData\\Local\\Temp\\ipykernel_48032\\1526019979.py:8: UserWarning: Could not infer format, so each element will be parsed individually, falling back to `dateutil`. To ensure parsing is consistent and as-expected, please specify a format.\n",
      "  sunrise = pd.to_datetime(dataframe['sunrise']).dt.time\n",
      "C:\\Users\\44778\\AppData\\Local\\Temp\\ipykernel_48032\\1526019979.py:9: UserWarning: Could not infer format, so each element will be parsed individually, falling back to `dateutil`. To ensure parsing is consistent and as-expected, please specify a format.\n",
      "  sunset = pd.to_datetime(dataframe['sunset']).dt.time\n"
     ]
    }
   ],
   "source": [
    "# Function to clasify each row of data as either light (0) or dark (1) \n",
    "\n",
    "def light_dark(dataframe):\n",
    "    \n",
    "    # extract time, sunrise and sunset columns \n",
    "    # convert sunrise and sunset columns to time format        \n",
    "    dataframe['time'] = pd.to_datetime(dataframe['timestamp']).dt.time\n",
    "    sunrise = pd.to_datetime(dataframe['sunrise']).dt.time\n",
    "    sunset = pd.to_datetime(dataframe['sunset']).dt.time\n",
    "    time = dataframe['time']\n",
    "        \n",
    "    # create a list of when it is light(0) or dark(1)\n",
    "    size = len(sunrise)\n",
    "    light_dark = []\n",
    "    for n in range (0,size):\n",
    "        if sunrise[n] <= time[n] < sunset[n]:\n",
    "            light_dark.append(0)\n",
    "        else:\n",
    "            light_dark.append(1)\n",
    "\n",
    "    # add list as a new column 'light_dark' to dataframe    \n",
    "    dataframe['light_dark'] = light_dark\n",
    "\n",
    "    # remove unnecessary columns       \n",
    "    dataframe.drop(['time','sunrise','sunset'], axis=1, inplace=True)\n",
    "    \n",
    "    return(dataframe)\n",
    "    \n",
    "\n",
    "LD_df = light_dark(merged_df)"
   ]
  },
  {
   "cell_type": "code",
   "execution_count": 8,
   "metadata": {},
   "outputs": [],
   "source": [
    "# Function to extract only the full days\n",
    "\n",
    "def fullDays(dataframe):\n",
    "    \n",
    "    # Make a list of the particpants\n",
    "    participants = dataframe['id'].unique()\n",
    "    df_new = pd.DataFrame({})\n",
    "    \n",
    "    # Iterate through each participant creating subsets\n",
    "    for participant in participants:       \n",
    "        df_tochange = dataframe[dataframe['id'] == participant]\n",
    "        \n",
    "        # Identify min timestamps and date for comparison\n",
    "        min_timestamp = df_tochange['timestamp'].min()\n",
    "        min_date = df_tochange['date'].min()\n",
    "        \n",
    "        # Assign the starting date and time\n",
    "        if min_date < min_timestamp:\n",
    "            min_fullday_date = min_date + timedelta(1)\n",
    "            df_minchange = df_tochange[df_tochange['date'] >= min_fullday_date]\n",
    "        else:\n",
    "            df_minchange = df_tochange.copy()\n",
    "        \n",
    "        # Identify max timestamps and date for comparison        \n",
    "        max_timestamp = df_minchange['timestamp'].max()\n",
    "        max_date = df_minchange['date'].max()\n",
    "        \n",
    "        # Assign the ending date and time\n",
    "        if max_date < max_timestamp:\n",
    "            df_maxchange = df_minchange[df_minchange['date'] < max_date]\n",
    "        else:\n",
    "            df_maxchange = df_minchange.copy()\n",
    "        \n",
    "        # combine all subsets\n",
    "        df_new = pd.concat([df_new,df_maxchange])\n",
    "        \n",
    "    return (df_new)\n",
    "\n",
    "fulldays_df = fullDays(LD_df)"
   ]
  },
  {
   "cell_type": "code",
   "execution_count": 9,
   "metadata": {},
   "outputs": [],
   "source": [
    "# Read in the scores data\n",
    "scores = pd.read_csv('data/depresjon/scores.csv')\n",
    "\n",
    "# Function to match the amount of data to the number of days given in the scores dataset\n",
    "def trueDates (dataframe):\n",
    "    \n",
    "    # Create a blank dataframe\n",
    "    df_new = pd.DataFrame({})\n",
    "    \n",
    "    # Make a list of all participants\n",
    "    participants = dataframe['id'].unique()\n",
    "    \n",
    "    # Iterate through each participant creating subsets\n",
    "    for participant in participants:\n",
    "        df_tochange = dataframe[dataframe['id'] == participant]\n",
    "        \n",
    "        # Identify the true number of days on the scores dataset\n",
    "        trueDays = scores.loc[scores['number'] == participant, 'days'].values[0]\n",
    "        \n",
    "        # Assign min date and calcualte max date\n",
    "        min_date = dataframe.loc[dataframe['id'] == participant, 'date'].min()\n",
    "        max_truedate = min_date + timedelta(int(trueDays))\n",
    "        \n",
    "        # reduce the data set to match the true dates\n",
    "        df_reduce = df_tochange[df_tochange['date'] < max_truedate]\n",
    "        \n",
    "        # combine the dataframes\n",
    "        df_new = pd.concat([df_new,df_reduce])\n",
    "    \n",
    "    return (df_new)\n",
    "\n",
    "TD_df = trueDates(fulldays_df)"
   ]
  },
  {
   "cell_type": "markdown",
   "metadata": {},
   "source": [
    "## We decided to limit the data further to only full week"
   ]
  },
  {
   "cell_type": "code",
   "execution_count": 10,
   "metadata": {},
   "outputs": [
    {
     "data": {
      "image/png": "[encoded data removed]",
      "text/plain": [
       "<Figure size 1500x600 with 1 Axes>"
      ]
     },
     "metadata": {},
     "output_type": "display_data"
    }
   ],
   "source": [
    "# Plot to show the number of days\n",
    "\n",
    "plt.figure(figsize=(15, 6))\n",
    "\n",
    "palette = ['red' if condition == 'condition_8' \n",
    "           else 'blue' if condition in ['condition_16','condition_23','condition_2', 'control_2', 'control_28'] \n",
    "           else 'orange' for condition in scores['number']]\n",
    "\n",
    "ax = sns.barplot(data=scores, x='number', y='days',color='blue',palette=palette)\n",
    "plt.xticks(rotation=90)\n",
    "\n",
    "\n",
    "\n",
    "ax.plot(7,5.5,\"*\", markersize=10, color=\"r\")\n",
    "ax.plot(1,18.5,\"*\", markersize=10, color=\"b\")\n",
    "ax.plot(24,20.5,\"*\", markersize=10, color=\"b\")\n",
    "ax.plot(50,16.5,\"*\", markersize=10, color=\"b\")\n",
    "ax.plot(15,16.5,\"*\", markersize=10, color=\"b\")\n",
    "ax.plot(22,16.5,\"*\", markersize=10, color=\"b\")\n",
    "\n",
    "plt.show()"
   ]
  },
  {
   "cell_type": "code",
   "execution_count": 11,
   "metadata": {},
   "outputs": [],
   "source": [
    "def weekDays(dataframe):\n",
    "    \n",
    "    participants = dataframe['id'].unique()\n",
    "    df_new = pd.DataFrame({})\n",
    "    \n",
    "    for participant in participants:\n",
    "        \n",
    "        df_tochange = dataframe[dataframe['id'] == participant]\n",
    "        \n",
    "        min_date = pd.to_datetime(df_tochange['date']).min()\n",
    "        max_date = pd.to_datetime(df_tochange['date']).max()\n",
    "        week = min_date + timedelta(7)   \n",
    "        \n",
    "        days_difference = (max_date - min_date).days\n",
    "        if days_difference > 14:\n",
    "            week = min_date + timedelta(14) \n",
    "        else:\n",
    "            week = min_date + timedelta(7) \n",
    "        \n",
    "        df_week = df_tochange[df_tochange['date'] < week]\n",
    "                        \n",
    "        df_new = pd.concat([df_new,df_week])\n",
    "        \n",
    "    return (df_new)\n",
    "\n",
    "week_df = weekDays(TD_df)\n",
    "\n",
    "\n"
   ]
  },
  {
   "cell_type": "code",
   "execution_count": 12,
   "metadata": {},
   "outputs": [],
   "source": [
    "clean_df = week_df[week_df['id'] != \"condition_8\"]"
   ]
  },
  {
   "cell_type": "code",
   "execution_count": 13,
   "metadata": {},
   "outputs": [
    {
     "data": {
      "text/plain": [
       "timestamp          0\n",
       "date               0\n",
       "activity           0\n",
       "id                 0\n",
       "label              0\n",
       "day_night          0\n",
       "active_inactive    0\n",
       "light_dark         0\n",
       "dtype: int64"
      ]
     },
     "execution_count": 13,
     "metadata": {},
     "output_type": "execute_result"
    }
   ],
   "source": [
    "clean_df.isnull().sum()"
   ]
  },
  {
   "cell_type": "code",
   "execution_count": 14,
   "metadata": {},
   "outputs": [
    {
     "data": {
      "image/png": "[encoded data removed]",
      "text/plain": [
       "<Figure size 1500x600 with 1 Axes>"
      ]
     },
     "metadata": {},
     "output_type": "display_data"
    }
   ],
   "source": [
    "WD_df = clean_df.groupby('id').size().reset_index(name='count')\n",
    "\n",
    "plt.figure(figsize=(15, 6))\n",
    "\n",
    "palette = ['red' if condition == 'condition_8' \n",
    "           else 'blue' if condition in ['condition_16','condition_23','condition_2', 'control_2', 'control_28'] \n",
    "           else 'orange' for condition in WD_df['id']]\n",
    "\n",
    "sns.barplot(data=WD_df, x='id', y='count',color='blue', palette=palette)\n",
    "plt.xticks(rotation=90)\n",
    "plt.show()"
   ]
  },
  {
   "cell_type": "code",
   "execution_count": 15,
   "metadata": {},
   "outputs": [
    {
     "name": "stderr",
     "output_type": "stream",
     "text": [
      "C:\\Users\\44778\\AppData\\Local\\Temp\\ipykernel_48032\\2449371429.py:2: SettingWithCopyWarning: \n",
      "A value is trying to be set on a copy of a slice from a DataFrame.\n",
      "Try using .loc[row_indexer,col_indexer] = value instead\n",
      "\n",
      "See the caveats in the documentation: https://pandas.pydata.org/pandas-docs/stable/user_guide/indexing.html#returning-a-view-versus-a-copy\n",
      "  clean_df['day']=pd.to_datetime(clean_df['timestamp']).dt.day\n"
     ]
    }
   ],
   "source": [
    "# Add the day column\n",
    "clean_df['day']=pd.to_datetime(clean_df['timestamp']).dt.day\n",
    "\n",
    "# Rename the number column to \"id\" matching the data frames title\n",
    "scores.rename(columns={'number':'id'}, inplace=True)\n",
    "\n",
    "# merge data frames to add the gender column\n",
    "merged_df = pd.merge(clean_df, scores, on='id')\n",
    "\n",
    "# remove unused columns\n",
    "merged_df.drop(['days','age','afftype','melanch','inpatient','edu','marriage','work','madrs1','madrs2'], axis=1, inplace=True)"
   ]
  },
  {
   "cell_type": "code",
   "execution_count": 16,
   "metadata": {},
   "outputs": [],
   "source": [
    "def Percentzero (values):\n",
    "    zeros = (values == 0).sum().sum()\n",
    "    total_values = values.size\n",
    "    return zeros / total_values * 100\n",
    "\n",
    "# create a function to produce a table of features listed above\n",
    "\n",
    "def extract_features(dataframe):\n",
    "    \n",
    "    # Group by 'id' and 'label' columns\n",
    "    grouped = dataframe.groupby(['id', 'label','gender','day'])['activity']\n",
    "\n",
    "    # Calculate statistics for 'standardised_activity' within each group\n",
    "    features1_df = pd.DataFrame({\n",
    "        'mean' : grouped.mean(),\n",
    "        'std' : grouped.std(),\n",
    "        '%zero': grouped.apply(Percentzero),\n",
    "        'kurtosis': grouped.apply(lambda x: sp.kurtosis(x, fisher=False))\n",
    "    })\n",
    "\n",
    "    return features1_df\n",
    "    \n",
    "features1 = extract_features(merged_df).reset_index()"
   ]
  },
  {
   "cell_type": "code",
   "execution_count": 47,
   "metadata": {},
   "outputs": [],
   "source": [
    "# Function to find percentage activity at night/day/light/dark\n",
    "\n",
    "def activeAtNight (dataframe):\n",
    "    \n",
    "    dataframe['day_id']= dataframe['id'].astype(str) + \"-\" + dataframe['day'].astype(str)\n",
    "    \n",
    "    # Create a new empty dataframe\n",
    "    df_ndld = pd.DataFrame({})\n",
    "    \n",
    "    # Create a list of participants\n",
    "    participants = dataframe['day_id'].unique()\n",
    "\n",
    "    # List for storing values\n",
    "    participantList = []\n",
    "    dayList = []\n",
    "    activeNightList = []\n",
    "    inactiveDayList = []\n",
    "    activeDarkList = []\n",
    "    inactiveLightList = []\n",
    "    \n",
    "    \n",
    "    # Create a subset of the df for each participant\n",
    "    for participant in participants:\n",
    "        \n",
    "        df_tochange = dataframe[dataframe['day_id'] == participant]\n",
    "        \n",
    "        inactive_day = len(df_tochange[(df_tochange['day_night'] == 0) & (df_tochange['active_inactive'] == 0)])\n",
    "        active_night = len(df_tochange[(df_tochange['day_night'] == 1) & (df_tochange['active_inactive'] == 1)])\n",
    "        night = len(df_tochange[(df_tochange['day_night'] == 1)])\n",
    "        day = len(df_tochange[(df_tochange['day_night'] == 0)])\n",
    "        \n",
    "        inactive_light = len(df_tochange[(df_tochange['light_dark'] == 0) & (df_tochange['active_inactive'] == 0)])\n",
    "        active_dark = len(df_tochange[(df_tochange['light_dark'] == 1) & (df_tochange['active_inactive'] == 1)])\n",
    "        dark = len(df_tochange[(df_tochange['light_dark'] == 1)])\n",
    "        light = len(df_tochange[(df_tochange['light_dark'] == 0)])        \n",
    "        \n",
    "        participantList.append(participant)\n",
    "        dayList.append(day)\n",
    "        activeNightList.append(active_night/night)\n",
    "        inactiveDayList.append(inactive_day/day)\n",
    "        activeDarkList.append(active_dark/dark)\n",
    "        inactiveLightList.append(inactive_light/light)\n",
    "            \n",
    "    \n",
    "    df_ndld['day_id'] = participantList\n",
    "    df_ndld['day'] = dayList\n",
    "    df_ndld['activeNight'] = activeNightList\n",
    "    df_ndld['inactiveDay'] = inactiveDayList\n",
    "    df_ndld['activeDark'] = activeDarkList\n",
    "    df_ndld['inactiveLight'] = inactiveLightList\n",
    "    \n",
    "    df_ndld[['id', 'day']] = df_ndld['day_id'].str.split('-', expand=True)\n",
    "    df_ndld.drop('day_id', axis=1 , inplace=True)\n",
    "    df_ndld['day'] = df_ndld['day'].astype(int)        \n",
    "    return(df_ndld)\n",
    "\n",
    "AN = activeAtNight(merged_df)"
   ]
  },
  {
   "cell_type": "code",
   "execution_count": 48,
   "metadata": {},
   "outputs": [],
   "source": [
    "features_full = pd.merge(AN, features1, on=['id','day'], how='inner')"
   ]
  },
  {
   "cell_type": "code",
   "execution_count": 49,
   "metadata": {},
   "outputs": [
    {
     "data": {
      "text/html": [
       "<div>\n",
       "<style scoped>\n",
       "    .dataframe tbody tr th:only-of-type {\n",
       "        vertical-align: middle;\n",
       "    }\n",
       "\n",
       "    .dataframe tbody tr th {\n",
       "        vertical-align: top;\n",
       "    }\n",
       "\n",
       "    .dataframe thead th {\n",
       "        text-align: right;\n",
       "    }\n",
       "</style>\n",
       "<table border=\"1\" class=\"dataframe\">\n",
       "  <thead>\n",
       "    <tr style=\"text-align: right;\">\n",
       "      <th></th>\n",
       "      <th>day</th>\n",
       "      <th>activeNight</th>\n",
       "      <th>inactiveDay</th>\n",
       "      <th>activeDark</th>\n",
       "      <th>inactiveLight</th>\n",
       "      <th>id</th>\n",
       "      <th>label</th>\n",
       "      <th>gender</th>\n",
       "      <th>mean</th>\n",
       "      <th>std</th>\n",
       "      <th>%zero</th>\n",
       "      <th>kurtosis</th>\n",
       "    </tr>\n",
       "  </thead>\n",
       "  <tbody>\n",
       "    <tr>\n",
       "      <th>0</th>\n",
       "      <td>19</td>\n",
       "      <td>0.583333</td>\n",
       "      <td>0.027778</td>\n",
       "      <td>0.657967</td>\n",
       "      <td>0.099719</td>\n",
       "      <td>control_1</td>\n",
       "      <td>0</td>\n",
       "      <td>2</td>\n",
       "      <td>185.568056</td>\n",
       "      <td>346.555786</td>\n",
       "      <td>38.680556</td>\n",
       "      <td>16.792497</td>\n",
       "    </tr>\n",
       "    <tr>\n",
       "      <th>1</th>\n",
       "      <td>20</td>\n",
       "      <td>0.645833</td>\n",
       "      <td>0.041667</td>\n",
       "      <td>0.664835</td>\n",
       "      <td>0.057584</td>\n",
       "      <td>control_1</td>\n",
       "      <td>0</td>\n",
       "      <td>2</td>\n",
       "      <td>225.981250</td>\n",
       "      <td>384.378661</td>\n",
       "      <td>35.833333</td>\n",
       "      <td>8.981030</td>\n",
       "    </tr>\n",
       "    <tr>\n",
       "      <th>2</th>\n",
       "      <td>21</td>\n",
       "      <td>0.516667</td>\n",
       "      <td>0.125000</td>\n",
       "      <td>0.575549</td>\n",
       "      <td>0.181180</td>\n",
       "      <td>control_1</td>\n",
       "      <td>0</td>\n",
       "      <td>2</td>\n",
       "      <td>169.663194</td>\n",
       "      <td>304.317895</td>\n",
       "      <td>45.625000</td>\n",
       "      <td>11.216640</td>\n",
       "    </tr>\n",
       "    <tr>\n",
       "      <th>3</th>\n",
       "      <td>22</td>\n",
       "      <td>0.590278</td>\n",
       "      <td>0.051389</td>\n",
       "      <td>0.686813</td>\n",
       "      <td>0.146067</td>\n",
       "      <td>control_1</td>\n",
       "      <td>0</td>\n",
       "      <td>2</td>\n",
       "      <td>183.690972</td>\n",
       "      <td>277.006551</td>\n",
       "      <td>36.111111</td>\n",
       "      <td>12.226471</td>\n",
       "    </tr>\n",
       "    <tr>\n",
       "      <th>4</th>\n",
       "      <td>23</td>\n",
       "      <td>1.000000</td>\n",
       "      <td>0.000000</td>\n",
       "      <td>1.000000</td>\n",
       "      <td>0.000000</td>\n",
       "      <td>control_1</td>\n",
       "      <td>0</td>\n",
       "      <td>2</td>\n",
       "      <td>347.075000</td>\n",
       "      <td>236.845868</td>\n",
       "      <td>2.361111</td>\n",
       "      <td>10.741366</td>\n",
       "    </tr>\n",
       "    <tr>\n",
       "      <th>...</th>\n",
       "      <td>...</td>\n",
       "      <td>...</td>\n",
       "      <td>...</td>\n",
       "      <td>...</td>\n",
       "      <td>...</td>\n",
       "      <td>...</td>\n",
       "      <td>...</td>\n",
       "      <td>...</td>\n",
       "      <td>...</td>\n",
       "      <td>...</td>\n",
       "      <td>...</td>\n",
       "      <td>...</td>\n",
       "    </tr>\n",
       "    <tr>\n",
       "      <th>408</th>\n",
       "      <td>15</td>\n",
       "      <td>0.731944</td>\n",
       "      <td>0.050000</td>\n",
       "      <td>0.725490</td>\n",
       "      <td>0.127866</td>\n",
       "      <td>condition_5</td>\n",
       "      <td>1</td>\n",
       "      <td>2</td>\n",
       "      <td>139.443056</td>\n",
       "      <td>230.621545</td>\n",
       "      <td>35.277778</td>\n",
       "      <td>14.206414</td>\n",
       "    </tr>\n",
       "    <tr>\n",
       "      <th>409</th>\n",
       "      <td>16</td>\n",
       "      <td>0.593056</td>\n",
       "      <td>0.147222</td>\n",
       "      <td>0.562092</td>\n",
       "      <td>0.233686</td>\n",
       "      <td>condition_5</td>\n",
       "      <td>1</td>\n",
       "      <td>2</td>\n",
       "      <td>135.969444</td>\n",
       "      <td>259.973544</td>\n",
       "      <td>45.208333</td>\n",
       "      <td>20.453804</td>\n",
       "    </tr>\n",
       "    <tr>\n",
       "      <th>410</th>\n",
       "      <td>17</td>\n",
       "      <td>0.686111</td>\n",
       "      <td>0.162500</td>\n",
       "      <td>0.735294</td>\n",
       "      <td>0.231041</td>\n",
       "      <td>condition_5</td>\n",
       "      <td>1</td>\n",
       "      <td>2</td>\n",
       "      <td>146.593056</td>\n",
       "      <td>245.481979</td>\n",
       "      <td>39.513889</td>\n",
       "      <td>9.365841</td>\n",
       "    </tr>\n",
       "    <tr>\n",
       "      <th>411</th>\n",
       "      <td>18</td>\n",
       "      <td>0.826389</td>\n",
       "      <td>0.163889</td>\n",
       "      <td>0.983660</td>\n",
       "      <td>0.209877</td>\n",
       "      <td>condition_5</td>\n",
       "      <td>1</td>\n",
       "      <td>2</td>\n",
       "      <td>152.128472</td>\n",
       "      <td>263.493448</td>\n",
       "      <td>33.472222</td>\n",
       "      <td>12.793927</td>\n",
       "    </tr>\n",
       "    <tr>\n",
       "      <th>412</th>\n",
       "      <td>19</td>\n",
       "      <td>0.716667</td>\n",
       "      <td>0.061111</td>\n",
       "      <td>0.924837</td>\n",
       "      <td>0.198413</td>\n",
       "      <td>condition_5</td>\n",
       "      <td>1</td>\n",
       "      <td>2</td>\n",
       "      <td>151.879861</td>\n",
       "      <td>243.248273</td>\n",
       "      <td>32.013889</td>\n",
       "      <td>9.097025</td>\n",
       "    </tr>\n",
       "  </tbody>\n",
       "</table>\n",
       "<p>413 rows × 12 columns</p>\n",
       "</div>"
      ],
      "text/plain": [
       "     day  activeNight  inactiveDay  activeDark  inactiveLight           id  \\\n",
       "0     19     0.583333     0.027778    0.657967       0.099719    control_1   \n",
       "1     20     0.645833     0.041667    0.664835       0.057584    control_1   \n",
       "2     21     0.516667     0.125000    0.575549       0.181180    control_1   \n",
       "3     22     0.590278     0.051389    0.686813       0.146067    control_1   \n",
       "4     23     1.000000     0.000000    1.000000       0.000000    control_1   \n",
       "..   ...          ...          ...         ...            ...          ...   \n",
       "408   15     0.731944     0.050000    0.725490       0.127866  condition_5   \n",
       "409   16     0.593056     0.147222    0.562092       0.233686  condition_5   \n",
       "410   17     0.686111     0.162500    0.735294       0.231041  condition_5   \n",
       "411   18     0.826389     0.163889    0.983660       0.209877  condition_5   \n",
       "412   19     0.716667     0.061111    0.924837       0.198413  condition_5   \n",
       "\n",
       "     label  gender        mean         std      %zero   kurtosis  \n",
       "0        0       2  185.568056  346.555786  38.680556  16.792497  \n",
       "1        0       2  225.981250  384.378661  35.833333   8.981030  \n",
       "2        0       2  169.663194  304.317895  45.625000  11.216640  \n",
       "3        0       2  183.690972  277.006551  36.111111  12.226471  \n",
       "4        0       2  347.075000  236.845868   2.361111  10.741366  \n",
       "..     ...     ...         ...         ...        ...        ...  \n",
       "408      1       2  139.443056  230.621545  35.277778  14.206414  \n",
       "409      1       2  135.969444  259.973544  45.208333  20.453804  \n",
       "410      1       2  146.593056  245.481979  39.513889   9.365841  \n",
       "411      1       2  152.128472  263.493448  33.472222  12.793927  \n",
       "412      1       2  151.879861  243.248273  32.013889   9.097025  \n",
       "\n",
       "[413 rows x 12 columns]"
      ]
     },
     "execution_count": 49,
     "metadata": {},
     "output_type": "execute_result"
    }
   ],
   "source": [
    "features_full"
   ]
  },
  {
   "cell_type": "code",
   "execution_count": 54,
   "metadata": {},
   "outputs": [],
   "source": [
    "features_full = features_full.reindex(columns=['gender','label','mean','std','%zero', 'activeNight', 'inactiveDay',\n",
    "       'activeDark', 'inactiveLight'])"
   ]
  },
  {
   "cell_type": "code",
   "execution_count": 55,
   "metadata": {},
   "outputs": [],
   "source": [
    "male_features = features_full[features_full['gender'] == 2] \n",
    "female_features = features_full[features_full['gender'] == 1] "
   ]
  },
  {
   "cell_type": "code",
   "execution_count": 88,
   "metadata": {},
   "outputs": [
    {
     "ename": "KeyError",
     "evalue": "\"['gender'] not found in axis\"",
     "output_type": "error",
     "traceback": [
      "\u001b[1;31m---------------------------------------------------------------------------\u001b[0m",
      "\u001b[1;31mKeyError\u001b[0m                                  Traceback (most recent call last)",
      "Cell \u001b[1;32mIn[88], line 1\u001b[0m\n\u001b[1;32m----> 1\u001b[0m \u001b[43mmale_features\u001b[49m\u001b[38;5;241;43m.\u001b[39;49m\u001b[43mdrop\u001b[49m\u001b[43m(\u001b[49m\u001b[38;5;124;43m'\u001b[39;49m\u001b[38;5;124;43mgender\u001b[39;49m\u001b[38;5;124;43m'\u001b[39;49m\u001b[43m,\u001b[49m\u001b[43m \u001b[49m\u001b[43maxis\u001b[49m\u001b[38;5;241;43m=\u001b[39;49m\u001b[38;5;241;43m1\u001b[39;49m\u001b[43m,\u001b[49m\u001b[43m \u001b[49m\u001b[43minplace\u001b[49m\u001b[38;5;241;43m=\u001b[39;49m\u001b[38;5;28;43;01mTrue\u001b[39;49;00m\u001b[43m)\u001b[49m\n\u001b[0;32m      2\u001b[0m male_features\n",
      "File \u001b[1;32mc:\\Users\\44778\\anaconda3\\Lib\\site-packages\\pandas\\core\\frame.py:5258\u001b[0m, in \u001b[0;36mDataFrame.drop\u001b[1;34m(self, labels, axis, index, columns, level, inplace, errors)\u001b[0m\n\u001b[0;32m   5110\u001b[0m \u001b[38;5;28;01mdef\u001b[39;00m \u001b[38;5;21mdrop\u001b[39m(\n\u001b[0;32m   5111\u001b[0m     \u001b[38;5;28mself\u001b[39m,\n\u001b[0;32m   5112\u001b[0m     labels: IndexLabel \u001b[38;5;241m=\u001b[39m \u001b[38;5;28;01mNone\u001b[39;00m,\n\u001b[1;32m   (...)\u001b[0m\n\u001b[0;32m   5119\u001b[0m     errors: IgnoreRaise \u001b[38;5;241m=\u001b[39m \u001b[38;5;124m\"\u001b[39m\u001b[38;5;124mraise\u001b[39m\u001b[38;5;124m\"\u001b[39m,\n\u001b[0;32m   5120\u001b[0m ) \u001b[38;5;241m-\u001b[39m\u001b[38;5;241m>\u001b[39m DataFrame \u001b[38;5;241m|\u001b[39m \u001b[38;5;28;01mNone\u001b[39;00m:\n\u001b[0;32m   5121\u001b[0m \u001b[38;5;250m    \u001b[39m\u001b[38;5;124;03m\"\"\"\u001b[39;00m\n\u001b[0;32m   5122\u001b[0m \u001b[38;5;124;03m    Drop specified labels from rows or columns.\u001b[39;00m\n\u001b[0;32m   5123\u001b[0m \n\u001b[1;32m   (...)\u001b[0m\n\u001b[0;32m   5256\u001b[0m \u001b[38;5;124;03m            weight  1.0     0.8\u001b[39;00m\n\u001b[0;32m   5257\u001b[0m \u001b[38;5;124;03m    \"\"\"\u001b[39;00m\n\u001b[1;32m-> 5258\u001b[0m     \u001b[38;5;28;01mreturn\u001b[39;00m \u001b[38;5;28;43msuper\u001b[39;49m\u001b[43m(\u001b[49m\u001b[43m)\u001b[49m\u001b[38;5;241;43m.\u001b[39;49m\u001b[43mdrop\u001b[49m\u001b[43m(\u001b[49m\n\u001b[0;32m   5259\u001b[0m \u001b[43m        \u001b[49m\u001b[43mlabels\u001b[49m\u001b[38;5;241;43m=\u001b[39;49m\u001b[43mlabels\u001b[49m\u001b[43m,\u001b[49m\n\u001b[0;32m   5260\u001b[0m \u001b[43m        \u001b[49m\u001b[43maxis\u001b[49m\u001b[38;5;241;43m=\u001b[39;49m\u001b[43maxis\u001b[49m\u001b[43m,\u001b[49m\n\u001b[0;32m   5261\u001b[0m \u001b[43m        \u001b[49m\u001b[43mindex\u001b[49m\u001b[38;5;241;43m=\u001b[39;49m\u001b[43mindex\u001b[49m\u001b[43m,\u001b[49m\n\u001b[0;32m   5262\u001b[0m \u001b[43m        \u001b[49m\u001b[43mcolumns\u001b[49m\u001b[38;5;241;43m=\u001b[39;49m\u001b[43mcolumns\u001b[49m\u001b[43m,\u001b[49m\n\u001b[0;32m   5263\u001b[0m \u001b[43m        \u001b[49m\u001b[43mlevel\u001b[49m\u001b[38;5;241;43m=\u001b[39;49m\u001b[43mlevel\u001b[49m\u001b[43m,\u001b[49m\n\u001b[0;32m   5264\u001b[0m \u001b[43m        \u001b[49m\u001b[43minplace\u001b[49m\u001b[38;5;241;43m=\u001b[39;49m\u001b[43minplace\u001b[49m\u001b[43m,\u001b[49m\n\u001b[0;32m   5265\u001b[0m \u001b[43m        \u001b[49m\u001b[43merrors\u001b[49m\u001b[38;5;241;43m=\u001b[39;49m\u001b[43merrors\u001b[49m\u001b[43m,\u001b[49m\n\u001b[0;32m   5266\u001b[0m \u001b[43m    \u001b[49m\u001b[43m)\u001b[49m\n",
      "File \u001b[1;32mc:\\Users\\44778\\anaconda3\\Lib\\site-packages\\pandas\\core\\generic.py:4549\u001b[0m, in \u001b[0;36mNDFrame.drop\u001b[1;34m(self, labels, axis, index, columns, level, inplace, errors)\u001b[0m\n\u001b[0;32m   4547\u001b[0m \u001b[38;5;28;01mfor\u001b[39;00m axis, labels \u001b[38;5;129;01min\u001b[39;00m axes\u001b[38;5;241m.\u001b[39mitems():\n\u001b[0;32m   4548\u001b[0m     \u001b[38;5;28;01mif\u001b[39;00m labels \u001b[38;5;129;01mis\u001b[39;00m \u001b[38;5;129;01mnot\u001b[39;00m \u001b[38;5;28;01mNone\u001b[39;00m:\n\u001b[1;32m-> 4549\u001b[0m         obj \u001b[38;5;241m=\u001b[39m \u001b[43mobj\u001b[49m\u001b[38;5;241;43m.\u001b[39;49m\u001b[43m_drop_axis\u001b[49m\u001b[43m(\u001b[49m\u001b[43mlabels\u001b[49m\u001b[43m,\u001b[49m\u001b[43m \u001b[49m\u001b[43maxis\u001b[49m\u001b[43m,\u001b[49m\u001b[43m \u001b[49m\u001b[43mlevel\u001b[49m\u001b[38;5;241;43m=\u001b[39;49m\u001b[43mlevel\u001b[49m\u001b[43m,\u001b[49m\u001b[43m \u001b[49m\u001b[43merrors\u001b[49m\u001b[38;5;241;43m=\u001b[39;49m\u001b[43merrors\u001b[49m\u001b[43m)\u001b[49m\n\u001b[0;32m   4551\u001b[0m \u001b[38;5;28;01mif\u001b[39;00m inplace:\n\u001b[0;32m   4552\u001b[0m     \u001b[38;5;28mself\u001b[39m\u001b[38;5;241m.\u001b[39m_update_inplace(obj)\n",
      "File \u001b[1;32mc:\\Users\\44778\\anaconda3\\Lib\\site-packages\\pandas\\core\\generic.py:4591\u001b[0m, in \u001b[0;36mNDFrame._drop_axis\u001b[1;34m(self, labels, axis, level, errors, only_slice)\u001b[0m\n\u001b[0;32m   4589\u001b[0m         new_axis \u001b[38;5;241m=\u001b[39m axis\u001b[38;5;241m.\u001b[39mdrop(labels, level\u001b[38;5;241m=\u001b[39mlevel, errors\u001b[38;5;241m=\u001b[39merrors)\n\u001b[0;32m   4590\u001b[0m     \u001b[38;5;28;01melse\u001b[39;00m:\n\u001b[1;32m-> 4591\u001b[0m         new_axis \u001b[38;5;241m=\u001b[39m \u001b[43maxis\u001b[49m\u001b[38;5;241;43m.\u001b[39;49m\u001b[43mdrop\u001b[49m\u001b[43m(\u001b[49m\u001b[43mlabels\u001b[49m\u001b[43m,\u001b[49m\u001b[43m \u001b[49m\u001b[43merrors\u001b[49m\u001b[38;5;241;43m=\u001b[39;49m\u001b[43merrors\u001b[49m\u001b[43m)\u001b[49m\n\u001b[0;32m   4592\u001b[0m     indexer \u001b[38;5;241m=\u001b[39m axis\u001b[38;5;241m.\u001b[39mget_indexer(new_axis)\n\u001b[0;32m   4594\u001b[0m \u001b[38;5;66;03m# Case for non-unique axis\u001b[39;00m\n\u001b[0;32m   4595\u001b[0m \u001b[38;5;28;01melse\u001b[39;00m:\n",
      "File \u001b[1;32mc:\\Users\\44778\\anaconda3\\Lib\\site-packages\\pandas\\core\\indexes\\base.py:6699\u001b[0m, in \u001b[0;36mIndex.drop\u001b[1;34m(self, labels, errors)\u001b[0m\n\u001b[0;32m   6697\u001b[0m \u001b[38;5;28;01mif\u001b[39;00m mask\u001b[38;5;241m.\u001b[39many():\n\u001b[0;32m   6698\u001b[0m     \u001b[38;5;28;01mif\u001b[39;00m errors \u001b[38;5;241m!=\u001b[39m \u001b[38;5;124m\"\u001b[39m\u001b[38;5;124mignore\u001b[39m\u001b[38;5;124m\"\u001b[39m:\n\u001b[1;32m-> 6699\u001b[0m         \u001b[38;5;28;01mraise\u001b[39;00m \u001b[38;5;167;01mKeyError\u001b[39;00m(\u001b[38;5;124mf\u001b[39m\u001b[38;5;124m\"\u001b[39m\u001b[38;5;132;01m{\u001b[39;00m\u001b[38;5;28mlist\u001b[39m(labels[mask])\u001b[38;5;132;01m}\u001b[39;00m\u001b[38;5;124m not found in axis\u001b[39m\u001b[38;5;124m\"\u001b[39m)\n\u001b[0;32m   6700\u001b[0m     indexer \u001b[38;5;241m=\u001b[39m indexer[\u001b[38;5;241m~\u001b[39mmask]\n\u001b[0;32m   6701\u001b[0m \u001b[38;5;28;01mreturn\u001b[39;00m \u001b[38;5;28mself\u001b[39m\u001b[38;5;241m.\u001b[39mdelete(indexer)\n",
      "\u001b[1;31mKeyError\u001b[0m: \"['gender'] not found in axis\""
     ]
    }
   ],
   "source": [
    "male_features.drop('gender', axis=1, inplace=True)\n",
    "male_features"
   ]
  },
  {
   "cell_type": "code",
   "execution_count": 89,
   "metadata": {},
   "outputs": [
    {
     "ename": "KeyError",
     "evalue": "\"['gender'] not found in axis\"",
     "output_type": "error",
     "traceback": [
      "\u001b[1;31m---------------------------------------------------------------------------\u001b[0m",
      "\u001b[1;31mKeyError\u001b[0m                                  Traceback (most recent call last)",
      "Cell \u001b[1;32mIn[89], line 1\u001b[0m\n\u001b[1;32m----> 1\u001b[0m \u001b[43mfemale_features\u001b[49m\u001b[38;5;241;43m.\u001b[39;49m\u001b[43mdrop\u001b[49m\u001b[43m(\u001b[49m\u001b[38;5;124;43m'\u001b[39;49m\u001b[38;5;124;43mgender\u001b[39;49m\u001b[38;5;124;43m'\u001b[39;49m\u001b[43m,\u001b[49m\u001b[43m \u001b[49m\u001b[43maxis\u001b[49m\u001b[38;5;241;43m=\u001b[39;49m\u001b[38;5;241;43m1\u001b[39;49m\u001b[43m,\u001b[49m\u001b[43m \u001b[49m\u001b[43minplace\u001b[49m\u001b[38;5;241;43m=\u001b[39;49m\u001b[38;5;28;43;01mTrue\u001b[39;49;00m\u001b[43m)\u001b[49m\n\u001b[0;32m      2\u001b[0m female_features\n",
      "File \u001b[1;32mc:\\Users\\44778\\anaconda3\\Lib\\site-packages\\pandas\\core\\frame.py:5258\u001b[0m, in \u001b[0;36mDataFrame.drop\u001b[1;34m(self, labels, axis, index, columns, level, inplace, errors)\u001b[0m\n\u001b[0;32m   5110\u001b[0m \u001b[38;5;28;01mdef\u001b[39;00m \u001b[38;5;21mdrop\u001b[39m(\n\u001b[0;32m   5111\u001b[0m     \u001b[38;5;28mself\u001b[39m,\n\u001b[0;32m   5112\u001b[0m     labels: IndexLabel \u001b[38;5;241m=\u001b[39m \u001b[38;5;28;01mNone\u001b[39;00m,\n\u001b[1;32m   (...)\u001b[0m\n\u001b[0;32m   5119\u001b[0m     errors: IgnoreRaise \u001b[38;5;241m=\u001b[39m \u001b[38;5;124m\"\u001b[39m\u001b[38;5;124mraise\u001b[39m\u001b[38;5;124m\"\u001b[39m,\n\u001b[0;32m   5120\u001b[0m ) \u001b[38;5;241m-\u001b[39m\u001b[38;5;241m>\u001b[39m DataFrame \u001b[38;5;241m|\u001b[39m \u001b[38;5;28;01mNone\u001b[39;00m:\n\u001b[0;32m   5121\u001b[0m \u001b[38;5;250m    \u001b[39m\u001b[38;5;124;03m\"\"\"\u001b[39;00m\n\u001b[0;32m   5122\u001b[0m \u001b[38;5;124;03m    Drop specified labels from rows or columns.\u001b[39;00m\n\u001b[0;32m   5123\u001b[0m \n\u001b[1;32m   (...)\u001b[0m\n\u001b[0;32m   5256\u001b[0m \u001b[38;5;124;03m            weight  1.0     0.8\u001b[39;00m\n\u001b[0;32m   5257\u001b[0m \u001b[38;5;124;03m    \"\"\"\u001b[39;00m\n\u001b[1;32m-> 5258\u001b[0m     \u001b[38;5;28;01mreturn\u001b[39;00m \u001b[38;5;28;43msuper\u001b[39;49m\u001b[43m(\u001b[49m\u001b[43m)\u001b[49m\u001b[38;5;241;43m.\u001b[39;49m\u001b[43mdrop\u001b[49m\u001b[43m(\u001b[49m\n\u001b[0;32m   5259\u001b[0m \u001b[43m        \u001b[49m\u001b[43mlabels\u001b[49m\u001b[38;5;241;43m=\u001b[39;49m\u001b[43mlabels\u001b[49m\u001b[43m,\u001b[49m\n\u001b[0;32m   5260\u001b[0m \u001b[43m        \u001b[49m\u001b[43maxis\u001b[49m\u001b[38;5;241;43m=\u001b[39;49m\u001b[43maxis\u001b[49m\u001b[43m,\u001b[49m\n\u001b[0;32m   5261\u001b[0m \u001b[43m        \u001b[49m\u001b[43mindex\u001b[49m\u001b[38;5;241;43m=\u001b[39;49m\u001b[43mindex\u001b[49m\u001b[43m,\u001b[49m\n\u001b[0;32m   5262\u001b[0m \u001b[43m        \u001b[49m\u001b[43mcolumns\u001b[49m\u001b[38;5;241;43m=\u001b[39;49m\u001b[43mcolumns\u001b[49m\u001b[43m,\u001b[49m\n\u001b[0;32m   5263\u001b[0m \u001b[43m        \u001b[49m\u001b[43mlevel\u001b[49m\u001b[38;5;241;43m=\u001b[39;49m\u001b[43mlevel\u001b[49m\u001b[43m,\u001b[49m\n\u001b[0;32m   5264\u001b[0m \u001b[43m        \u001b[49m\u001b[43minplace\u001b[49m\u001b[38;5;241;43m=\u001b[39;49m\u001b[43minplace\u001b[49m\u001b[43m,\u001b[49m\n\u001b[0;32m   5265\u001b[0m \u001b[43m        \u001b[49m\u001b[43merrors\u001b[49m\u001b[38;5;241;43m=\u001b[39;49m\u001b[43merrors\u001b[49m\u001b[43m,\u001b[49m\n\u001b[0;32m   5266\u001b[0m \u001b[43m    \u001b[49m\u001b[43m)\u001b[49m\n",
      "File \u001b[1;32mc:\\Users\\44778\\anaconda3\\Lib\\site-packages\\pandas\\core\\generic.py:4549\u001b[0m, in \u001b[0;36mNDFrame.drop\u001b[1;34m(self, labels, axis, index, columns, level, inplace, errors)\u001b[0m\n\u001b[0;32m   4547\u001b[0m \u001b[38;5;28;01mfor\u001b[39;00m axis, labels \u001b[38;5;129;01min\u001b[39;00m axes\u001b[38;5;241m.\u001b[39mitems():\n\u001b[0;32m   4548\u001b[0m     \u001b[38;5;28;01mif\u001b[39;00m labels \u001b[38;5;129;01mis\u001b[39;00m \u001b[38;5;129;01mnot\u001b[39;00m \u001b[38;5;28;01mNone\u001b[39;00m:\n\u001b[1;32m-> 4549\u001b[0m         obj \u001b[38;5;241m=\u001b[39m \u001b[43mobj\u001b[49m\u001b[38;5;241;43m.\u001b[39;49m\u001b[43m_drop_axis\u001b[49m\u001b[43m(\u001b[49m\u001b[43mlabels\u001b[49m\u001b[43m,\u001b[49m\u001b[43m \u001b[49m\u001b[43maxis\u001b[49m\u001b[43m,\u001b[49m\u001b[43m \u001b[49m\u001b[43mlevel\u001b[49m\u001b[38;5;241;43m=\u001b[39;49m\u001b[43mlevel\u001b[49m\u001b[43m,\u001b[49m\u001b[43m \u001b[49m\u001b[43merrors\u001b[49m\u001b[38;5;241;43m=\u001b[39;49m\u001b[43merrors\u001b[49m\u001b[43m)\u001b[49m\n\u001b[0;32m   4551\u001b[0m \u001b[38;5;28;01mif\u001b[39;00m inplace:\n\u001b[0;32m   4552\u001b[0m     \u001b[38;5;28mself\u001b[39m\u001b[38;5;241m.\u001b[39m_update_inplace(obj)\n",
      "File \u001b[1;32mc:\\Users\\44778\\anaconda3\\Lib\\site-packages\\pandas\\core\\generic.py:4591\u001b[0m, in \u001b[0;36mNDFrame._drop_axis\u001b[1;34m(self, labels, axis, level, errors, only_slice)\u001b[0m\n\u001b[0;32m   4589\u001b[0m         new_axis \u001b[38;5;241m=\u001b[39m axis\u001b[38;5;241m.\u001b[39mdrop(labels, level\u001b[38;5;241m=\u001b[39mlevel, errors\u001b[38;5;241m=\u001b[39merrors)\n\u001b[0;32m   4590\u001b[0m     \u001b[38;5;28;01melse\u001b[39;00m:\n\u001b[1;32m-> 4591\u001b[0m         new_axis \u001b[38;5;241m=\u001b[39m \u001b[43maxis\u001b[49m\u001b[38;5;241;43m.\u001b[39;49m\u001b[43mdrop\u001b[49m\u001b[43m(\u001b[49m\u001b[43mlabels\u001b[49m\u001b[43m,\u001b[49m\u001b[43m \u001b[49m\u001b[43merrors\u001b[49m\u001b[38;5;241;43m=\u001b[39;49m\u001b[43merrors\u001b[49m\u001b[43m)\u001b[49m\n\u001b[0;32m   4592\u001b[0m     indexer \u001b[38;5;241m=\u001b[39m axis\u001b[38;5;241m.\u001b[39mget_indexer(new_axis)\n\u001b[0;32m   4594\u001b[0m \u001b[38;5;66;03m# Case for non-unique axis\u001b[39;00m\n\u001b[0;32m   4595\u001b[0m \u001b[38;5;28;01melse\u001b[39;00m:\n",
      "File \u001b[1;32mc:\\Users\\44778\\anaconda3\\Lib\\site-packages\\pandas\\core\\indexes\\base.py:6699\u001b[0m, in \u001b[0;36mIndex.drop\u001b[1;34m(self, labels, errors)\u001b[0m\n\u001b[0;32m   6697\u001b[0m \u001b[38;5;28;01mif\u001b[39;00m mask\u001b[38;5;241m.\u001b[39many():\n\u001b[0;32m   6698\u001b[0m     \u001b[38;5;28;01mif\u001b[39;00m errors \u001b[38;5;241m!=\u001b[39m \u001b[38;5;124m\"\u001b[39m\u001b[38;5;124mignore\u001b[39m\u001b[38;5;124m\"\u001b[39m:\n\u001b[1;32m-> 6699\u001b[0m         \u001b[38;5;28;01mraise\u001b[39;00m \u001b[38;5;167;01mKeyError\u001b[39;00m(\u001b[38;5;124mf\u001b[39m\u001b[38;5;124m\"\u001b[39m\u001b[38;5;132;01m{\u001b[39;00m\u001b[38;5;28mlist\u001b[39m(labels[mask])\u001b[38;5;132;01m}\u001b[39;00m\u001b[38;5;124m not found in axis\u001b[39m\u001b[38;5;124m\"\u001b[39m)\n\u001b[0;32m   6700\u001b[0m     indexer \u001b[38;5;241m=\u001b[39m indexer[\u001b[38;5;241m~\u001b[39mmask]\n\u001b[0;32m   6701\u001b[0m \u001b[38;5;28;01mreturn\u001b[39;00m \u001b[38;5;28mself\u001b[39m\u001b[38;5;241m.\u001b[39mdelete(indexer)\n",
      "\u001b[1;31mKeyError\u001b[0m: \"['gender'] not found in axis\""
     ]
    }
   ],
   "source": [
    "female_features.drop('gender', axis=1, inplace=True)\n",
    "female_features"
   ]
  },
  {
   "cell_type": "code",
   "execution_count": 90,
   "metadata": {},
   "outputs": [],
   "source": [
    "# Load ML modules\n",
    "\n",
    "from sklearn.model_selection import train_test_split\n",
    "from sklearn.neighbors import KNeighborsClassifier\n",
    "from sklearn.ensemble import RandomForestClassifier\n",
    "from sklearn.tree import DecisionTreeClassifier\n",
    "from sklearn.naive_bayes import GaussianNB\n",
    "from sklearn.linear_model import LogisticRegression\n",
    "from sklearn.svm import SVC\n",
    "from sklearn.metrics import precision_score, recall_score, f1_score\n",
    "from sklearn.metrics import confusion_matrix\n"
   ]
  },
  {
   "cell_type": "code",
   "execution_count": 91,
   "metadata": {},
   "outputs": [],
   "source": [
    "# Split the data into train and test\n",
    "\n",
    "X_male = male_features.iloc[:, 1:]  # Features (train data)\n",
    "y_male = male_features.iloc[:, 0]   # Target (test data)\n",
    "\n",
    "X_Female = female_features.iloc[:, 1:]  # Features (train data)\n",
    "y_Female = female_features.iloc[:, 0]   # Target (test data)\n",
    "\n",
    "# Split data into train and test sets\n",
    "XM_train, XM_test, yM_train, yM_test = train_test_split(X_male, y_male, test_size=0.3, random_state=42)\n",
    "XF_train, XF_test, yF_train, yF_test = train_test_split(X_Female, y_Female, test_size=0.3, random_state=42)\n",
    "\n",
    "\n"
   ]
  },
  {
   "cell_type": "code",
   "execution_count": 92,
   "metadata": {},
   "outputs": [],
   "source": [
    "trainTestList = [XM_train, XM_test, yM_train, yM_test, XF_train, XF_test, yF_train, yF_test]"
   ]
  },
  {
   "cell_type": "code",
   "execution_count": 93,
   "metadata": {},
   "outputs": [],
   "source": [
    "# Min-max scaling\n",
    "\n",
    "def min_max_scale(dataframe):\n",
    "    \n",
    "    col_list = dataframe.columns\n",
    "    \n",
    "    df = dataframe.copy()\n",
    "    \n",
    "    for col in col_list:\n",
    "        Xmin = df[col].min()\n",
    "        Xmax = df[col].max()    \n",
    "        \n",
    "        if Xmax-Xmin > 0:\n",
    "            df[col] = (df[col]-Xmin)/(Xmax-Xmin)\n",
    "        \n",
    "    return (df)"
   ]
  },
  {
   "cell_type": "code",
   "execution_count": 94,
   "metadata": {},
   "outputs": [],
   "source": [
    "def print_metrics(pred,test):\n",
    "    \n",
    "    # Calculate True Positives, True Negatives, False Positives, False Negatives\n",
    "    true_positive = ((pred == 1) & (test == 1)).sum()\n",
    "    true_negative = ((pred == 0) & (test == 0)).sum()\n",
    "    false_positive = ((pred == 1) & (test == 0)).sum()\n",
    "    false_negative = ((pred == 0) & (test == 1)).sum()\n",
    "\n",
    "    # Calculate additional metrics\n",
    "    if true_positive + false_negative == 0:\n",
    "        sensitivity = \"NaN\"\n",
    "    else:\n",
    "        sensitivity = true_positive / (true_positive + false_negative)\n",
    "    \n",
    "    if true_negative + false_positive == 0:\n",
    "        specificity = \"NaN\"\n",
    "    else:\n",
    "        specificity = true_negative / (true_negative + false_positive)\n",
    "\n",
    "    if true_positive + false_positive == 0:\n",
    "        ppv = \"NaN\"\n",
    "    else:\n",
    "        ppv = true_positive / (true_positive + false_positive)\n",
    "    \n",
    "    if true_negative + false_negative == 0:\n",
    "        npv = \"NaN\"\n",
    "    else:\n",
    "        npv = true_negative / (true_negative + false_negative)\n",
    "    \n",
    "    if true_positive + true_negative + false_positive + false_negative == 0:\n",
    "        accuracy = \"NaN\"\n",
    "    else:\n",
    "        accuracy = (true_positive + true_negative) / (true_positive + true_negative + false_positive + false_negative)\n",
    "        \n",
    "\n",
    "    # Create a DataFrame\n",
    "    results_df = pd.DataFrame({\n",
    "        'Metric': ['Accuracy', 'True Positive','True Negative', 'False Positive', 'False Negative', \n",
    "                   'Sensitivity', 'Specificity', 'Predictive Value (PPV)', \n",
    "                   'Negative Predicted Value'],\n",
    "        'Value': [accuracy, true_positive, true_negative, false_positive, false_negative, \n",
    "                  sensitivity, specificity, ppv, npv]\n",
    "    })\n",
    "\n",
    "    # Display the DataFrame\n",
    "    print(results_df)"
   ]
  },
  {
   "cell_type": "code",
   "execution_count": 105,
   "metadata": {},
   "outputs": [],
   "source": [
    "def run_ml_algorithms(data,color):\n",
    "    \n",
    "    X = data.iloc[:, 1:]  # Features (train data)\n",
    "    y = data.iloc[:, 0]   # Target (test data)\n",
    "\n",
    "    # Split data into train and test sets\n",
    "    X_train, X_test, y_train, y_test = train_test_split(X, y, test_size=0.3, random_state=42)\n",
    "\n",
    "    # Normalise the data\n",
    "    X_train = min_max_scale(X_train)\n",
    "    X_test = min_max_scale(X_test)\n",
    "           \n",
    "    # Initialize classifiers\n",
    "    classifiers = {\n",
    "        'KNN': KNeighborsClassifier(),\n",
    "        'RF': RandomForestClassifier(),\n",
    "        'Decision Tree': DecisionTreeClassifier(),\n",
    "        'Naive Bayes': GaussianNB(),\n",
    "        'Logistic Regression': LogisticRegression(),\n",
    "        'SVM': SVC()\n",
    "    }\n",
    "\n",
    "    results = {}\n",
    "\n",
    "    for name, clf in classifiers.items():\n",
    "        clf.fit(X_train, y_train)  # Train the model\n",
    "        y_pred = clf.predict(X_test)  # Predict on test data\n",
    "\n",
    "        \n",
    "        print(name)\n",
    "        print()\n",
    "        print_metrics(y_pred,y_test)\n",
    "        print()\n",
    "        print()\n",
    "    \n",
    "        conf_matrix = confusion_matrix(y_test, y_pred)\n",
    "        sns.heatmap(conf_matrix, annot=True, fmt='d', cmap=color)\n",
    "        plt.xlabel('Predicted')\n",
    "        plt.ylabel('True')\n",
    "        plt.show()\n",
    "        \n",
    "\n",
    "    return results"
   ]
  },
  {
   "cell_type": "code",
   "execution_count": 107,
   "metadata": {},
   "outputs": [
    {
     "name": "stdout",
     "output_type": "stream",
     "text": [
      "KNN\n",
      "\n",
      "                     Metric      Value\n",
      "0                  Accuracy   0.836364\n",
      "1             True Positive  22.000000\n",
      "2             True Negative  24.000000\n",
      "3            False Positive   7.000000\n",
      "4            False Negative   2.000000\n",
      "5               Sensitivity   0.916667\n",
      "6               Specificity   0.774194\n",
      "7    Predictive Value (PPV)   0.758621\n",
      "8  Negative Predicted Value   0.923077\n",
      "\n",
      "\n"
     ]
    },
    {
     "data": {
      "image/png": "[encoded data removed]",
      "text/plain": [
       "<Figure size 640x480 with 2 Axes>"
      ]
     },
     "metadata": {},
     "output_type": "display_data"
    },
    {
     "name": "stdout",
     "output_type": "stream",
     "text": [
      "RF\n",
      "\n",
      "                     Metric      Value\n",
      "0                  Accuracy   0.909091\n",
      "1             True Positive  24.000000\n",
      "2             True Negative  26.000000\n",
      "3            False Positive   5.000000\n",
      "4            False Negative   0.000000\n",
      "5               Sensitivity   1.000000\n",
      "6               Specificity   0.838710\n",
      "7    Predictive Value (PPV)   0.827586\n",
      "8  Negative Predicted Value   1.000000\n",
      "\n",
      "\n"
     ]
    },
    {
     "data": {
      "image/png": "[encoded data removed]",
      "text/plain": [
       "<Figure size 640x480 with 2 Axes>"
      ]
     },
     "metadata": {},
     "output_type": "display_data"
    },
    {
     "name": "stdout",
     "output_type": "stream",
     "text": [
      "Decision Tree\n",
      "\n",
      "                     Metric      Value\n",
      "0                  Accuracy   0.854545\n",
      "1             True Positive  22.000000\n",
      "2             True Negative  25.000000\n",
      "3            False Positive   6.000000\n",
      "4            False Negative   2.000000\n",
      "5               Sensitivity   0.916667\n",
      "6               Specificity   0.806452\n",
      "7    Predictive Value (PPV)   0.785714\n",
      "8  Negative Predicted Value   0.925926\n",
      "\n",
      "\n"
     ]
    },
    {
     "data": {
      "image/png": "[encoded data removed]",
      "text/plain": [
       "<Figure size 640x480 with 2 Axes>"
      ]
     },
     "metadata": {},
     "output_type": "display_data"
    },
    {
     "name": "stdout",
     "output_type": "stream",
     "text": [
      "Naive Bayes\n",
      "\n",
      "                     Metric      Value\n",
      "0                  Accuracy   0.800000\n",
      "1             True Positive  19.000000\n",
      "2             True Negative  25.000000\n",
      "3            False Positive   6.000000\n",
      "4            False Negative   5.000000\n",
      "5               Sensitivity   0.791667\n",
      "6               Specificity   0.806452\n",
      "7    Predictive Value (PPV)   0.760000\n",
      "8  Negative Predicted Value   0.833333\n",
      "\n",
      "\n"
     ]
    },
    {
     "data": {
      "image/png": "[encoded data removed]",
      "text/plain": [
       "<Figure size 640x480 with 2 Axes>"
      ]
     },
     "metadata": {},
     "output_type": "display_data"
    },
    {
     "name": "stdout",
     "output_type": "stream",
     "text": [
      "Logistic Regression\n",
      "\n",
      "                     Metric      Value\n",
      "0                  Accuracy   0.781818\n",
      "1             True Positive  20.000000\n",
      "2             True Negative  23.000000\n",
      "3            False Positive   8.000000\n",
      "4            False Negative   4.000000\n",
      "5               Sensitivity   0.833333\n",
      "6               Specificity   0.741935\n",
      "7    Predictive Value (PPV)   0.714286\n",
      "8  Negative Predicted Value   0.851852\n",
      "\n",
      "\n"
     ]
    },
    {
     "data": {
      "image/png": "[encoded data removed]",
      "text/plain": [
       "<Figure size 640x480 with 2 Axes>"
      ]
     },
     "metadata": {},
     "output_type": "display_data"
    },
    {
     "name": "stdout",
     "output_type": "stream",
     "text": [
      "SVM\n",
      "\n",
      "                     Metric      Value\n",
      "0                  Accuracy   0.854545\n",
      "1             True Positive  23.000000\n",
      "2             True Negative  24.000000\n",
      "3            False Positive   7.000000\n",
      "4            False Negative   1.000000\n",
      "5               Sensitivity   0.958333\n",
      "6               Specificity   0.774194\n",
      "7    Predictive Value (PPV)   0.766667\n",
      "8  Negative Predicted Value   0.960000\n",
      "\n",
      "\n"
     ]
    },
    {
     "data": {
      "image/png": "[encoded data removed]",
      "text/plain": [
       "<Figure size 640x480 with 2 Axes>"
      ]
     },
     "metadata": {},
     "output_type": "display_data"
    },
    {
     "name": "stdout",
     "output_type": "stream",
     "text": [
      "KNN\n",
      "\n",
      "                     Metric      Value\n",
      "0                  Accuracy   0.771429\n",
      "1             True Positive  15.000000\n",
      "2             True Negative  39.000000\n",
      "3            False Positive   6.000000\n",
      "4            False Negative  10.000000\n",
      "5               Sensitivity   0.600000\n",
      "6               Specificity   0.866667\n",
      "7    Predictive Value (PPV)   0.714286\n",
      "8  Negative Predicted Value   0.795918\n",
      "\n",
      "\n"
     ]
    },
    {
     "data": {
      "image/png": "[encoded data removed]",
      "text/plain": [
       "<Figure size 640x480 with 2 Axes>"
      ]
     },
     "metadata": {},
     "output_type": "display_data"
    },
    {
     "name": "stdout",
     "output_type": "stream",
     "text": [
      "RF\n",
      "\n",
      "                     Metric      Value\n",
      "0                  Accuracy   0.814286\n",
      "1             True Positive  18.000000\n",
      "2             True Negative  39.000000\n",
      "3            False Positive   6.000000\n",
      "4            False Negative   7.000000\n",
      "5               Sensitivity   0.720000\n",
      "6               Specificity   0.866667\n",
      "7    Predictive Value (PPV)   0.750000\n",
      "8  Negative Predicted Value   0.847826\n",
      "\n",
      "\n"
     ]
    },
    {
     "data": {
      "image/png": "[encoded data removed]",
      "text/plain": [
       "<Figure size 640x480 with 2 Axes>"
      ]
     },
     "metadata": {},
     "output_type": "display_data"
    },
    {
     "name": "stdout",
     "output_type": "stream",
     "text": [
      "Decision Tree\n",
      "\n",
      "                     Metric      Value\n",
      "0                  Accuracy   0.714286\n",
      "1             True Positive  15.000000\n",
      "2             True Negative  35.000000\n",
      "3            False Positive  10.000000\n",
      "4            False Negative  10.000000\n",
      "5               Sensitivity   0.600000\n",
      "6               Specificity   0.777778\n",
      "7    Predictive Value (PPV)   0.600000\n",
      "8  Negative Predicted Value   0.777778\n",
      "\n",
      "\n"
     ]
    },
    {
     "data": {
      "image/png": "[encoded data removed]",
      "text/plain": [
       "<Figure size 640x480 with 2 Axes>"
      ]
     },
     "metadata": {},
     "output_type": "display_data"
    },
    {
     "name": "stdout",
     "output_type": "stream",
     "text": [
      "Naive Bayes\n",
      "\n",
      "                     Metric      Value\n",
      "0                  Accuracy   0.728571\n",
      "1             True Positive  16.000000\n",
      "2             True Negative  35.000000\n",
      "3            False Positive  10.000000\n",
      "4            False Negative   9.000000\n",
      "5               Sensitivity   0.640000\n",
      "6               Specificity   0.777778\n",
      "7    Predictive Value (PPV)   0.615385\n",
      "8  Negative Predicted Value   0.795455\n",
      "\n",
      "\n"
     ]
    },
    {
     "data": {
      "image/png": "[encoded data removed]",
      "text/plain": [
       "<Figure size 640x480 with 2 Axes>"
      ]
     },
     "metadata": {},
     "output_type": "display_data"
    },
    {
     "name": "stdout",
     "output_type": "stream",
     "text": [
      "Logistic Regression\n",
      "\n",
      "                     Metric      Value\n",
      "0                  Accuracy   0.785714\n",
      "1             True Positive  14.000000\n",
      "2             True Negative  41.000000\n",
      "3            False Positive   4.000000\n",
      "4            False Negative  11.000000\n",
      "5               Sensitivity   0.560000\n",
      "6               Specificity   0.911111\n",
      "7    Predictive Value (PPV)   0.777778\n",
      "8  Negative Predicted Value   0.788462\n",
      "\n",
      "\n"
     ]
    },
    {
     "data": {
      "image/png": "[encoded data removed]",
      "text/plain": [
       "<Figure size 640x480 with 2 Axes>"
      ]
     },
     "metadata": {},
     "output_type": "display_data"
    },
    {
     "name": "stdout",
     "output_type": "stream",
     "text": [
      "SVM\n",
      "\n",
      "                     Metric      Value\n",
      "0                  Accuracy   0.814286\n",
      "1             True Positive  17.000000\n",
      "2             True Negative  40.000000\n",
      "3            False Positive   5.000000\n",
      "4            False Negative   8.000000\n",
      "5               Sensitivity   0.680000\n",
      "6               Specificity   0.888889\n",
      "7    Predictive Value (PPV)   0.772727\n",
      "8  Negative Predicted Value   0.833333\n",
      "\n",
      "\n"
     ]
    },
    {
     "data": {
      "image/png": "[encoded data removed]",
      "text/plain": [
       "<Figure size 640x480 with 2 Axes>"
      ]
     },
     "metadata": {},
     "output_type": "display_data"
    },
    {
     "data": {
      "text/plain": [
       "{}"
      ]
     },
     "execution_count": 107,
     "metadata": {},
     "output_type": "execute_result"
    }
   ],
   "source": [
    "run_ml_algorithms(male_features,'Blues')\n",
    "run_ml_algorithms(female_features,'Reds')"
   ]
  },
  {
   "cell_type": "code",
   "execution_count": null,
   "metadata": {},
   "outputs": [],
   "source": []
  }
 ],
 "metadata": {
  "kernelspec": {
   "display_name": "base",
   "language": "python",
   "name": "python3"
  },
  "language_info": {
   "codemirror_mode": {
    "name": "ipython",
    "version": 3
   },
   "file_extension": ".py",
   "mimetype": "text/x-python",
   "name": "python",
   "nbconvert_exporter": "python",
   "pygments_lexer": "ipython3",
   "version": "3.11.5"
  }
 },
 "nbformat": 4,
 "nbformat_minor": 2
}
