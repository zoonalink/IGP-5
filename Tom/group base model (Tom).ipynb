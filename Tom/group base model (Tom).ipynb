{
 "cells": [
  {
   "cell_type": "markdown",
   "metadata": {},
   "source": [
    "Preprocessing\n",
    "\n",
    "1. Extract Data. (Use Petter's Code)\n",
    "\n",
    "2. Crop the data to full days (Petter has code)\n",
    "\n",
    "3. Extract days to match the days in the scores csv.\n",
    "(A csv file exists if you wish to skip these steps)\n",
    "\n"
   ]
  },
  {
   "cell_type": "code",
   "execution_count": 1,
   "metadata": {},
   "outputs": [],
   "source": [
    "# Import modules\n",
    "\n",
    "import os\n",
    "import pandas as pd\n",
    "import numpy as np\n",
    "import scipy as sp\n",
    "import datetime\n",
    "import seaborn as sns\n",
    "from datetime import date, timedelta\n",
    "from matplotlib import pyplot as plt\n",
    "from scipy.stats import skew"
   ]
  },
  {
   "cell_type": "code",
   "execution_count": 2,
   "metadata": {},
   "outputs": [],
   "source": [
    "# Petter's code for extracting all the data files and then combining them.\n",
    "\n",
    "def extract_folder(folderpath, add_scores=False, downsample=None):\n",
    "    \"\"\"\n",
    "    Extract CSV data from folder and subfolders into a dataframe.\n",
    "\n",
    "    Args:\n",
    "      folderpath (str): Path to the folder containing CSV files.\n",
    "      add_scores (bool, optional): Boolean to add scores.csv to the dataframe. Defaults to False.\n",
    "      downsample (int, optional): Number of rows to downsample CSVs to. Defaults to None.\n",
    "\n",
    "    Returns:\n",
    "      pandas.DataFrame: DataFrame of concatenated CSV data.\n",
    "    \"\"\"\n",
    "    import os\n",
    "    import pandas as pd\n",
    "    \n",
    "    # Dict to store dataframes by condition  \n",
    "    dfs = {'control': [], 'condition': []}\n",
    "\n",
    "    try:\n",
    "        # Handle top-level scores CSV\n",
    "        if add_scores and 'scores.csv' in os.listdir(folderpath):\n",
    "            scores_path = os.path.join(folderpath, 'scores.csv')  \n",
    "            dfs['scores'] = pd.read_csv(scores_path)\n",
    "\n",
    "        # Get subfolders\n",
    "        subfolders = [f for f in os.listdir(folderpath) if os.path.isdir(os.path.join(folderpath, f))]\n",
    "\n",
    "        for subfolder in subfolders:\n",
    "            subfolderpath = os.path.join(folderpath, subfolder)  \n",
    "\n",
    "            # Get list of CSV files\n",
    "            files = os.listdir(subfolderpath)\n",
    "\n",
    "            for file in files:\n",
    "                filepath = os.path.join(subfolderpath, file)\n",
    "\n",
    "                # Extract ID from filename \n",
    "                id = file.split('.')[0]\n",
    "\n",
    "                df = pd.read_csv(filepath)\n",
    "\n",
    "                # Downsample if needed\n",
    "                if downsample:\n",
    "                    df = df.sample(downsample)\n",
    "\n",
    "                # Add ID column - this is the filename without the extension\n",
    "                df['id'] = id\n",
    "\n",
    "                # Add 'condition' column\n",
    "                df['condition'] = subfolder\n",
    "\n",
    "                # Convert 'timestamp' and 'date' to datetime\n",
    "                df['timestamp'] = pd.to_datetime(df['timestamp'])\n",
    "                df['date'] = pd.to_datetime(df['date'])\n",
    "\n",
    "                # Append to dict by condition\n",
    "                if subfolder == 'control':\n",
    "                    dfs['control'].append(df)\n",
    "                else:  \n",
    "                    dfs['condition'].append(df)\n",
    "\n",
    "    except OSError:\n",
    "        print(f\"Error reading folder: {folderpath}\")\n",
    "\n",
    "    # concatenate dfs for each condition\n",
    "    dfs['control'] = pd.concat(dfs['control'])\n",
    "    dfs['condition'] = pd.concat(dfs['condition'])\n",
    "\n",
    "    # Reset index on the final df\n",
    "    df = pd.concat([dfs['control'], dfs['condition']]).reset_index(drop=True)\n",
    "\n",
    "    # add label column\n",
    "    df['label'] = 0\n",
    "    df.loc[df['condition'] == 'condition', 'label'] = 1\n",
    "    \n",
    "    # remove old 'condition' column\n",
    "    df.drop('condition', axis=1, inplace=True)\n",
    "\n",
    "    # Final concat\n",
    "    return df"
   ]
  },
  {
   "cell_type": "code",
   "execution_count": 3,
   "metadata": {},
   "outputs": [
    {
     "data": {
      "text/plain": [
       "(1571706, 5)"
      ]
     },
     "execution_count": 3,
     "metadata": {},
     "output_type": "execute_result"
    }
   ],
   "source": [
    "# Extration of all the acitvity data into one data frame\n",
    "\n",
    "df = extract_folder('../data/depresjon')\n",
    "df.shape\n"
   ]
  },
  {
   "cell_type": "code",
   "execution_count": 4,
   "metadata": {},
   "outputs": [
    {
     "data": {
      "text/html": [
       "<div>\n",
       "<style scoped>\n",
       "    .dataframe tbody tr th:only-of-type {\n",
       "        vertical-align: middle;\n",
       "    }\n",
       "\n",
       "    .dataframe tbody tr th {\n",
       "        vertical-align: top;\n",
       "    }\n",
       "\n",
       "    .dataframe thead th {\n",
       "        text-align: right;\n",
       "    }\n",
       "</style>\n",
       "<table border=\"1\" class=\"dataframe\">\n",
       "  <thead>\n",
       "    <tr style=\"text-align: right;\">\n",
       "      <th></th>\n",
       "      <th>timestamp</th>\n",
       "      <th>date</th>\n",
       "      <th>activity</th>\n",
       "      <th>id</th>\n",
       "      <th>label</th>\n",
       "    </tr>\n",
       "  </thead>\n",
       "  <tbody>\n",
       "    <tr>\n",
       "      <th>0</th>\n",
       "      <td>2003-03-18 15:00:00</td>\n",
       "      <td>2003-03-18</td>\n",
       "      <td>60</td>\n",
       "      <td>control_1</td>\n",
       "      <td>0</td>\n",
       "    </tr>\n",
       "    <tr>\n",
       "      <th>1</th>\n",
       "      <td>2003-03-18 15:01:00</td>\n",
       "      <td>2003-03-18</td>\n",
       "      <td>0</td>\n",
       "      <td>control_1</td>\n",
       "      <td>0</td>\n",
       "    </tr>\n",
       "    <tr>\n",
       "      <th>2</th>\n",
       "      <td>2003-03-18 15:02:00</td>\n",
       "      <td>2003-03-18</td>\n",
       "      <td>264</td>\n",
       "      <td>control_1</td>\n",
       "      <td>0</td>\n",
       "    </tr>\n",
       "    <tr>\n",
       "      <th>3</th>\n",
       "      <td>2003-03-18 15:03:00</td>\n",
       "      <td>2003-03-18</td>\n",
       "      <td>662</td>\n",
       "      <td>control_1</td>\n",
       "      <td>0</td>\n",
       "    </tr>\n",
       "    <tr>\n",
       "      <th>4</th>\n",
       "      <td>2003-03-18 15:04:00</td>\n",
       "      <td>2003-03-18</td>\n",
       "      <td>293</td>\n",
       "      <td>control_1</td>\n",
       "      <td>0</td>\n",
       "    </tr>\n",
       "  </tbody>\n",
       "</table>\n",
       "</div>"
      ],
      "text/plain": [
       "            timestamp       date  activity         id  label\n",
       "0 2003-03-18 15:00:00 2003-03-18        60  control_1      0\n",
       "1 2003-03-18 15:01:00 2003-03-18         0  control_1      0\n",
       "2 2003-03-18 15:02:00 2003-03-18       264  control_1      0\n",
       "3 2003-03-18 15:03:00 2003-03-18       662  control_1      0\n",
       "4 2003-03-18 15:04:00 2003-03-18       293  control_1      0"
      ]
     },
     "execution_count": 4,
     "metadata": {},
     "output_type": "execute_result"
    }
   ],
   "source": [
    "df.head()"
   ]
  },
  {
   "cell_type": "code",
   "execution_count": 5,
   "metadata": {},
   "outputs": [],
   "source": [
    "control_1 = df[df['id'] == \"control_1\"]"
   ]
  },
  {
   "cell_type": "code",
   "execution_count": 6,
   "metadata": {},
   "outputs": [],
   "source": [
    "def fullDays(dataframe):\n",
    "    participants = dataframe['id'].unique()\n",
    "    df_new = pd.DataFrame({})\n",
    "    for participant in participants:\n",
    "        df_tochange = dataframe[dataframe['id'] == participant]\n",
    "        min_timestamp = df_tochange['timestamp'].min()\n",
    "        min_date = df_tochange['date'].min()\n",
    "        \n",
    "        if min_date < min_timestamp:\n",
    "            min_fullday_date = min_date + timedelta(1)\n",
    "            df_minchange = df_tochange[df_tochange['date'] >= min_fullday_date]\n",
    "        else:\n",
    "            df_minchange = df_tochange.copy()\n",
    "        \n",
    "        max_timestamp = df_minchange['timestamp'].max()\n",
    "        max_date = df_minchange['date'].max()\n",
    "        \n",
    "        if max_date < max_timestamp:\n",
    "            df_maxchange = df_minchange[df_minchange['date'] < max_date]\n",
    "        else:\n",
    "            df_maxchange = df_minchange.copy()\n",
    "        \n",
    "        df_new = pd.concat([df_new,df_maxchange])\n",
    "        \n",
    "    return (df_new)\n",
    "\n",
    "fulldays_df = fullDays(df)"
   ]
  },
  {
   "cell_type": "code",
   "execution_count": 7,
   "metadata": {},
   "outputs": [
    {
     "data": {
      "text/html": [
       "<div>\n",
       "<style scoped>\n",
       "    .dataframe tbody tr th:only-of-type {\n",
       "        vertical-align: middle;\n",
       "    }\n",
       "\n",
       "    .dataframe tbody tr th {\n",
       "        vertical-align: top;\n",
       "    }\n",
       "\n",
       "    .dataframe thead th {\n",
       "        text-align: right;\n",
       "    }\n",
       "</style>\n",
       "<table border=\"1\" class=\"dataframe\">\n",
       "  <thead>\n",
       "    <tr style=\"text-align: right;\">\n",
       "      <th></th>\n",
       "      <th>timestamp</th>\n",
       "      <th>date</th>\n",
       "      <th>activity</th>\n",
       "      <th>id</th>\n",
       "      <th>label</th>\n",
       "    </tr>\n",
       "  </thead>\n",
       "  <tbody>\n",
       "    <tr>\n",
       "      <th>540</th>\n",
       "      <td>2003-03-19 00:00:00</td>\n",
       "      <td>2003-03-19</td>\n",
       "      <td>0</td>\n",
       "      <td>control_1</td>\n",
       "      <td>0</td>\n",
       "    </tr>\n",
       "    <tr>\n",
       "      <th>541</th>\n",
       "      <td>2003-03-19 00:01:00</td>\n",
       "      <td>2003-03-19</td>\n",
       "      <td>0</td>\n",
       "      <td>control_1</td>\n",
       "      <td>0</td>\n",
       "    </tr>\n",
       "    <tr>\n",
       "      <th>542</th>\n",
       "      <td>2003-03-19 00:02:00</td>\n",
       "      <td>2003-03-19</td>\n",
       "      <td>0</td>\n",
       "      <td>control_1</td>\n",
       "      <td>0</td>\n",
       "    </tr>\n",
       "    <tr>\n",
       "      <th>543</th>\n",
       "      <td>2003-03-19 00:03:00</td>\n",
       "      <td>2003-03-19</td>\n",
       "      <td>0</td>\n",
       "      <td>control_1</td>\n",
       "      <td>0</td>\n",
       "    </tr>\n",
       "    <tr>\n",
       "      <th>544</th>\n",
       "      <td>2003-03-19 00:04:00</td>\n",
       "      <td>2003-03-19</td>\n",
       "      <td>175</td>\n",
       "      <td>control_1</td>\n",
       "      <td>0</td>\n",
       "    </tr>\n",
       "  </tbody>\n",
       "</table>\n",
       "</div>"
      ],
      "text/plain": [
       "              timestamp       date  activity         id  label\n",
       "540 2003-03-19 00:00:00 2003-03-19         0  control_1      0\n",
       "541 2003-03-19 00:01:00 2003-03-19         0  control_1      0\n",
       "542 2003-03-19 00:02:00 2003-03-19         0  control_1      0\n",
       "543 2003-03-19 00:03:00 2003-03-19         0  control_1      0\n",
       "544 2003-03-19 00:04:00 2003-03-19       175  control_1      0"
      ]
     },
     "execution_count": 7,
     "metadata": {},
     "output_type": "execute_result"
    }
   ],
   "source": [
    "fulldays_df.head()"
   ]
  },
  {
   "cell_type": "code",
   "execution_count": 8,
   "metadata": {},
   "outputs": [
    {
     "name": "stdout",
     "output_type": "stream",
     "text": [
      "14 days 00:00:00\n"
     ]
    }
   ],
   "source": [
    "print(fulldays_df.loc[fulldays_df['id'] == 'condition_1', 'date'].max() - \n",
    "fulldays_df.loc[fulldays_df['id'] == 'condition_1', 'date'].min())"
   ]
  },
  {
   "cell_type": "code",
   "execution_count": 9,
   "metadata": {},
   "outputs": [
    {
     "data": {
      "text/html": [
       "<div>\n",
       "<style scoped>\n",
       "    .dataframe tbody tr th:only-of-type {\n",
       "        vertical-align: middle;\n",
       "    }\n",
       "\n",
       "    .dataframe tbody tr th {\n",
       "        vertical-align: top;\n",
       "    }\n",
       "\n",
       "    .dataframe thead th {\n",
       "        text-align: right;\n",
       "    }\n",
       "</style>\n",
       "<table border=\"1\" class=\"dataframe\">\n",
       "  <thead>\n",
       "    <tr style=\"text-align: right;\">\n",
       "      <th></th>\n",
       "      <th>number</th>\n",
       "      <th>days</th>\n",
       "      <th>gender</th>\n",
       "      <th>age</th>\n",
       "      <th>afftype</th>\n",
       "      <th>melanch</th>\n",
       "      <th>inpatient</th>\n",
       "      <th>edu</th>\n",
       "      <th>marriage</th>\n",
       "      <th>work</th>\n",
       "      <th>madrs1</th>\n",
       "      <th>madrs2</th>\n",
       "    </tr>\n",
       "  </thead>\n",
       "  <tbody>\n",
       "    <tr>\n",
       "      <th>0</th>\n",
       "      <td>condition_1</td>\n",
       "      <td>11</td>\n",
       "      <td>2</td>\n",
       "      <td>35-39</td>\n",
       "      <td>2.0</td>\n",
       "      <td>2.0</td>\n",
       "      <td>2.0</td>\n",
       "      <td>6-10</td>\n",
       "      <td>1.0</td>\n",
       "      <td>2.0</td>\n",
       "      <td>19.0</td>\n",
       "      <td>19.0</td>\n",
       "    </tr>\n",
       "    <tr>\n",
       "      <th>1</th>\n",
       "      <td>condition_2</td>\n",
       "      <td>18</td>\n",
       "      <td>2</td>\n",
       "      <td>40-44</td>\n",
       "      <td>1.0</td>\n",
       "      <td>2.0</td>\n",
       "      <td>2.0</td>\n",
       "      <td>6-10</td>\n",
       "      <td>2.0</td>\n",
       "      <td>2.0</td>\n",
       "      <td>24.0</td>\n",
       "      <td>11.0</td>\n",
       "    </tr>\n",
       "    <tr>\n",
       "      <th>2</th>\n",
       "      <td>condition_3</td>\n",
       "      <td>13</td>\n",
       "      <td>1</td>\n",
       "      <td>45-49</td>\n",
       "      <td>2.0</td>\n",
       "      <td>2.0</td>\n",
       "      <td>2.0</td>\n",
       "      <td>6-10</td>\n",
       "      <td>2.0</td>\n",
       "      <td>2.0</td>\n",
       "      <td>24.0</td>\n",
       "      <td>25.0</td>\n",
       "    </tr>\n",
       "    <tr>\n",
       "      <th>3</th>\n",
       "      <td>condition_4</td>\n",
       "      <td>13</td>\n",
       "      <td>2</td>\n",
       "      <td>25-29</td>\n",
       "      <td>2.0</td>\n",
       "      <td>2.0</td>\n",
       "      <td>2.0</td>\n",
       "      <td>11-15</td>\n",
       "      <td>1.0</td>\n",
       "      <td>1.0</td>\n",
       "      <td>20.0</td>\n",
       "      <td>16.0</td>\n",
       "    </tr>\n",
       "    <tr>\n",
       "      <th>4</th>\n",
       "      <td>condition_5</td>\n",
       "      <td>13</td>\n",
       "      <td>2</td>\n",
       "      <td>50-54</td>\n",
       "      <td>2.0</td>\n",
       "      <td>2.0</td>\n",
       "      <td>2.0</td>\n",
       "      <td>11-15</td>\n",
       "      <td>2.0</td>\n",
       "      <td>2.0</td>\n",
       "      <td>26.0</td>\n",
       "      <td>26.0</td>\n",
       "    </tr>\n",
       "  </tbody>\n",
       "</table>\n",
       "</div>"
      ],
      "text/plain": [
       "        number  days  gender    age  afftype  melanch  inpatient    edu  \\\n",
       "0  condition_1    11       2  35-39      2.0      2.0        2.0   6-10   \n",
       "1  condition_2    18       2  40-44      1.0      2.0        2.0   6-10   \n",
       "2  condition_3    13       1  45-49      2.0      2.0        2.0   6-10   \n",
       "3  condition_4    13       2  25-29      2.0      2.0        2.0  11-15   \n",
       "4  condition_5    13       2  50-54      2.0      2.0        2.0  11-15   \n",
       "\n",
       "   marriage  work  madrs1  madrs2  \n",
       "0       1.0   2.0    19.0    19.0  \n",
       "1       2.0   2.0    24.0    11.0  \n",
       "2       2.0   2.0    24.0    25.0  \n",
       "3       1.0   1.0    20.0    16.0  \n",
       "4       2.0   2.0    26.0    26.0  "
      ]
     },
     "execution_count": 9,
     "metadata": {},
     "output_type": "execute_result"
    }
   ],
   "source": [
    "scores = pd.read_csv('data/depresjon/scores.csv')\n",
    "scores.head()"
   ]
  },
  {
   "cell_type": "code",
   "execution_count": 10,
   "metadata": {},
   "outputs": [
    {
     "data": {
      "text/html": [
       "<div>\n",
       "<style scoped>\n",
       "    .dataframe tbody tr th:only-of-type {\n",
       "        vertical-align: middle;\n",
       "    }\n",
       "\n",
       "    .dataframe tbody tr th {\n",
       "        vertical-align: top;\n",
       "    }\n",
       "\n",
       "    .dataframe thead th {\n",
       "        text-align: right;\n",
       "    }\n",
       "</style>\n",
       "<table border=\"1\" class=\"dataframe\">\n",
       "  <thead>\n",
       "    <tr style=\"text-align: right;\">\n",
       "      <th></th>\n",
       "      <th>timestamp</th>\n",
       "      <th>date</th>\n",
       "      <th>activity</th>\n",
       "      <th>id</th>\n",
       "      <th>label</th>\n",
       "    </tr>\n",
       "  </thead>\n",
       "  <tbody>\n",
       "    <tr>\n",
       "      <th>540</th>\n",
       "      <td>2003-03-19 00:00:00</td>\n",
       "      <td>2003-03-19</td>\n",
       "      <td>0</td>\n",
       "      <td>control_1</td>\n",
       "      <td>0</td>\n",
       "    </tr>\n",
       "    <tr>\n",
       "      <th>541</th>\n",
       "      <td>2003-03-19 00:01:00</td>\n",
       "      <td>2003-03-19</td>\n",
       "      <td>0</td>\n",
       "      <td>control_1</td>\n",
       "      <td>0</td>\n",
       "    </tr>\n",
       "    <tr>\n",
       "      <th>542</th>\n",
       "      <td>2003-03-19 00:02:00</td>\n",
       "      <td>2003-03-19</td>\n",
       "      <td>0</td>\n",
       "      <td>control_1</td>\n",
       "      <td>0</td>\n",
       "    </tr>\n",
       "    <tr>\n",
       "      <th>543</th>\n",
       "      <td>2003-03-19 00:03:00</td>\n",
       "      <td>2003-03-19</td>\n",
       "      <td>0</td>\n",
       "      <td>control_1</td>\n",
       "      <td>0</td>\n",
       "    </tr>\n",
       "    <tr>\n",
       "      <th>544</th>\n",
       "      <td>2003-03-19 00:04:00</td>\n",
       "      <td>2003-03-19</td>\n",
       "      <td>175</td>\n",
       "      <td>control_1</td>\n",
       "      <td>0</td>\n",
       "    </tr>\n",
       "    <tr>\n",
       "      <th>...</th>\n",
       "      <td>...</td>\n",
       "      <td>...</td>\n",
       "      <td>...</td>\n",
       "      <td>...</td>\n",
       "      <td>...</td>\n",
       "    </tr>\n",
       "    <tr>\n",
       "      <th>1570793</th>\n",
       "      <td>2004-06-09 23:55:00</td>\n",
       "      <td>2004-06-09</td>\n",
       "      <td>169</td>\n",
       "      <td>condition_9</td>\n",
       "      <td>1</td>\n",
       "    </tr>\n",
       "    <tr>\n",
       "      <th>1570794</th>\n",
       "      <td>2004-06-09 23:56:00</td>\n",
       "      <td>2004-06-09</td>\n",
       "      <td>169</td>\n",
       "      <td>condition_9</td>\n",
       "      <td>1</td>\n",
       "    </tr>\n",
       "    <tr>\n",
       "      <th>1570795</th>\n",
       "      <td>2004-06-09 23:57:00</td>\n",
       "      <td>2004-06-09</td>\n",
       "      <td>169</td>\n",
       "      <td>condition_9</td>\n",
       "      <td>1</td>\n",
       "    </tr>\n",
       "    <tr>\n",
       "      <th>1570796</th>\n",
       "      <td>2004-06-09 23:58:00</td>\n",
       "      <td>2004-06-09</td>\n",
       "      <td>169</td>\n",
       "      <td>condition_9</td>\n",
       "      <td>1</td>\n",
       "    </tr>\n",
       "    <tr>\n",
       "      <th>1570797</th>\n",
       "      <td>2004-06-09 23:59:00</td>\n",
       "      <td>2004-06-09</td>\n",
       "      <td>60</td>\n",
       "      <td>condition_9</td>\n",
       "      <td>1</td>\n",
       "    </tr>\n",
       "  </tbody>\n",
       "</table>\n",
       "<p>997680 rows × 5 columns</p>\n",
       "</div>"
      ],
      "text/plain": [
       "                  timestamp       date  activity           id  label\n",
       "540     2003-03-19 00:00:00 2003-03-19         0    control_1      0\n",
       "541     2003-03-19 00:01:00 2003-03-19         0    control_1      0\n",
       "542     2003-03-19 00:02:00 2003-03-19         0    control_1      0\n",
       "543     2003-03-19 00:03:00 2003-03-19         0    control_1      0\n",
       "544     2003-03-19 00:04:00 2003-03-19       175    control_1      0\n",
       "...                     ...        ...       ...          ...    ...\n",
       "1570793 2004-06-09 23:55:00 2004-06-09       169  condition_9      1\n",
       "1570794 2004-06-09 23:56:00 2004-06-09       169  condition_9      1\n",
       "1570795 2004-06-09 23:57:00 2004-06-09       169  condition_9      1\n",
       "1570796 2004-06-09 23:58:00 2004-06-09       169  condition_9      1\n",
       "1570797 2004-06-09 23:59:00 2004-06-09        60  condition_9      1\n",
       "\n",
       "[997680 rows x 5 columns]"
      ]
     },
     "execution_count": 10,
     "metadata": {},
     "output_type": "execute_result"
    }
   ],
   "source": [
    "def trueDates (dataframe):\n",
    "    df_new = pd.DataFrame({})\n",
    "    participants = dataframe['id'].unique()\n",
    "    for participant in participants:\n",
    "        df_tochange = dataframe[dataframe['id'] == participant]\n",
    "        trueDays = scores.loc[scores['number'] == participant, 'days'].values[0]\n",
    "        min_date = dataframe.loc[dataframe['id'] == participant, 'date'].min()\n",
    "        min_truedate = min_date + timedelta(int(trueDays))\n",
    "        df_reduce = df_tochange[df_tochange['date'] < min_truedate]\n",
    "        df_new = pd.concat([df_new,df_reduce])\n",
    "    return (df_new)\n",
    "trueDates(fulldays_df)"
   ]
  },
  {
   "cell_type": "code",
   "execution_count": 11,
   "metadata": {},
   "outputs": [
    {
     "data": {
      "text/plain": [
       "11"
      ]
     },
     "execution_count": 11,
     "metadata": {},
     "output_type": "execute_result"
    }
   ],
   "source": [
    "scores.loc[scores['number'] == 'condition_1', 'days'].values[0]"
   ]
  },
  {
   "cell_type": "markdown",
   "metadata": {},
   "source": [
    "EDA\n",
    "\n",
    "1. You may wish to do some EDA here. What unique insights can you come up with?"
   ]
  },
  {
   "cell_type": "code",
   "execution_count": 12,
   "metadata": {},
   "outputs": [
    {
     "data": {
      "text/plain": [
       "<Axes: xlabel='timestamp', ylabel='activity'>"
      ]
     },
     "execution_count": 12,
     "metadata": {},
     "output_type": "execute_result"
    },
    {
     "data": {
      "image/png": "[encoded data removed]",
      "text/plain": [
       "<Figure size 640x480 with 1 Axes>"
      ]
     },
     "metadata": {},
     "output_type": "display_data"
    }
   ],
   "source": [
    "sns.lineplot(data = control_1, x='timestamp', y='activity')"
   ]
  },
  {
   "cell_type": "markdown",
   "metadata": {},
   "source": [
    "Feature Extraction \n",
    "\n",
    "1. Produce a pandas dataframe which has these columns:\n",
    "\n",
    "    - label (1s and 0s identifying condition and control)\n",
    "    - Gender (1's female and 2's for male)\n",
    "    - mean\n",
    "    - percentage of zero activity\n",
    "    - standard deviation\n",
    "\n",
    "2. Create 3 Subsets, male, female and everyone."
   ]
  },
  {
   "cell_type": "code",
   "execution_count": 13,
   "metadata": {},
   "outputs": [],
   "source": [
    "# Rename the number column to \"id\" matching the data frames title\n",
    "scores.rename(columns={'number':'id'}, inplace=True)\n",
    "\n",
    "# merge data frames to add the gender column\n",
    "merged_df = pd.merge(fulldays_df, scores, on='id')\n",
    "\n",
    "# remove unused columns\n",
    "merged_df.drop(['days','age','afftype','melanch','inpatient','edu','marriage','work','madrs1','madrs2'], axis=1, inplace=True)"
   ]
  },
  {
   "cell_type": "code",
   "execution_count": 14,
   "metadata": {},
   "outputs": [
    {
     "data": {
      "text/html": [
       "<div>\n",
       "<style scoped>\n",
       "    .dataframe tbody tr th:only-of-type {\n",
       "        vertical-align: middle;\n",
       "    }\n",
       "\n",
       "    .dataframe tbody tr th {\n",
       "        vertical-align: top;\n",
       "    }\n",
       "\n",
       "    .dataframe thead th {\n",
       "        text-align: right;\n",
       "    }\n",
       "</style>\n",
       "<table border=\"1\" class=\"dataframe\">\n",
       "  <thead>\n",
       "    <tr style=\"text-align: right;\">\n",
       "      <th></th>\n",
       "      <th>timestamp</th>\n",
       "      <th>date</th>\n",
       "      <th>activity</th>\n",
       "      <th>id</th>\n",
       "      <th>label</th>\n",
       "      <th>gender</th>\n",
       "    </tr>\n",
       "  </thead>\n",
       "  <tbody>\n",
       "    <tr>\n",
       "      <th>0</th>\n",
       "      <td>2003-03-19 00:00:00</td>\n",
       "      <td>2003-03-19</td>\n",
       "      <td>0</td>\n",
       "      <td>control_1</td>\n",
       "      <td>0</td>\n",
       "      <td>2</td>\n",
       "    </tr>\n",
       "    <tr>\n",
       "      <th>1</th>\n",
       "      <td>2003-03-19 00:01:00</td>\n",
       "      <td>2003-03-19</td>\n",
       "      <td>0</td>\n",
       "      <td>control_1</td>\n",
       "      <td>0</td>\n",
       "      <td>2</td>\n",
       "    </tr>\n",
       "    <tr>\n",
       "      <th>2</th>\n",
       "      <td>2003-03-19 00:02:00</td>\n",
       "      <td>2003-03-19</td>\n",
       "      <td>0</td>\n",
       "      <td>control_1</td>\n",
       "      <td>0</td>\n",
       "      <td>2</td>\n",
       "    </tr>\n",
       "    <tr>\n",
       "      <th>3</th>\n",
       "      <td>2003-03-19 00:03:00</td>\n",
       "      <td>2003-03-19</td>\n",
       "      <td>0</td>\n",
       "      <td>control_1</td>\n",
       "      <td>0</td>\n",
       "      <td>2</td>\n",
       "    </tr>\n",
       "    <tr>\n",
       "      <th>4</th>\n",
       "      <td>2003-03-19 00:04:00</td>\n",
       "      <td>2003-03-19</td>\n",
       "      <td>175</td>\n",
       "      <td>control_1</td>\n",
       "      <td>0</td>\n",
       "      <td>2</td>\n",
       "    </tr>\n",
       "  </tbody>\n",
       "</table>\n",
       "</div>"
      ],
      "text/plain": [
       "            timestamp       date  activity         id  label  gender\n",
       "0 2003-03-19 00:00:00 2003-03-19         0  control_1      0       2\n",
       "1 2003-03-19 00:01:00 2003-03-19         0  control_1      0       2\n",
       "2 2003-03-19 00:02:00 2003-03-19         0  control_1      0       2\n",
       "3 2003-03-19 00:03:00 2003-03-19         0  control_1      0       2\n",
       "4 2003-03-19 00:04:00 2003-03-19       175  control_1      0       2"
      ]
     },
     "execution_count": 14,
     "metadata": {},
     "output_type": "execute_result"
    }
   ],
   "source": [
    "# check column headers\n",
    "\n",
    "merged_df.head(5)"
   ]
  },
  {
   "cell_type": "code",
   "execution_count": 15,
   "metadata": {},
   "outputs": [],
   "source": [
    "# create a csv file for the merged data to check\n",
    "\n",
    "csv_file = 'merged_df.csv'\n",
    "merged_df.to_csv(csv_file, index=False)"
   ]
  },
  {
   "cell_type": "code",
   "execution_count": 16,
   "metadata": {},
   "outputs": [],
   "source": [
    "def Percentzero (values):\n",
    "    zeros = (values == 0).sum().sum()\n",
    "    total_values = values.size\n",
    "    return zeros / total_values * 100\n",
    "\n",
    "# create a function to produce a table of features listed above\n",
    "\n",
    "def extract_features(dataframe):\n",
    "    \n",
    "    # Group by 'id' and 'label' columns\n",
    "    grouped = dataframe.groupby(['id', 'label','gender'])['activity']\n",
    "\n",
    "    # Calculate statistics for 'standardised_activity' within each group\n",
    "    features1_df = pd.DataFrame({\n",
    "        'mean' : grouped.mean(),\n",
    "        'std' : grouped.std(),\n",
    "        '%zero': grouped.apply(Percentzero)\n",
    "    })\n",
    "\n",
    "    return features1_df\n",
    "    \n",
    "features = extract_features(merged_df).reset_index()"
   ]
  },
  {
   "cell_type": "code",
   "execution_count": 17,
   "metadata": {},
   "outputs": [],
   "source": [
    "# Drop the id column\n",
    "features.drop('id', axis=1, inplace=True)\n",
    "\n",
    "# Create the 3 subsets\n",
    "\n",
    "male_df = features[features['gender'] == 2]\n",
    "female_df = features[features['gender'] == 1]\n",
    "all_df = features.copy()"
   ]
  },
  {
   "cell_type": "code",
   "execution_count": 18,
   "metadata": {},
   "outputs": [
    {
     "data": {
      "text/html": [
       "<div>\n",
       "<style scoped>\n",
       "    .dataframe tbody tr th:only-of-type {\n",
       "        vertical-align: middle;\n",
       "    }\n",
       "\n",
       "    .dataframe tbody tr th {\n",
       "        vertical-align: top;\n",
       "    }\n",
       "\n",
       "    .dataframe thead th {\n",
       "        text-align: right;\n",
       "    }\n",
       "</style>\n",
       "<table border=\"1\" class=\"dataframe\">\n",
       "  <thead>\n",
       "    <tr style=\"text-align: right;\">\n",
       "      <th></th>\n",
       "      <th>label</th>\n",
       "      <th>gender</th>\n",
       "      <th>mean</th>\n",
       "      <th>std</th>\n",
       "      <th>%zero</th>\n",
       "    </tr>\n",
       "  </thead>\n",
       "  <tbody>\n",
       "    <tr>\n",
       "      <th>0</th>\n",
       "      <td>1</td>\n",
       "      <td>2</td>\n",
       "      <td>152.199630</td>\n",
       "      <td>300.785063</td>\n",
       "      <td>45.583333</td>\n",
       "    </tr>\n",
       "    <tr>\n",
       "      <th>1</th>\n",
       "      <td>1</td>\n",
       "      <td>2</td>\n",
       "      <td>296.403373</td>\n",
       "      <td>409.994798</td>\n",
       "      <td>35.084325</td>\n",
       "    </tr>\n",
       "    <tr>\n",
       "      <th>3</th>\n",
       "      <td>1</td>\n",
       "      <td>2</td>\n",
       "      <td>152.202579</td>\n",
       "      <td>268.472068</td>\n",
       "      <td>43.427579</td>\n",
       "    </tr>\n",
       "    <tr>\n",
       "      <th>4</th>\n",
       "      <td>1</td>\n",
       "      <td>2</td>\n",
       "      <td>220.811029</td>\n",
       "      <td>347.516571</td>\n",
       "      <td>43.165850</td>\n",
       "    </tr>\n",
       "    <tr>\n",
       "      <th>6</th>\n",
       "      <td>1</td>\n",
       "      <td>2</td>\n",
       "      <td>110.199752</td>\n",
       "      <td>233.995667</td>\n",
       "      <td>51.165675</td>\n",
       "    </tr>\n",
       "  </tbody>\n",
       "</table>\n",
       "</div>"
      ],
      "text/plain": [
       "   label  gender        mean         std      %zero\n",
       "0      1       2  152.199630  300.785063  45.583333\n",
       "1      1       2  296.403373  409.994798  35.084325\n",
       "3      1       2  152.202579  268.472068  43.427579\n",
       "4      1       2  220.811029  347.516571  43.165850\n",
       "6      1       2  110.199752  233.995667  51.165675"
      ]
     },
     "execution_count": 18,
     "metadata": {},
     "output_type": "execute_result"
    }
   ],
   "source": [
    "male_df.head()"
   ]
  },
  {
   "cell_type": "markdown",
   "metadata": {},
   "source": [
    "Model\n",
    "\n",
    "1. Create Train Test arrays\n",
    "\n",
    "2. Use the following models:\n",
    "    - Decision Tree\n",
    "    - Random forest\n",
    "    - KNN\n",
    "    - Naive Bayes\n",
    "    - Logistic Regression\n",
    "    - Linear SVM (Not done in ML)\n",
    "    - RBF (Not done in ML)\n",
    "    - Gaussian Process (Not done in ML)\n",
    "    - Neural Network (Not done in ML)\n",
    "    - AdaBoost (Not done in ML)\n",
    "    - QDA (Not done in ML)\n",
    "    - ZeroR baseline (Not done in ML)\n",
    "    - Linear Regression (Not done in ML)\n",
    "    - XGBoost (Not done in ML)\n",
    "    - Light GBM (Not done in ML)\n",
    "    - GradientBoost (Not done in ML)"
   ]
  },
  {
   "cell_type": "markdown",
   "metadata": {},
   "source": [
    "Measures of accuracy\n",
    "\n",
    "1. Produce a table with the follwoing measures\n",
    "- True Positive\n",
    "- True Negative\n",
    "- False Positive\n",
    "- False Negative\n",
    "- Sensitivity\n",
    "- Specificity\n",
    "- Predictive Value (PPV)\n",
    "- Negative Predicted Value\n",
    "- Accuracy\n",
    "- F1 \n",
    "- Recall\n",
    "\n",
    "2. Produce a Confusion Matrix"
   ]
  },
  {
   "cell_type": "code",
   "execution_count": 55,
   "metadata": {},
   "outputs": [],
   "source": [
    "# Load ML modules\n",
    "\n",
    "from sklearn.model_selection import train_test_split\n",
    "from sklearn.neighbors import KNeighborsClassifier\n",
    "from sklearn.ensemble import RandomForestClassifier\n",
    "from sklearn.tree import DecisionTreeClassifier\n",
    "from sklearn.naive_bayes import GaussianNB\n",
    "from sklearn.linear_model import LogisticRegression\n",
    "from sklearn.svm import SVC\n",
    "from sklearn.metrics import precision_score, recall_score, f1_score\n",
    "from sklearn.metrics import confusion_matrix\n"
   ]
  },
  {
   "cell_type": "code",
   "execution_count": 56,
   "metadata": {},
   "outputs": [],
   "source": [
    "def print_metrics(pred,test):\n",
    "    \n",
    "    # Calculate True Positives, True Negatives, False Positives, False Negatives\n",
    "    true_positive = ((pred == 1) & (test == 1)).sum()\n",
    "    true_negative = ((pred == 0) & (test == 0)).sum()\n",
    "    false_positive = ((pred == 1) & (test == 0)).sum()\n",
    "    false_negative = ((pred == 0) & (test == 1)).sum()\n",
    "\n",
    "    # Calculate additional metrics\n",
    "    if true_positive + false_negative == 0:\n",
    "        sensitivity = \"NaN\"\n",
    "    else:\n",
    "        sensitivity = true_positive / (true_positive + false_negative)\n",
    "    \n",
    "    if true_negative + false_positive == 0:\n",
    "        specificity = \"NaN\"\n",
    "    else:\n",
    "        specificity = true_negative / (true_negative + false_positive)\n",
    "\n",
    "    if true_positive + false_positive == 0:\n",
    "        ppv = \"NaN\"\n",
    "    else:\n",
    "        ppv = true_positive / (true_positive + false_positive)\n",
    "    \n",
    "    if true_negative + false_negative == 0:\n",
    "        npv = \"NaN\"\n",
    "    else:\n",
    "        npv = true_negative / (true_negative + false_negative)\n",
    "    \n",
    "    if true_positive + true_negative + false_positive + false_negative == 0:\n",
    "        accuracy = \"NaN\"\n",
    "    else:\n",
    "        accuracy = (true_positive + true_negative) / (true_positive + true_negative + false_positive + false_negative) \n",
    "    \n",
    "\n",
    "    # Create a DataFrame\n",
    "    results_df = pd.DataFrame({\n",
    "        'Metric': ['Accuracy', 'True Positive','True Negative', 'False Positive', 'False Negative', \n",
    "                   'Sensitivity', 'Specificity', 'Predictive Value (PPV)', \n",
    "                   'Negative Predicted Value'],\n",
    "        'Value': [accuracy, true_positive, true_negative, false_positive, false_negative, \n",
    "                  sensitivity, specificity, ppv, npv]\n",
    "    })\n",
    "\n",
    "    # Display the DataFrame\n",
    "    print(results_df)"
   ]
  },
  {
   "cell_type": "code",
   "execution_count": 66,
   "metadata": {},
   "outputs": [],
   "source": [
    "def run_ml_algorithms(data,color):\n",
    "    \n",
    "    X = data.iloc[:, 1:]  # Features (train data)\n",
    "    y = data.iloc[:, 0]   # Target (test data)\n",
    "\n",
    "    # Split data into train and test sets\n",
    "    X_train, X_test, y_train, y_test = train_test_split(X, y, test_size=0.3, random_state=42)\n",
    "\n",
    "    # Initialize classifiers\n",
    "    classifiers = {\n",
    "        'KNN': KNeighborsClassifier(),\n",
    "        'RF': RandomForestClassifier(),\n",
    "        'Decision Tree': DecisionTreeClassifier(),\n",
    "        'Naive Bayes': GaussianNB(),\n",
    "        'Logistic Regression': LogisticRegression(),\n",
    "        'SVM': SVC()\n",
    "    }\n",
    "\n",
    "    results = {}\n",
    "\n",
    "    for name, clf in classifiers.items():\n",
    "        clf.fit(X_train, y_train)  # Train the model\n",
    "        y_pred = clf.predict(X_test)  # Predict on test data\n",
    "\n",
    "        \n",
    "        print(name)\n",
    "        print()\n",
    "        print_metrics(y_pred,y_test)\n",
    "        print()\n",
    "        print()\n",
    "    \n",
    "        conf_matrix = confusion_matrix(y_test, y_pred)\n",
    "        sns.heatmap(conf_matrix, annot=True, fmt='d', cmap=color)\n",
    "        plt.xlabel('Predicted')\n",
    "        plt.ylabel('True')\n",
    "        plt.show()\n",
    "        \n",
    "\n",
    "    return results"
   ]
  },
  {
   "cell_type": "code",
   "execution_count": 67,
   "metadata": {},
   "outputs": [
    {
     "data": {
      "text/html": [
       "<div>\n",
       "<style scoped>\n",
       "    .dataframe tbody tr th:only-of-type {\n",
       "        vertical-align: middle;\n",
       "    }\n",
       "\n",
       "    .dataframe tbody tr th {\n",
       "        vertical-align: top;\n",
       "    }\n",
       "\n",
       "    .dataframe thead th {\n",
       "        text-align: right;\n",
       "    }\n",
       "</style>\n",
       "<table border=\"1\" class=\"dataframe\">\n",
       "  <thead>\n",
       "    <tr style=\"text-align: right;\">\n",
       "      <th></th>\n",
       "      <th>label</th>\n",
       "      <th>gender</th>\n",
       "      <th>mean</th>\n",
       "      <th>std</th>\n",
       "      <th>%zero</th>\n",
       "    </tr>\n",
       "  </thead>\n",
       "  <tbody>\n",
       "    <tr>\n",
       "      <th>0</th>\n",
       "      <td>1</td>\n",
       "      <td>2</td>\n",
       "      <td>152.199630</td>\n",
       "      <td>300.785063</td>\n",
       "      <td>45.583333</td>\n",
       "    </tr>\n",
       "    <tr>\n",
       "      <th>1</th>\n",
       "      <td>1</td>\n",
       "      <td>2</td>\n",
       "      <td>296.403373</td>\n",
       "      <td>409.994798</td>\n",
       "      <td>35.084325</td>\n",
       "    </tr>\n",
       "    <tr>\n",
       "      <th>2</th>\n",
       "      <td>1</td>\n",
       "      <td>1</td>\n",
       "      <td>130.193472</td>\n",
       "      <td>284.407900</td>\n",
       "      <td>56.481481</td>\n",
       "    </tr>\n",
       "    <tr>\n",
       "      <th>3</th>\n",
       "      <td>1</td>\n",
       "      <td>2</td>\n",
       "      <td>152.202579</td>\n",
       "      <td>268.472068</td>\n",
       "      <td>43.427579</td>\n",
       "    </tr>\n",
       "    <tr>\n",
       "      <th>4</th>\n",
       "      <td>1</td>\n",
       "      <td>2</td>\n",
       "      <td>220.811029</td>\n",
       "      <td>347.516571</td>\n",
       "      <td>43.165850</td>\n",
       "    </tr>\n",
       "  </tbody>\n",
       "</table>\n",
       "</div>"
      ],
      "text/plain": [
       "   label  gender        mean         std      %zero\n",
       "0      1       2  152.199630  300.785063  45.583333\n",
       "1      1       2  296.403373  409.994798  35.084325\n",
       "2      1       1  130.193472  284.407900  56.481481\n",
       "3      1       2  152.202579  268.472068  43.427579\n",
       "4      1       2  220.811029  347.516571  43.165850"
      ]
     },
     "execution_count": 67,
     "metadata": {},
     "output_type": "execute_result"
    }
   ],
   "source": [
    "all_df.head()"
   ]
  },
  {
   "cell_type": "code",
   "execution_count": 68,
   "metadata": {},
   "outputs": [
    {
     "name": "stdout",
     "output_type": "stream",
     "text": [
      "KNN\n",
      "\n",
      "                     Metric     Value\n",
      "0                  Accuracy  0.470588\n",
      "1             True Positive  1.000000\n",
      "2             True Negative  7.000000\n",
      "3            False Positive  2.000000\n",
      "4            False Negative  7.000000\n",
      "5               Sensitivity  0.125000\n",
      "6               Specificity  0.777778\n",
      "7    Predictive Value (PPV)  0.333333\n",
      "8  Negative Predicted Value  0.500000\n",
      "\n",
      "\n"
     ]
    },
    {
     "data": {
      "image/png": "[encoded data removed]",
      "text/plain": [
       "<Figure size 640x480 with 2 Axes>"
      ]
     },
     "metadata": {},
     "output_type": "display_data"
    },
    {
     "name": "stdout",
     "output_type": "stream",
     "text": [
      "RF\n",
      "\n",
      "                     Metric     Value\n",
      "0                  Accuracy  0.470588\n",
      "1             True Positive  3.000000\n",
      "2             True Negative  5.000000\n",
      "3            False Positive  4.000000\n",
      "4            False Negative  5.000000\n",
      "5               Sensitivity  0.375000\n",
      "6               Specificity  0.555556\n",
      "7    Predictive Value (PPV)  0.428571\n",
      "8  Negative Predicted Value  0.500000\n",
      "\n",
      "\n"
     ]
    },
    {
     "data": {
      "image/png": "[encoded data removed]",
      "text/plain": [
       "<Figure size 640x480 with 2 Axes>"
      ]
     },
     "metadata": {},
     "output_type": "display_data"
    },
    {
     "name": "stdout",
     "output_type": "stream",
     "text": [
      "Decision Tree\n",
      "\n",
      "                     Metric     Value\n",
      "0                  Accuracy  0.352941\n",
      "1             True Positive  2.000000\n",
      "2             True Negative  4.000000\n",
      "3            False Positive  5.000000\n",
      "4            False Negative  6.000000\n",
      "5               Sensitivity  0.250000\n",
      "6               Specificity  0.444444\n",
      "7    Predictive Value (PPV)  0.285714\n",
      "8  Negative Predicted Value  0.400000\n",
      "\n",
      "\n"
     ]
    },
    {
     "data": {
      "image/png": "[encoded data removed]",
      "text/plain": [
       "<Figure size 640x480 with 2 Axes>"
      ]
     },
     "metadata": {},
     "output_type": "display_data"
    },
    {
     "name": "stdout",
     "output_type": "stream",
     "text": [
      "Naive Bayes\n",
      "\n",
      "                     Metric     Value\n",
      "0                  Accuracy  0.529412\n",
      "1             True Positive  3.000000\n",
      "2             True Negative  6.000000\n",
      "3            False Positive  3.000000\n",
      "4            False Negative  5.000000\n",
      "5               Sensitivity  0.375000\n",
      "6               Specificity  0.666667\n",
      "7    Predictive Value (PPV)  0.500000\n",
      "8  Negative Predicted Value  0.545455\n",
      "\n",
      "\n"
     ]
    },
    {
     "data": {
      "image/png": "[encoded data removed]",
      "text/plain": [
       "<Figure size 640x480 with 2 Axes>"
      ]
     },
     "metadata": {},
     "output_type": "display_data"
    },
    {
     "name": "stdout",
     "output_type": "stream",
     "text": [
      "Logistic Regression\n",
      "\n",
      "                     Metric     Value\n",
      "0                  Accuracy  0.823529\n",
      "1             True Positive  6.000000\n",
      "2             True Negative  8.000000\n",
      "3            False Positive  1.000000\n",
      "4            False Negative  2.000000\n",
      "5               Sensitivity  0.750000\n",
      "6               Specificity  0.888889\n",
      "7    Predictive Value (PPV)  0.857143\n",
      "8  Negative Predicted Value  0.800000\n",
      "\n",
      "\n"
     ]
    },
    {
     "data": {
      "image/png": "[encoded data removed]",
      "text/plain": [
       "<Figure size 640x480 with 2 Axes>"
      ]
     },
     "metadata": {},
     "output_type": "display_data"
    },
    {
     "name": "stdout",
     "output_type": "stream",
     "text": [
      "SVM\n",
      "\n",
      "                     Metric     Value\n",
      "0                  Accuracy  0.529412\n",
      "1             True Positive         0\n",
      "2             True Negative         9\n",
      "3            False Positive         0\n",
      "4            False Negative         8\n",
      "5               Sensitivity       0.0\n",
      "6               Specificity       1.0\n",
      "7    Predictive Value (PPV)       NaN\n",
      "8  Negative Predicted Value  0.529412\n",
      "\n",
      "\n"
     ]
    },
    {
     "data": {
      "image/png": "[encoded data removed]",
      "text/plain": [
       "<Figure size 640x480 with 2 Axes>"
      ]
     },
     "metadata": {},
     "output_type": "display_data"
    },
    {
     "data": {
      "text/plain": [
       "{}"
      ]
     },
     "execution_count": 68,
     "metadata": {},
     "output_type": "execute_result"
    }
   ],
   "source": [
    "run_ml_algorithms(all_df,'Greens')"
   ]
  },
  {
   "cell_type": "code",
   "execution_count": 69,
   "metadata": {},
   "outputs": [
    {
     "name": "stdout",
     "output_type": "stream",
     "text": [
      "KNN\n",
      "\n",
      "                     Metric     Value\n",
      "0                  Accuracy  0.375000\n",
      "1             True Positive  1.000000\n",
      "2             True Negative  2.000000\n",
      "3            False Positive  1.000000\n",
      "4            False Negative  4.000000\n",
      "5               Sensitivity  0.200000\n",
      "6               Specificity  0.666667\n",
      "7    Predictive Value (PPV)  0.500000\n",
      "8  Negative Predicted Value  0.333333\n",
      "\n",
      "\n"
     ]
    },
    {
     "data": {
      "image/png": "[encoded data removed]",
      "text/plain": [
       "<Figure size 640x480 with 2 Axes>"
      ]
     },
     "metadata": {},
     "output_type": "display_data"
    },
    {
     "name": "stdout",
     "output_type": "stream",
     "text": [
      "RF\n",
      "\n",
      "                     Metric     Value\n",
      "0                  Accuracy  0.500000\n",
      "1             True Positive  2.000000\n",
      "2             True Negative  2.000000\n",
      "3            False Positive  1.000000\n",
      "4            False Negative  3.000000\n",
      "5               Sensitivity  0.400000\n",
      "6               Specificity  0.666667\n",
      "7    Predictive Value (PPV)  0.666667\n",
      "8  Negative Predicted Value  0.400000\n",
      "\n",
      "\n"
     ]
    },
    {
     "data": {
      "image/png": "[encoded data removed]",
      "text/plain": [
       "<Figure size 640x480 with 2 Axes>"
      ]
     },
     "metadata": {},
     "output_type": "display_data"
    },
    {
     "name": "stdout",
     "output_type": "stream",
     "text": [
      "Decision Tree\n",
      "\n",
      "                     Metric     Value\n",
      "0                  Accuracy  0.375000\n",
      "1             True Positive  1.000000\n",
      "2             True Negative  2.000000\n",
      "3            False Positive  1.000000\n",
      "4            False Negative  4.000000\n",
      "5               Sensitivity  0.200000\n",
      "6               Specificity  0.666667\n",
      "7    Predictive Value (PPV)  0.500000\n",
      "8  Negative Predicted Value  0.333333\n",
      "\n",
      "\n"
     ]
    },
    {
     "data": {
      "image/png": "[encoded data removed]",
      "text/plain": [
       "<Figure size 640x480 with 2 Axes>"
      ]
     },
     "metadata": {},
     "output_type": "display_data"
    },
    {
     "name": "stdout",
     "output_type": "stream",
     "text": [
      "Naive Bayes\n",
      "\n",
      "                     Metric     Value\n",
      "0                  Accuracy  0.500000\n",
      "1             True Positive  2.000000\n",
      "2             True Negative  2.000000\n",
      "3            False Positive  1.000000\n",
      "4            False Negative  3.000000\n",
      "5               Sensitivity  0.400000\n",
      "6               Specificity  0.666667\n",
      "7    Predictive Value (PPV)  0.666667\n",
      "8  Negative Predicted Value  0.400000\n",
      "\n",
      "\n"
     ]
    },
    {
     "data": {
      "image/png": "[encoded data removed]",
      "text/plain": [
       "<Figure size 640x480 with 2 Axes>"
      ]
     },
     "metadata": {},
     "output_type": "display_data"
    },
    {
     "name": "stdout",
     "output_type": "stream",
     "text": [
      "Logistic Regression\n",
      "\n",
      "                     Metric     Value\n",
      "0                  Accuracy  0.500000\n",
      "1             True Positive  1.000000\n",
      "2             True Negative  3.000000\n",
      "3            False Positive  0.000000\n",
      "4            False Negative  4.000000\n",
      "5               Sensitivity  0.200000\n",
      "6               Specificity  1.000000\n",
      "7    Predictive Value (PPV)  1.000000\n",
      "8  Negative Predicted Value  0.428571\n",
      "\n",
      "\n"
     ]
    },
    {
     "data": {
      "image/png": "[encoded data removed]",
      "text/plain": [
       "<Figure size 640x480 with 2 Axes>"
      ]
     },
     "metadata": {},
     "output_type": "display_data"
    },
    {
     "name": "stdout",
     "output_type": "stream",
     "text": [
      "SVM\n",
      "\n",
      "                     Metric     Value\n",
      "0                  Accuracy  0.500000\n",
      "1             True Positive  2.000000\n",
      "2             True Negative  2.000000\n",
      "3            False Positive  1.000000\n",
      "4            False Negative  3.000000\n",
      "5               Sensitivity  0.400000\n",
      "6               Specificity  0.666667\n",
      "7    Predictive Value (PPV)  0.666667\n",
      "8  Negative Predicted Value  0.400000\n",
      "\n",
      "\n"
     ]
    },
    {
     "data": {
      "image/png": "[encoded data removed]",
      "text/plain": [
       "<Figure size 640x480 with 2 Axes>"
      ]
     },
     "metadata": {},
     "output_type": "display_data"
    },
    {
     "data": {
      "text/plain": [
       "{}"
      ]
     },
     "execution_count": 69,
     "metadata": {},
     "output_type": "execute_result"
    }
   ],
   "source": [
    "run_ml_algorithms(male_df,'Blues')"
   ]
  },
  {
   "cell_type": "code",
   "execution_count": 70,
   "metadata": {},
   "outputs": [
    {
     "name": "stdout",
     "output_type": "stream",
     "text": [
      "KNN\n",
      "\n",
      "                     Metric     Value\n",
      "0                  Accuracy  0.666667\n",
      "1             True Positive  0.000000\n",
      "2             True Negative  6.000000\n",
      "3            False Positive  1.000000\n",
      "4            False Negative  2.000000\n",
      "5               Sensitivity  0.000000\n",
      "6               Specificity  0.857143\n",
      "7    Predictive Value (PPV)  0.000000\n",
      "8  Negative Predicted Value  0.750000\n",
      "\n",
      "\n"
     ]
    },
    {
     "data": {
      "image/png": "[encoded data removed]",
      "text/plain": [
       "<Figure size 640x480 with 2 Axes>"
      ]
     },
     "metadata": {},
     "output_type": "display_data"
    },
    {
     "name": "stdout",
     "output_type": "stream",
     "text": [
      "RF\n",
      "\n",
      "                     Metric     Value\n",
      "0                  Accuracy  0.666667\n",
      "1             True Positive  0.000000\n",
      "2             True Negative  6.000000\n",
      "3            False Positive  1.000000\n",
      "4            False Negative  2.000000\n",
      "5               Sensitivity  0.000000\n",
      "6               Specificity  0.857143\n",
      "7    Predictive Value (PPV)  0.000000\n",
      "8  Negative Predicted Value  0.750000\n",
      "\n",
      "\n"
     ]
    },
    {
     "data": {
      "image/png": "[encoded data removed]",
      "text/plain": [
       "<Figure size 640x480 with 2 Axes>"
      ]
     },
     "metadata": {},
     "output_type": "display_data"
    },
    {
     "name": "stdout",
     "output_type": "stream",
     "text": [
      "Decision Tree\n",
      "\n",
      "                     Metric     Value\n",
      "0                  Accuracy  0.666667\n",
      "1             True Positive  0.000000\n",
      "2             True Negative  6.000000\n",
      "3            False Positive  1.000000\n",
      "4            False Negative  2.000000\n",
      "5               Sensitivity  0.000000\n",
      "6               Specificity  0.857143\n",
      "7    Predictive Value (PPV)  0.000000\n",
      "8  Negative Predicted Value  0.750000\n",
      "\n",
      "\n"
     ]
    },
    {
     "data": {
      "image/png": "[encoded data removed]",
      "text/plain": [
       "<Figure size 640x480 with 2 Axes>"
      ]
     },
     "metadata": {},
     "output_type": "display_data"
    },
    {
     "name": "stdout",
     "output_type": "stream",
     "text": [
      "Naive Bayes\n",
      "\n",
      "                     Metric     Value\n",
      "0                  Accuracy  0.444444\n",
      "1             True Positive  0.000000\n",
      "2             True Negative  4.000000\n",
      "3            False Positive  3.000000\n",
      "4            False Negative  2.000000\n",
      "5               Sensitivity  0.000000\n",
      "6               Specificity  0.571429\n",
      "7    Predictive Value (PPV)  0.000000\n",
      "8  Negative Predicted Value  0.666667\n",
      "\n",
      "\n"
     ]
    },
    {
     "data": {
      "image/png": "[encoded data removed]",
      "text/plain": [
       "<Figure size 640x480 with 2 Axes>"
      ]
     },
     "metadata": {},
     "output_type": "display_data"
    },
    {
     "name": "stdout",
     "output_type": "stream",
     "text": [
      "Logistic Regression\n",
      "\n",
      "                     Metric     Value\n",
      "0                  Accuracy  0.666667\n",
      "1             True Positive  0.000000\n",
      "2             True Negative  6.000000\n",
      "3            False Positive  1.000000\n",
      "4            False Negative  2.000000\n",
      "5               Sensitivity  0.000000\n",
      "6               Specificity  0.857143\n",
      "7    Predictive Value (PPV)  0.000000\n",
      "8  Negative Predicted Value  0.750000\n",
      "\n",
      "\n"
     ]
    },
    {
     "data": {
      "image/png": "[encoded data removed]",
      "text/plain": [
       "<Figure size 640x480 with 2 Axes>"
      ]
     },
     "metadata": {},
     "output_type": "display_data"
    },
    {
     "name": "stdout",
     "output_type": "stream",
     "text": [
      "SVM\n",
      "\n",
      "                     Metric     Value\n",
      "0                  Accuracy  0.666667\n",
      "1             True Positive  0.000000\n",
      "2             True Negative  6.000000\n",
      "3            False Positive  1.000000\n",
      "4            False Negative  2.000000\n",
      "5               Sensitivity  0.000000\n",
      "6               Specificity  0.857143\n",
      "7    Predictive Value (PPV)  0.000000\n",
      "8  Negative Predicted Value  0.750000\n",
      "\n",
      "\n"
     ]
    },
    {
     "data": {
      "image/png": "[encoded data removed]",
      "text/plain": [
       "<Figure size 640x480 with 2 Axes>"
      ]
     },
     "metadata": {},
     "output_type": "display_data"
    },
    {
     "data": {
      "text/plain": [
       "{}"
      ]
     },
     "execution_count": 70,
     "metadata": {},
     "output_type": "execute_result"
    }
   ],
   "source": [
    "run_ml_algorithms(female_df,'Reds')"
   ]
  },
  {
   "cell_type": "code",
   "execution_count": null,
   "metadata": {},
   "outputs": [],
   "source": []
  }
 ],
 "metadata": {
  "kernelspec": {
   "display_name": "base",
   "language": "python",
   "name": "python3"
  },
  "language_info": {
   "codemirror_mode": {
    "name": "ipython",
    "version": 3
   },
   "file_extension": ".py",
   "mimetype": "text/x-python",
   "name": "python",
   "nbconvert_exporter": "python",
   "pygments_lexer": "ipython3",
   "version": "3.11.5"
  }
 },
 "nbformat": 4,
 "nbformat_minor": 2
}
