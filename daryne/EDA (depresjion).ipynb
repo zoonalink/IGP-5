{
 "cells": [
  {
   "cell_type": "code",
   "execution_count": 14,
   "id": "a9b8fbe1",
   "metadata": {},
   "outputs": [],
   "source": [
    "import os\n",
    "import pandas as pd\n",
    "import numpy as np\n",
    "import matplotlib.pyplot as plt\n",
    "import seaborn as sns\n",
    "import sklearn"
   ]
  },
  {
   "cell_type": "code",
   "execution_count": 24,
   "id": "eeeaaa62",
   "metadata": {},
   "outputs": [],
   "source": [
    "def extract_folder(folderpath, add_scores=False, downsample=None):\n",
    "    \"\"\"\n",
    "    Extract CSV data from folder and subfolders into a dataframe.\n",
    "\n",
    "    Args:\n",
    "      folderpath (str): Path to the folder containing CSV files.\n",
    "      add_scores (bool, optional): Boolean to add scores.csv to the dataframe. Defaults to False.\n",
    "      downsample (int, optional): Number of rows to downsample CSVs to. Defaults to None.\n",
    "\n",
    "    Returns:\n",
    "      pandas.DataFrame: DataFrame of concatenated CSV data.\n",
    "    \"\"\"\n",
    "    \n",
    "    # Dict to store dataframes by condition  \n",
    "    dfs = {'control': [], 'condition': []}\n",
    "\n",
    "    try:\n",
    "        # Handle top-level scores CSV\n",
    "        if add_scores and 'scores.csv' in os.listdir(folderpath):\n",
    "            scores_path = os.path.join(folderpath, 'scores.csv')  \n",
    "            dfs['scores'] = pd.read_csv(scores_path)\n",
    "\n",
    "        # Get subfolders\n",
    "        subfolders = [f for f in os.listdir(folderpath) if os.path.isdir(os.path.join(folderpath, f))]\n",
    "\n",
    "        for subfolder in subfolders:\n",
    "            subfolderpath = os.path.join(folderpath, subfolder)  \n",
    "\n",
    "            # Get list of CSV files\n",
    "            files = os.listdir(subfolderpath)\n",
    "\n",
    "            for file in files:\n",
    "                filepath = os.path.join(subfolderpath, file)\n",
    "\n",
    "                # Extract ID from filename \n",
    "                id = file.split('.')[0]\n",
    "\n",
    "                df = pd.read_csv(filepath)\n",
    "\n",
    "                # Downsample if needed\n",
    "                if downsample:\n",
    "                    df = df.sample(downsample)\n",
    "\n",
    "                # Add ID column - this is the filename without the extension\n",
    "                df['id'] = id\n",
    "\n",
    "                # Add 'condition' column\n",
    "                df['condition'] = subfolder\n",
    "\n",
    "                # Convert 'timestamp' and 'date' to datetime\n",
    "                df['timestamp'] = pd.to_datetime(df['timestamp'])\n",
    "                df['date'] = pd.to_datetime(df['date'])\n",
    "\n",
    "                # Append to dict by condition\n",
    "                if subfolder == 'control':\n",
    "                    dfs['control'].append(df)\n",
    "                else:  \n",
    "                    dfs['condition'].append(df)\n",
    "\n",
    "    except OSError:\n",
    "        print(f\"Error reading folder: {folderpath}\")\n",
    "\n",
    "    # concatenate dfs for each condition\n",
    "    dfs['control'] = pd.concat(dfs['control'])\n",
    "    dfs['condition'] = pd.concat(dfs['condition'])\n",
    "\n",
    "    # Reset index on the final df\n",
    "    df = pd.concat([dfs['control'], dfs['condition']]).reset_index(drop=True)\n",
    "\n",
    "    # add label column\n",
    "    df['label'] = 0\n",
    "    df.loc[df['condition'] == 'condition', 'label'] = 1\n",
    "    \n",
    "    # remove old 'condition' column\n",
    "    df.drop('condition', axis=1, inplace=True)\n",
    "\n",
    "    # Final concat\n",
    "    return df"
   ]
  },
  {
   "cell_type": "markdown",
   "id": "3b614af3",
   "metadata": {},
   "source": [
    "## Exploratory data analysis (EDA)"
   ]
  },
  {
   "cell_type": "code",
   "execution_count": 47,
   "id": "1acad281",
   "metadata": {},
   "outputs": [
    {
     "name": "stdout",
     "output_type": "stream",
     "text": [
      "<bound method NDFrame.head of                   timestamp       date  activity           id  label\n",
      "0       2003-03-18 15:00:00 2003-03-18        60    control_1      0\n",
      "1       2003-03-18 15:01:00 2003-03-18         0    control_1      0\n",
      "2       2003-03-18 15:02:00 2003-03-18       264    control_1      0\n",
      "3       2003-03-18 15:03:00 2003-03-18       662    control_1      0\n",
      "4       2003-03-18 15:04:00 2003-03-18       293    control_1      0\n",
      "...                     ...        ...       ...          ...    ...\n",
      "1571701 2004-06-10 15:03:00 2004-06-10         0  condition_9      1\n",
      "1571702 2004-06-10 15:04:00 2004-06-10         0  condition_9      1\n",
      "1571703 2004-06-10 15:05:00 2004-06-10       449  condition_9      1\n",
      "1571704 2004-06-10 15:06:00 2004-06-10         0  condition_9      1\n",
      "1571705 2004-06-10 15:07:00 2004-06-10         0  condition_9      1\n",
      "\n",
      "[1571706 rows x 5 columns]>\n"
     ]
    }
   ],
   "source": [
    "# set folder path\n",
    "folderpath = 'C:/Users/bouad/OneDrive/Bureau/depresjon/data'\n",
    "# extract all files\n",
    "all_files = extract_folder(folderpath, add_scores=True)\n",
    "# print rows 21-24\n",
    "#print(all_files.iloc[21:25])\n",
    "print(all_files.head)\n"
   ]
  },
  {
   "cell_type": "code",
   "execution_count": 43,
   "id": "f2c47245",
   "metadata": {},
   "outputs": [],
   "source": [
    "def merge_dataframes(df, scores_df, merge_on_df='id', merge_on_scores='number', include_all_labels=False, save_to_csv=False, output_csv_path=None):\n",
    "    try:\n",
    "        # merge based on specified columns\n",
    "        merged_df = pd.merge(df, scores_df, left_on=merge_on_df, right_on=merge_on_scores, how='left')\n",
    "        # Fill missing values with NaN\n",
    "        merged_df.fillna(value=pd.NA, inplace=True)\n",
    "\n",
    "        # filter rows based on label\n",
    "        if 'label' in merged_df.columns:\n",
    "            if not include_all_labels:\n",
    "                merged_df = merged_df[merged_df['label'] == 1]\n",
    "\n",
    "        if save_to_csv:\n",
    "            if output_csv_path:\n",
    "                merged_df.to_csv(output_csv_path, index=False)\n",
    "                print(f\"Updated df saved to {output_csv_path}\")\n",
    "            else:\n",
    "                print(\"Error: Please provide an output CSV path.\")\n",
    "        return merged_df\n",
    "    except KeyError:\n",
    "        print(f\"Error: '{merge_on_df}' column not found in the specified DataFrames.\")\n",
    "        return merged_df\n",
    "\n",
    "\n"
   ]
  },
  {
   "cell_type": "code",
   "execution_count": 54,
   "id": "6f0035fc",
   "metadata": {},
   "outputs": [
    {
     "name": "stdout",
     "output_type": "stream",
     "text": [
      "                  timestamp       date  activity           id  label  \\\n",
      "1019990 2003-05-07 12:00:00 2003-05-07         0  condition_1      1   \n",
      "1019991 2003-05-07 12:01:00 2003-05-07       143  condition_1      1   \n",
      "1019992 2003-05-07 12:02:00 2003-05-07         0  condition_1      1   \n",
      "1019993 2003-05-07 12:03:00 2003-05-07        20  condition_1      1   \n",
      "1019994 2003-05-07 12:04:00 2003-05-07       166  condition_1      1   \n",
      "...                     ...        ...       ...          ...    ...   \n",
      "1571701 2004-06-10 15:03:00 2004-06-10         0  condition_9      1   \n",
      "1571702 2004-06-10 15:04:00 2004-06-10         0  condition_9      1   \n",
      "1571703 2004-06-10 15:05:00 2004-06-10       449  condition_9      1   \n",
      "1571704 2004-06-10 15:06:00 2004-06-10         0  condition_9      1   \n",
      "1571705 2004-06-10 15:07:00 2004-06-10         0  condition_9      1   \n",
      "\n",
      "              number  days  gender    age  afftype  melanch  inpatient   edu  \\\n",
      "1019990  condition_1    11       2  35-39      2.0      2.0        2.0  6-10   \n",
      "1019991  condition_1    11       2  35-39      2.0      2.0        2.0  6-10   \n",
      "1019992  condition_1    11       2  35-39      2.0      2.0        2.0  6-10   \n",
      "1019993  condition_1    11       2  35-39      2.0      2.0        2.0  6-10   \n",
      "1019994  condition_1    11       2  35-39      2.0      2.0        2.0  6-10   \n",
      "...              ...   ...     ...    ...      ...      ...        ...   ...   \n",
      "1571701  condition_9    13       2  45-49      1.0      NaN        2.0  6-10   \n",
      "1571702  condition_9    13       2  45-49      1.0      NaN        2.0  6-10   \n",
      "1571703  condition_9    13       2  45-49      1.0      NaN        2.0  6-10   \n",
      "1571704  condition_9    13       2  45-49      1.0      NaN        2.0  6-10   \n",
      "1571705  condition_9    13       2  45-49      1.0      NaN        2.0  6-10   \n",
      "\n",
      "         marriage  work  madrs1  madrs2  \n",
      "1019990       1.0   2.0    19.0    19.0  \n",
      "1019991       1.0   2.0    19.0    19.0  \n",
      "1019992       1.0   2.0    19.0    19.0  \n",
      "1019993       1.0   2.0    19.0    19.0  \n",
      "1019994       1.0   2.0    19.0    19.0  \n",
      "...           ...   ...     ...     ...  \n",
      "1571701       1.0   2.0    26.0    26.0  \n",
      "1571702       1.0   2.0    26.0    26.0  \n",
      "1571703       1.0   2.0    26.0    26.0  \n",
      "1571704       1.0   2.0    26.0    26.0  \n",
      "1571705       1.0   2.0    26.0    26.0  \n",
      "\n",
      "[551716 rows x 17 columns]\n"
     ]
    }
   ],
   "source": [
    "scores_df = pd.read_csv('C:/Users/bouad/OneDrive/Bureau/depresjon/data/scores.csv')\n",
    "#print(scores_df)\n",
    "merged_df = merge_dataframes(df, scores_df, merge_on_df='id', merge_on_scores='number')\n",
    "print(merged_df)"
   ]
  },
  {
   "cell_type": "code",
   "execution_count": 4,
   "id": "711ad73b",
   "metadata": {},
   "outputs": [
    {
     "name": "stdout",
     "output_type": "stream",
     "text": [
      "            timestamp       date  activity         id  label\n",
      "0 2003-03-18 15:00:00 2003-03-18        60  control_1      0\n",
      "1 2003-03-18 15:01:00 2003-03-18         0  control_1      0\n",
      "2 2003-03-18 15:02:00 2003-03-18       264  control_1      0\n",
      "3 2003-03-18 15:03:00 2003-03-18       662  control_1      0\n",
      "4 2003-03-18 15:04:00 2003-03-18       293  control_1      0\n",
      "                           timestamp                           date  \\\n",
      "count                        1571706                        1571706   \n",
      "mean   2003-12-11 11:28:18.007070208  2003-12-10 23:28:14.226782464   \n",
      "min              2002-05-24 11:30:00            2002-05-24 00:00:00   \n",
      "25%              2003-04-01 02:07:00            2003-04-01 00:00:00   \n",
      "50%              2003-11-27 19:06:00            2003-11-27 00:00:00   \n",
      "75%              2004-03-08 18:07:00            2004-03-08 00:00:00   \n",
      "max              2006-02-14 13:38:00            2006-02-14 00:00:00   \n",
      "std                              NaN                            NaN   \n",
      "\n",
      "           activity         label  \n",
      "count  1.571706e+06  1.571706e+06  \n",
      "mean   1.795652e+02  3.510300e-01  \n",
      "min    0.000000e+00  0.000000e+00  \n",
      "25%    0.000000e+00  0.000000e+00  \n",
      "50%    4.000000e+00  0.000000e+00  \n",
      "75%    2.020000e+02  1.000000e+00  \n",
      "max    8.000000e+03  1.000000e+00  \n",
      "std    3.597233e+02  4.772925e-01  \n",
      "<class 'pandas.core.frame.DataFrame'>\n",
      "RangeIndex: 1571706 entries, 0 to 1571705\n",
      "Data columns (total 5 columns):\n",
      " #   Column     Non-Null Count    Dtype         \n",
      "---  ------     --------------    -----         \n",
      " 0   timestamp  1571706 non-null  datetime64[ns]\n",
      " 1   date       1571706 non-null  datetime64[ns]\n",
      " 2   activity   1571706 non-null  int64         \n",
      " 3   id         1571706 non-null  object        \n",
      " 4   label      1571706 non-null  int64         \n",
      "dtypes: datetime64[ns](2), int64(2), object(1)\n",
      "memory usage: 60.0+ MB\n",
      "None\n"
     ]
    }
   ],
   "source": [
    "# Assuming all_files is already loaded from your previous function call\n",
    "print(all_files.head())\n",
    "print(all_files.describe())\n",
    "print(all_files.info())\n",
    "\n"
   ]
  },
  {
   "cell_type": "code",
   "execution_count": 5,
   "id": "0268b402",
   "metadata": {},
   "outputs": [
    {
     "name": "stdout",
     "output_type": "stream",
     "text": [
      "Index(['timestamp', 'date', 'activity', 'id', 'label'], dtype='object')\n"
     ]
    }
   ],
   "source": [
    "# Print the column names of the DataFrame\n",
    "print(all_files.columns)\n",
    "\n"
   ]
  },
  {
   "cell_type": "code",
   "execution_count": 10,
   "id": "604ba694",
   "metadata": {},
   "outputs": [
    {
     "data": {
      "image/png": "[encoded data removed]",
      "text/plain": [
       "<Figure size 400x400 with 1 Axes>"
      ]
     },
     "metadata": {},
     "output_type": "display_data"
    },
    {
     "data": {
      "image/png": "[encoded data removed]",
      "text/plain": [
       "<Figure size 400x400 with 1 Axes>"
      ]
     },
     "metadata": {},
     "output_type": "display_data"
    }
   ],
   "source": [
    "\n",
    "# Assuming 'age' and 'income' are columns in your DataFrame\n",
    "numeric_cols = ['date', 'activity']  # Update this list with your actual numeric columns\n",
    "for col in numeric_cols:\n",
    "    plt.figure(figsize=(4, 4))\n",
    "    sns.histplot(data=all_files, x=col, hue='label', element='step', stat='density', common_norm=False)\n",
    "    plt.title(f'Distribution of {col} by Group')\n",
    "    plt.show()\n"
   ]
  },
  {
   "cell_type": "markdown",
   "id": "86d717ef",
   "metadata": {},
   "source": [
    "## preprocessing"
   ]
  },
  {
   "cell_type": "code",
   "execution_count": null,
   "id": "b0d615e7",
   "metadata": {},
   "outputs": [],
   "source": [
    "# Handling missing values\n",
    "all_files.fillna(all_files.mean(), inplace=True)  # Using mean to fill numeric columns; adjust as needed\n",
    "\n",
    "# Feature scaling (if needed, depending on your subsequent analysis methods)\n",
    "from sklearn.preprocessing import StandardScaler\n",
    "scaler = StandardScaler()\n",
    "all_files[numeric_cols] = scaler.fit_transform(all_files[numeric_cols])\n",
    "\n",
    "# Encoding categorical variables, if any\n",
    "# If 'category_column' is a nominal categorical column\n",
    "all_files = pd.get_dummies(all_files, columns=['category_column'], drop_first=True)\n"
   ]
  },
  {
   "cell_type": "code",
   "execution_count": null,
   "id": "1657d663",
   "metadata": {},
   "outputs": [],
   "source": [
    "# Assuming 'gender' is a column distinguishing male (coded as 0) and female (coded as 1)\n",
    "grouped_by_gender = all_files.groupby('gender').mean()\n",
    "print(grouped_by_gender)\n",
    "\n",
    "# Visualize differences in a particular variable across gender within control and condition\n",
    "plt.figure(figsize=(10, 6))\n",
    "sns.boxplot(x='gender', y='your_numeric_col1', hue='label', data=all_files)\n",
    "plt.title('Gender Comparison in Your_Numeric_Col1 Across Groups')\n",
    "plt.show()\n"
   ]
  }
 ],
 "metadata": {
  "kernelspec": {
   "display_name": "Python 3 (ipykernel)",
   "language": "python",
   "name": "python3"
  },
  "language_info": {
   "codemirror_mode": {
    "name": "ipython",
    "version": 3
   },
   "file_extension": ".py",
   "mimetype": "text/x-python",
   "name": "python",
   "nbconvert_exporter": "python",
   "pygments_lexer": "ipython3",
   "version": "3.11.5"
  }
 },
 "nbformat": 4,
 "nbformat_minor": 5
}
