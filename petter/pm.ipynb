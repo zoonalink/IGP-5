{
 "cells": [
  {
   "cell_type": "code",
   "execution_count": null,
   "metadata": {},
   "outputs": [],
   "source": [
    "\n",
    "contributions = {\n",
    "    'Person1': {'Project Planning': 80, 'Research': 10, 'Modelling': 5, 'EDA': 5, 'wiki': 0, 'Review': 10},\n",
    "    'Person2': {'Project Planning': 20, 'Research': 30, 'Modelling': 40, 'EDA': 5, 'wiki': 5, 'Review': 60},\n",
    "    # ... (similar entries for other group members)\n",
    "}\n",
    "\n",
    "# Calculate average contributions\n",
    "section_contributions = {}\n",
    "for section in contributions['Person1']:\n",
    "    section_contributions[section] = sum(contributions[person][section] for person in contributions) / len(contributions)\n",
    "\n",
    "# Weighted contributions (optional)\n",
    "total_contributions = {person: sum(contributions[person].values()) for person in contributions}\n",
    "weighted_section_contributions = {}\n",
    "for section in section_contributions:\n",
    "    weighted_sum = sum(contributions[person][section] * total_contributions[person] for person in contributions)\n",
    "    weighted_section_contributions[section] = weighted_sum / sum(total_contributions.values())\n",
    "\n",
    "# Print results\n",
    "print(\"Average Contributions:\")\n",
    "for section, avg in section_contributions.items():\n",
    "    print(f\"{section}: {avg:.2f}%\")\n",
    "\n",
    "print(\"\\nWeighted Contributions:\")\n",
    "for section, weighted_avg in weighted_section_contributions.items():\n",
    "    print(f\"{section}: {weighted_avg:.2f}%\")\n"
   ]
  }
 ],
 "metadata": {
  "kernelspec": {
   "display_name": "igp5_env",
   "language": "python",
   "name": "python3"
  },
  "language_info": {
   "name": "python",
   "version": "3.9.18"
  }
 },
 "nbformat": 4,
 "nbformat_minor": 2
}
