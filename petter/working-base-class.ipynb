{
 "cells": [
  {
   "cell_type": "markdown",
   "metadata": {},
   "source": [
    "# Basic classification models\n",
    "\n",
    "* initial objectives:\n",
    "  * fit several base models\n",
    "  * candidates:  `logistic regression`, `decision tree`, `svm`, `random forest`, `gradient boosting`, `knn`, `naive bayes`, `neural networks`\n",
    "  * "
   ]
  },
  {
   "cell_type": "markdown",
   "metadata": {},
   "source": [
    "## Import libraries and load functions"
   ]
  },
  {
   "cell_type": "code",
   "execution_count": 15,
   "metadata": {},
   "outputs": [],
   "source": [
    "# import\n",
    "import pandas as pd\n",
    "from sklearn.preprocessing import StandardScaler"
   ]
  },
  {
   "cell_type": "markdown",
   "metadata": {},
   "source": [
    "### functions\n",
    "- [x] extract depresjon from folder\n",
    "- [x] extract full days (1440 rows) records and minimum full records\n",
    "- [ ] resample, e.g. to hourly\n",
    "- [x] normalise data (mean = 0, std = 1)\n",
    "- [ ] "
   ]
  },
  {
   "cell_type": "code",
   "execution_count": 32,
   "metadata": {},
   "outputs": [],
   "source": [
    "# load pl functions\n",
    "\n",
    "%run ../code/pl-functions.py"
   ]
  },
  {
   "cell_type": "markdown",
   "metadata": {},
   "source": [
    "## Data preprocessing"
   ]
  },
  {
   "cell_type": "markdown",
   "metadata": {},
   "source": [
    "### Extract data from folder"
   ]
  },
  {
   "cell_type": "code",
   "execution_count": 33,
   "metadata": {},
   "outputs": [],
   "source": [
    "# load the data\n",
    "df = extract_folder('../data/depresjon')"
   ]
  },
  {
   "cell_type": "code",
   "execution_count": 34,
   "metadata": {},
   "outputs": [
    {
     "name": "stdout",
     "output_type": "stream",
     "text": [
      "<class 'pandas.core.frame.DataFrame'>\n",
      "RangeIndex: 1571706 entries, 0 to 1571705\n",
      "Data columns (total 5 columns):\n",
      " #   Column     Non-Null Count    Dtype         \n",
      "---  ------     --------------    -----         \n",
      " 0   timestamp  1571706 non-null  datetime64[ns]\n",
      " 1   date       1571706 non-null  datetime64[ns]\n",
      " 2   activity   1571706 non-null  int64         \n",
      " 3   id         1571706 non-null  object        \n",
      " 4   label      1571706 non-null  int64         \n",
      "dtypes: datetime64[ns](2), int64(2), object(1)\n",
      "memory usage: 60.0+ MB\n",
      "None\n"
     ]
    }
   ],
   "source": [
    "# print head\n",
    "#print(df.head())\n",
    "\n",
    "print(df.info())"
   ]
  },
  {
   "cell_type": "code",
   "execution_count": 5,
   "metadata": {},
   "outputs": [
    {
     "name": "stdout",
     "output_type": "stream",
     "text": [
      "55\n"
     ]
    }
   ],
   "source": []
  },
  {
   "cell_type": "markdown",
   "metadata": {},
   "source": [
    "### Reduce dataset to full days only\n"
   ]
  },
  {
   "cell_type": "code",
   "execution_count": 35,
   "metadata": {},
   "outputs": [],
   "source": [
    "# extract full days\n",
    "df7 = extract_full_days(df, 7)"
   ]
  },
  {
   "cell_type": "code",
   "execution_count": 36,
   "metadata": {},
   "outputs": [
    {
     "name": "stdout",
     "output_type": "stream",
     "text": [
      "55\n",
      "2003-05-08\n",
      "2003-05-23\n",
      "<class 'pandas.core.frame.DataFrame'>\n",
      "Int64Index: 1527281 entries, 540 to 1570797\n",
      "Data columns (total 5 columns):\n",
      " #   Column     Non-Null Count    Dtype         \n",
      "---  ------     --------------    -----         \n",
      " 0   timestamp  1527281 non-null  datetime64[ns]\n",
      " 1   date       1527281 non-null  object        \n",
      " 2   activity   1527281 non-null  int64         \n",
      " 3   id         1527281 non-null  object        \n",
      " 4   label      1527281 non-null  int64         \n",
      "dtypes: datetime64[ns](1), int64(2), object(2)\n",
      "memory usage: 69.9+ MB\n",
      "None\n"
     ]
    }
   ],
   "source": [
    "# print rows per id / 1440\n",
    "#print(df7.groupby('id').size()/1440)\n",
    "\n",
    "# print unique count of id\n",
    "print(df7['id'].nunique())\n",
    "\n",
    "# print days for each id\n",
    "#num_days = df.groupby('id')['date'].nunique()\n",
    "#print(num_days)\n",
    "\n",
    "# print date range for condition_1 id\n",
    "print(df7[df7['id'] == 'condition_1']['date'].min())\n",
    "print(df7[df7['id'] == 'condition_1']['date'].max())\n",
    "\n",
    "# print info\n",
    "print(df7.info())\n",
    "\n"
   ]
  },
  {
   "cell_type": "markdown",
   "metadata": {},
   "source": [
    "### Resample - \n",
    "\n",
    "* I am skipping this optional step for now...I want to see if it runs on the complete df"
   ]
  },
  {
   "cell_type": "markdown",
   "metadata": {},
   "source": [
    "### Normalise"
   ]
  },
  {
   "cell_type": "code",
   "execution_count": 37,
   "metadata": {},
   "outputs": [
    {
     "name": "stderr",
     "output_type": "stream",
     "text": [
      "C:\\Users\\zoona\\OneDrive - UWE Bristol\\DS Year 2\\IGP-5\\code\\pl-functions.py:185: SettingWithCopyWarning: \n",
      "A value is trying to be set on a copy of a slice from a DataFrame.\n",
      "Try using .loc[row_indexer,col_indexer] = value instead\n",
      "\n",
      "See the caveats in the documentation: https://pandas.pydata.org/pandas-docs/stable/user_guide/indexing.html#returning-a-view-versus-a-copy\n",
      "  df[columns_to_normalise] = scaler.fit_transform(df[columns_to_normalise])\n"
     ]
    }
   ],
   "source": [
    "# column to normalise\n",
    "col_to_normlise = ['activity']\n",
    "\n",
    "# normalise\n",
    "df7_norm = normalise_data(df7, col_to_normlise)\n"
   ]
  },
  {
   "cell_type": "code",
   "execution_count": 39,
   "metadata": {},
   "outputs": [
    {
     "name": "stdout",
     "output_type": "stream",
     "text": [
      "<class 'pandas.core.frame.DataFrame'>\n",
      "Int64Index: 1527281 entries, 540 to 1570797\n",
      "Data columns (total 5 columns):\n",
      " #   Column     Non-Null Count    Dtype         \n",
      "---  ------     --------------    -----         \n",
      " 0   timestamp  1527281 non-null  datetime64[ns]\n",
      " 1   date       1527281 non-null  object        \n",
      " 2   activity   1527281 non-null  float64       \n",
      " 3   id         1527281 non-null  object        \n",
      " 4   label      1527281 non-null  int64         \n",
      "dtypes: datetime64[ns](1), float64(1), int64(1), object(2)\n",
      "memory usage: 69.9+ MB\n",
      "None\n"
     ]
    }
   ],
   "source": [
    "# print head\n",
    "#print(df.head())\n",
    "\n",
    "# print info\n",
    "print(df7_norm.info())"
   ]
  },
  {
   "cell_type": "markdown",
   "metadata": {},
   "source": [
    "### Feature engineering\n",
    "\n",
    "This model will be run on aggregated features:\n",
    "\n",
    "* `mean`, `std`, `min`, `max`, `sum`\n",
    "* `active_periods`, `inactive_periods`"
   ]
  },
  {
   "cell_type": "markdown",
   "metadata": {},
   "source": [
    "#### Active - what is active?\n",
    "\n",
    "* trying to understand what could constitute being active in this data - will need more reading (actigraphs, etc.)\n",
    "* going to start with 0.5 as the threshold"
   ]
  },
  {
   "cell_type": "code",
   "execution_count": 42,
   "metadata": {},
   "outputs": [
    {
     "name": "stdout",
     "output_type": "stream",
     "text": [
      "count    1.527281e+06\n",
      "mean     2.452713e-17\n",
      "std      1.000000e+00\n",
      "min     -4.993880e-01\n",
      "25%     -4.993880e-01\n",
      "50%     -4.882190e-01\n",
      "75%      6.185239e-02\n",
      "max      2.183854e+01\n",
      "Name: activity, dtype: float64\n"
     ]
    }
   ],
   "source": [
    "# summary stats for activity (normalised)\n",
    "print(df7_norm['activity'].describe())"
   ]
  },
  {
   "cell_type": "code",
   "execution_count": 61,
   "metadata": {},
   "outputs": [
    {
     "data": {
      "image/png": "[encoded data removed]",
      "text/plain": [
       "<Figure size 640x480 with 1 Axes>"
      ]
     },
     "metadata": {},
     "output_type": "display_data"
    }
   ],
   "source": [
    "# plot activity histogram, zoom in on -0.07 to 0.07\n",
    "import matplotlib.pyplot as plt\n",
    "df7_norm['activity'].hist(bins=150)\n",
    "plt.xlabel('Activity Level')\n",
    "plt.ylabel('Frequency')\n",
    "plt.xlim(-0.07, 4)  #  limits of the x-axis\n",
    "plt.ylim(0, 60000)\n",
    "plt.show()\n",
    "\n",
    "\n"
   ]
  },
  {
   "cell_type": "code",
   "execution_count": 62,
   "metadata": {},
   "outputs": [],
   "source": [
    "def generate_features(df, activity_threshold=0.5):\n",
    "    \"\"\"\n",
    "    Generate features for each subject in the DataFrame.\n",
    "\n",
    "    Parameters:\n",
    "    df (DataFrame): The input DataFrame containing timestamp, date, activity, id, and label columns.\n",
    "    activity_threshold (float): The threshold to define active vs inactive periods.\n",
    "\n",
    "    Returns:\n",
    "    DataFrame: A DataFrame where each row corresponds to a subject and contains the generated features.\n",
    "    \"\"\"\n",
    "    # Group the DataFrame by 'id' and 'date'\n",
    "    groups = df.groupby(['id', 'date'])\n",
    "\n",
    "    # Calculate basic statistics\n",
    "    mean_activity = groups['activity'].mean()\n",
    "    std_activity = groups['activity'].std()\n",
    "    min_activity = groups['activity'].min()\n",
    "    max_activity = groups['activity'].max()\n",
    "    total_activity = groups['activity'].sum()\n",
    "\n",
    "    # Calculate number of active and inactive periods\n",
    "    active_periods = groups.apply(lambda x: (x['activity'] > activity_threshold).sum())\n",
    "    inactive_periods = groups.apply(lambda x: (x['activity'] <= activity_threshold).sum())\n",
    "\n",
    "    # Combine all features into a single DataFrame\n",
    "    features = pd.concat([mean_activity, std_activity, min_activity, max_activity, total_activity, active_periods, inactive_periods], axis=1)\n",
    "    features.columns = ['mean_activity', 'std_activity', 'min_activity', 'max_activity', 'total_activity', 'active_periods', 'inactive_periods']\n",
    "\n",
    "    # Reset the index\n",
    "    features.reset_index(inplace=True)\n",
    "\n",
    "    # Get the label for each subject\n",
    "    labels = df.groupby('id')['label'].first()\n",
    "    features = features.merge(labels, left_on='id', right_index=True)\n",
    "\n",
    "    return features\n"
   ]
  },
  {
   "cell_type": "code",
   "execution_count": 63,
   "metadata": {},
   "outputs": [],
   "source": [
    "df7_feat = generate_features(df7_norm, activity_threshold=0.5)"
   ]
  },
  {
   "cell_type": "code",
   "execution_count": 64,
   "metadata": {},
   "outputs": [
    {
     "name": "stdout",
     "output_type": "stream",
     "text": [
      "            id        date  mean_activity  std_activity  min_activity  \\\n",
      "0  condition_1  2003-05-08      -0.063108      0.639730     -0.499388   \n",
      "1  condition_1  2003-05-09      -0.152772      0.589836     -0.499388   \n",
      "2  condition_1  2003-05-10      -0.122542      0.644881     -0.499388   \n",
      "3  condition_1  2003-05-11      -0.221729      0.496237     -0.499388   \n",
      "4  condition_1  2003-05-12       0.385401      1.385467     -0.499388   \n",
      "\n",
      "   max_activity  total_activity  active_periods  inactive_periods  label  \n",
      "0      4.956650      -90.875703             238              1202      1  \n",
      "1      4.169238     -219.991698             179              1261      1  \n",
      "2      5.492760     -176.460668             174              1266      1  \n",
      "3      5.308472     -319.289356             124              1316      1  \n",
      "4      9.346052      554.977909             435              1005      1  \n"
     ]
    }
   ],
   "source": [
    "print(df7_feat.head())\n"
   ]
  },
  {
   "cell_type": "markdown",
   "metadata": {},
   "source": [
    "## Train / Test split"
   ]
  },
  {
   "cell_type": "code",
   "execution_count": 72,
   "metadata": {},
   "outputs": [],
   "source": [
    "from sklearn.model_selection import train_test_split\n",
    "\n",
    "\"\"\"\n",
    "Split the dataset into training and testing sets.\n",
    "\n",
    "Parameters:\n",
    "    X (DataFrame): The input features.\n",
    "    y (Series): The target variable.\n",
    "    test_size (float): The proportion of the dataset to include in the test split.\n",
    "    random_state (int): The seed used by the random number generator.\n",
    "\n",
    "Returns:\n",
    "    X_train (DataFrame): The training set of input features.\n",
    "    X_test (DataFrame): The testing set of input features.\n",
    "    y_train (Series): The training set of target variable.\n",
    "    y_test (Series): The testing set of target variable.\n",
    "\"\"\"\n",
    "X = df7_feat.drop(['label', 'date', 'id'], axis=1)\n",
    "y = df7_feat['label']\n",
    "\n",
    "X_train, X_test, y_train, y_test = train_test_split(X, y, test_size=0.2, random_state=42)\n"
   ]
  },
  {
   "cell_type": "code",
   "execution_count": 74,
   "metadata": {},
   "outputs": [
    {
     "name": "stdout",
     "output_type": "stream",
     "text": [
      "<class 'pandas.core.frame.DataFrame'>\n",
      "Int64Index: 868 entries, 328 to 860\n",
      "Data columns (total 7 columns):\n",
      " #   Column            Non-Null Count  Dtype  \n",
      "---  ------            --------------  -----  \n",
      " 0   mean_activity     868 non-null    float64\n",
      " 1   std_activity      868 non-null    float64\n",
      " 2   min_activity      868 non-null    float64\n",
      " 3   max_activity      868 non-null    float64\n",
      " 4   total_activity    868 non-null    float64\n",
      " 5   active_periods    868 non-null    int64  \n",
      " 6   inactive_periods  868 non-null    int64  \n",
      "dtypes: float64(5), int64(2)\n",
      "memory usage: 54.2 KB\n",
      "None\n"
     ]
    }
   ],
   "source": [
    "# info on train and test\n",
    "print(X_train.info())\n",
    "\n"
   ]
  },
  {
   "cell_type": "markdown",
   "metadata": {},
   "source": [
    "## Models"
   ]
  },
  {
   "cell_type": "markdown",
   "metadata": {},
   "source": [
    "**Logistic Regression:**\n",
    "LR is a statistical model used in binary classification by modelling the log-odds of the probability of an event.\n",
    "* Strengths: Simple, fast, and efficient for small dataset with limited features.\n",
    "* Weaknesses: Assumes a linear decision boundary, can underperform with complex datasets.\n",
    "\n",
    "**Random Forest:**\n",
    "* RF is an ensemble learning method constructs multiple decision trees at training time and outputting the class that is the mode of the classes of the individual trees.\n",
    "* Strengths: Handles categorical variables well, resistant to overfitting, can model non-linear decision boundaries.\n",
    "* Weaknesses: *Can be slow on large datasets*, not easily interpretable.\n",
    "\n",
    "**Support Vector Machine (SVM):**\n",
    "* SVM is a powerful and flexible class of supervised algorithms for both classification and regression.\n",
    "* Strengths: Effective in high dimensional spaces, or when number of dimensions is greater than the number of samples.\n",
    "* Weaknesses: Does not directly provide probability estimates, can be *inefficient to train*.\n",
    "  \n",
    "**Decision Tree:**\n",
    "* DT are a type of simple flowchart-like structure in which internal node represents feature(or attribute), the branch represents a decision rule, and each leaf node represents the outcome.\n",
    "* Strengths: Simple to understand and interpret, requires little data preparation.\n",
    "* Weaknesses: Prone to overfitting, can create biased trees if some classes dominate.\n",
    "\n",
    "**K-Nearest Neighbors (KNN):**\n",
    "* KNN is a type of *instance-based learning, or lazy learning*, where the function is only approximated locally and all computation is deferred until function evaluation.\n",
    "* Strengths: Simple, effective for datasets with complex decision boundaries.\n",
    "* Weaknesses: *Slow on large datasets*, sensitive to irrelevant features.\n",
    "\n",
    "**Naive Bayes:**\n",
    "* NB classifiers are a family of simple “probabilistic classifiers” based on applying Bayes’ theorem with strong (naïve) independence assumptions between the features.\n",
    "* Strengths: Fast, simple, performs well with small datasets.\n",
    "* Weaknesses: *Assumes that all features are independent*, which is rarely the case.\n",
    "\n",
    "**Neural Network (MLPClassifier):**\n",
    "* MLPClassifier stands for Multi-layer Perceptron classifier connects to a Neural Network. MLPClassifier relies on an underlying Neural Network to perform the task of classification.\n",
    "* Strengths: Can model complex, non-linear patterns.\n",
    "* Weaknesses: *Requires a lot of data and computational resources, not easily interpretable.*\n",
    "\n",
    "**XGBoost**:\n",
    "* XGBoost is an optimised distributed gradient boosting library designed to be highly efficient, flexible and portable.\n",
    "* Strengths: Fast, accurate, supports regularisation to avoid overfitting.\n",
    "* Weaknesses: *Can be slow to train*, not easily interpretable.\n",
    "\n",
    "**LightGBM**:\n",
    "* LightGBM is a gradient boosting framework that uses tree-based learning algorithms. It is designed to be distributed and efficient with the following advantages: Faster training speed and higher efficiency, lower memory usage, better accuracy, support of parallel and GPU learning, capable of handling large-scale data.\n",
    "* Strengths: Fast, uses less memory, higher accuracy.\n",
    "* Weaknesses: Can overfit on small datasets, not easily interpretable.\n",
    "\n",
    "**AdaBoost**:\n",
    "* AdaBoost is a boosting algorithm which constructs a classifier. Adaboost creates a strong classifier from number of weak classifiers.\n",
    "* Strengths: Fast, simple, less prone to overfitting.\n",
    "* Weaknesses: Sensitive to noisy data and outliers.\n",
    "\n",
    "**Quadratic Discriminant Analysis (QDA):**\n",
    "* QDA is a classifier with a quadratic decision boundary, generated by fitting class conditional densities to the data and using Bayes’ rule.\n",
    "* Strengths: Can model more complex decision boundaries than linear methods.\n",
    "* Weaknesses: *Assumes that the observations are normally distributed*, which is rarely the case."
   ]
  },
  {
   "cell_type": "code",
   "execution_count": null,
   "metadata": {},
   "outputs": [],
   "source": [
    "#%pip install xgboost\n",
    "#%pip install lightgbm"
   ]
  },
  {
   "cell_type": "markdown",
   "metadata": {},
   "source": [
    "## Import model libraries"
   ]
  },
  {
   "cell_type": "code",
   "execution_count": 66,
   "metadata": {},
   "outputs": [],
   "source": [
    "import time\n",
    "\n",
    "from sklearn.metrics import accuracy_score, precision_score, recall_score, f1_score, matthews_corrcoef, roc_auc_score\n",
    "from sklearn.linear_model import LogisticRegression\n",
    "from sklearn.model_selection import cross_val_score\n",
    "from sklearn.ensemble import RandomForestClassifier, AdaBoostClassifier, GradientBoostingClassifier\n",
    "from sklearn.svm import SVC\n",
    "from sklearn.tree import DecisionTreeClassifier\n",
    "from sklearn.neighbors import KNeighborsClassifier\n",
    "from sklearn.naive_bayes import GaussianNB\n",
    "from sklearn.neural_network import MLPClassifier\n",
    "from xgboost import XGBClassifier\n",
    "from lightgbm import LGBMClassifier \n",
    "from sklearn.discriminant_analysis import QuadraticDiscriminantAnalysis\n",
    "from sklearn.metrics import classification_report, confusion_matrix\n"
   ]
  },
  {
   "cell_type": "markdown",
   "metadata": {},
   "source": [
    "## Set up models, in sets (not sure how long they take to run)"
   ]
  },
  {
   "cell_type": "code",
   "execution_count": 76,
   "metadata": {},
   "outputs": [],
   "source": [
    "# full set\n",
    "models = [\n",
    "    ('Random Forest', RandomForestClassifier()),\n",
    "    ('SVM', SVC()),\n",
    "    ('Decision Tree', DecisionTreeClassifier()),\n",
    "    ('Logistic Regression', LogisticRegression()),\n",
    "    ('KNN', KNeighborsClassifier()),\n",
    "    ('Naive Bayes', GaussianNB()),\n",
    "    ('Neural Network', MLPClassifier()),\n",
    "    ('XGBoost', XGBClassifier()),\n",
    "    ('LightGBM', LGBMClassifier()),\n",
    "    ('AdaBoost', AdaBoostClassifier()),\n",
    "    ('QDA', QuadraticDiscriminantAnalysis()),\n",
    "    ('Gradient Boosting', GradientBoostingClassifier())\n",
    "]\n",
    "\n",
    "\n",
    "# models set 1\n",
    "models1 = [\n",
    "    ('Random Forest', RandomForestClassifier()),\n",
    "    ('SVM', SVC()),\n",
    "    ('Decision Tree', DecisionTreeClassifier()),    \n",
    "]\n",
    "\n",
    "\n",
    "models_2 = [\n",
    "    ('Logistic Regression', LogisticRegression()),\n",
    "    ('KNN', KNeighborsClassifier()),\n",
    "    ('Naive Bayes', GaussianNB()),\n",
    "    \n",
    "]\n",
    "\n",
    "models_3 = [\n",
    "    ('Neural Network', MLPClassifier()),\n",
    "    ('XGBoost', XGBClassifier()),\n",
    "    ('LightGBM', LGBMClassifier()),  \n",
    "]\n",
    "\n",
    "models_4 = [\n",
    "    ('AdaBoost', AdaBoostClassifier()),\n",
    "    ('QDA', QuadraticDiscriminantAnalysis()), \n",
    "    ('Gradient Boosting', GradientBoostingClassifier())\n",
    "]"
   ]
  },
  {
   "cell_type": "markdown",
   "metadata": {},
   "source": [
    "## Model evaluation function"
   ]
  },
  {
   "cell_type": "code",
   "execution_count": 69,
   "metadata": {},
   "outputs": [],
   "source": [
    "\n",
    "results = []\n",
    "\n",
    "def evaluate_models(models, X_train, y_train, X_test, y_test):\n",
    "    \"\"\"\n",
    "    Evaluate the performance of different models on a given dataset.\n",
    "\n",
    "    Parameters:\n",
    "    - models (list): A list of tuples containing the name and model object.\n",
    "    - X_train (array-like): Training data features.\n",
    "    - y_train (array-like): Training data labels.\n",
    "    - X_test (array-like): Test data features.\n",
    "    - y_test (array-like): Test data labels.\n",
    "\n",
    "    Returns:\n",
    "    - results (list): A list of dictionaries containing the evaluation results for each model.\n",
    "    \"\"\"\n",
    "    import time\n",
    "    from sklearn.metrics import classification_report, confusion_matrix\n",
    "    from sklearn.metrics import accuracy_score, precision_score, recall_score, f1_score, matthews_corrcoef\n",
    "\n",
    "    for name, model in models:\n",
    "        start_time = time.time()\n",
    "\n",
    "        model.fit(X_train, y_train)\n",
    "        y_pred = model.predict(X_test)\n",
    "\n",
    "        end_time = time.time()\n",
    "        elapsed_time = end_time - start_time\n",
    "\n",
    "        accuracy = accuracy_score(y_test, y_pred)\n",
    "        precision = precision_score(y_test, y_pred)\n",
    "        recall = recall_score(y_test, y_pred)\n",
    "        f1 = f1_score(y_test, y_pred)\n",
    "        mcc = matthews_corrcoef(y_test, y_pred)\n",
    "        cm = confusion_matrix(y_test, y_pred)\n",
    "        cr = classification_report(y_test, y_pred)\n",
    "\n",
    "        print(f'{name}:')\n",
    "        print(f'Time taken: {elapsed_time} seconds')\n",
    "        print(f'Accuracy: {accuracy}')\n",
    "        print(f'Precision: {precision}')\n",
    "        print(f'Recall: {recall}')\n",
    "        print(f'F1 Score: {f1}')\n",
    "        print(f'Matthews Correlation Coefficient: {mcc}')\n",
    "        print(f'Confusion Matrix: {cm}')\n",
    "        print(f'Classification Report: {cr}')\n",
    "        print(cr)\n",
    "\n",
    "        results.append({\n",
    "            'name': name,\n",
    "            'time': elapsed_time,\n",
    "            'accuracy': accuracy,\n",
    "            'precision': precision,\n",
    "            'recall': recall,\n",
    "            'f1': f1,\n",
    "            'mcc': mcc,\n",
    "            'confusion_matrix': cm,\n",
    "            'classification_report': cr\n",
    "        })\n",
    "\n",
    "    return results\n"
   ]
  },
  {
   "cell_type": "markdown",
   "metadata": {},
   "source": [
    "\n",
    "* understanding /summarising each model, strengths/weakness, description\n"
   ]
  },
  {
   "cell_type": "markdown",
   "metadata": {},
   "source": [
    "## Models"
   ]
  },
  {
   "cell_type": "code",
   "execution_count": 77,
   "metadata": {},
   "outputs": [
    {
     "name": "stdout",
     "output_type": "stream",
     "text": [
      "Random Forest:\n",
      "Time taken: 0.1890108585357666 seconds\n",
      "Accuracy: 0.6880733944954128\n",
      "Precision: 0.5909090909090909\n",
      "Recall: 0.4875\n",
      "F1 Score: 0.5342465753424658\n",
      "Matthews Correlation Coefficient: 0.3061591458912443\n",
      "Confusion Matrix: [[111  27]\n",
      " [ 41  39]]\n",
      "Classification Report:               precision    recall  f1-score   support\n",
      "\n",
      "           0       0.73      0.80      0.77       138\n",
      "           1       0.59      0.49      0.53        80\n",
      "\n",
      "    accuracy                           0.69       218\n",
      "   macro avg       0.66      0.65      0.65       218\n",
      "weighted avg       0.68      0.69      0.68       218\n",
      "\n",
      "              precision    recall  f1-score   support\n",
      "\n",
      "           0       0.73      0.80      0.77       138\n",
      "           1       0.59      0.49      0.53        80\n",
      "\n",
      "    accuracy                           0.69       218\n",
      "   macro avg       0.66      0.65      0.65       218\n",
      "weighted avg       0.68      0.69      0.68       218\n",
      "\n",
      "SVM:\n",
      "Time taken: 0.016664981842041016 seconds\n",
      "Accuracy: 0.6605504587155964\n",
      "Precision: 0.5394736842105263\n",
      "Recall: 0.5125\n",
      "F1 Score: 0.5256410256410255\n",
      "Matthews Correlation Coefficient: 0.26183440936189517\n",
      "Confusion Matrix: [[103  35]\n",
      " [ 39  41]]\n",
      "Classification Report:               precision    recall  f1-score   support\n",
      "\n",
      "           0       0.73      0.75      0.74       138\n",
      "           1       0.54      0.51      0.53        80\n",
      "\n",
      "    accuracy                           0.66       218\n",
      "   macro avg       0.63      0.63      0.63       218\n",
      "weighted avg       0.66      0.66      0.66       218\n",
      "\n",
      "              precision    recall  f1-score   support\n",
      "\n",
      "           0       0.73      0.75      0.74       138\n",
      "           1       0.54      0.51      0.53        80\n",
      "\n",
      "    accuracy                           0.66       218\n",
      "   macro avg       0.63      0.63      0.63       218\n",
      "weighted avg       0.66      0.66      0.66       218\n",
      "\n",
      "Decision Tree:\n",
      "Time taken: 0.0039825439453125 seconds\n",
      "Accuracy: 0.6697247706422018\n",
      "Precision: 0.5487804878048781\n",
      "Recall: 0.5625\n",
      "F1 Score: 0.5555555555555556\n",
      "Matthews Correlation Coefficient: 0.29290207199848833\n",
      "Confusion Matrix: [[101  37]\n",
      " [ 35  45]]\n",
      "Classification Report:               precision    recall  f1-score   support\n",
      "\n",
      "           0       0.74      0.73      0.74       138\n",
      "           1       0.55      0.56      0.56        80\n",
      "\n",
      "    accuracy                           0.67       218\n",
      "   macro avg       0.65      0.65      0.65       218\n",
      "weighted avg       0.67      0.67      0.67       218\n",
      "\n",
      "              precision    recall  f1-score   support\n",
      "\n",
      "           0       0.74      0.73      0.74       138\n",
      "           1       0.55      0.56      0.56        80\n",
      "\n",
      "    accuracy                           0.67       218\n",
      "   macro avg       0.65      0.65      0.65       218\n",
      "weighted avg       0.67      0.67      0.67       218\n",
      "\n",
      "Logistic Regression:\n",
      "Time taken: 0.01670670509338379 seconds\n",
      "Accuracy: 0.6422018348623854\n",
      "Precision: 0.5714285714285714\n",
      "Recall: 0.1\n",
      "F1 Score: 0.1702127659574468\n",
      "Matthews Correlation Coefficient: 0.11112734830411189\n",
      "Confusion Matrix: [[132   6]\n",
      " [ 72   8]]\n",
      "Classification Report:               precision    recall  f1-score   support\n",
      "\n",
      "           0       0.65      0.96      0.77       138\n",
      "           1       0.57      0.10      0.17        80\n",
      "\n",
      "    accuracy                           0.64       218\n",
      "   macro avg       0.61      0.53      0.47       218\n",
      "weighted avg       0.62      0.64      0.55       218\n",
      "\n",
      "              precision    recall  f1-score   support\n",
      "\n",
      "           0       0.65      0.96      0.77       138\n",
      "           1       0.57      0.10      0.17        80\n",
      "\n",
      "    accuracy                           0.64       218\n",
      "   macro avg       0.61      0.53      0.47       218\n",
      "weighted avg       0.62      0.64      0.55       218\n",
      "\n",
      "KNN:\n",
      "Time taken: 0.007360219955444336 seconds\n",
      "Accuracy: 0.6376146788990825\n",
      "Precision: 0.5074626865671642\n",
      "Recall: 0.425\n",
      "F1 Score: 0.46258503401360546\n",
      "Matthews Correlation Coefficient: 0.19416321062445566\n",
      "Confusion Matrix: [[105  33]\n",
      " [ 46  34]]\n",
      "Classification Report:               precision    recall  f1-score   support\n",
      "\n",
      "           0       0.70      0.76      0.73       138\n",
      "           1       0.51      0.42      0.46        80\n",
      "\n",
      "    accuracy                           0.64       218\n",
      "   macro avg       0.60      0.59      0.59       218\n",
      "weighted avg       0.63      0.64      0.63       218\n",
      "\n",
      "              precision    recall  f1-score   support\n",
      "\n",
      "           0       0.70      0.76      0.73       138\n",
      "           1       0.51      0.42      0.46        80\n",
      "\n",
      "    accuracy                           0.64       218\n",
      "   macro avg       0.60      0.59      0.59       218\n",
      "weighted avg       0.63      0.64      0.63       218\n",
      "\n",
      "Naive Bayes:\n",
      "Time taken: 0.001979827880859375 seconds\n",
      "Accuracy: 0.6513761467889908\n",
      "Precision: 0.5217391304347826\n",
      "Recall: 0.6\n",
      "F1 Score: 0.5581395348837209\n",
      "Matthews Correlation Coefficient: 0.27438349877103685\n",
      "Confusion Matrix: [[94 44]\n",
      " [32 48]]\n",
      "Classification Report:               precision    recall  f1-score   support\n",
      "\n",
      "           0       0.75      0.68      0.71       138\n",
      "           1       0.52      0.60      0.56        80\n",
      "\n",
      "    accuracy                           0.65       218\n",
      "   macro avg       0.63      0.64      0.64       218\n",
      "weighted avg       0.66      0.65      0.66       218\n",
      "\n",
      "              precision    recall  f1-score   support\n",
      "\n",
      "           0       0.75      0.68      0.71       138\n",
      "           1       0.52      0.60      0.56        80\n",
      "\n",
      "    accuracy                           0.65       218\n",
      "   macro avg       0.63      0.64      0.64       218\n",
      "weighted avg       0.66      0.65      0.66       218\n",
      "\n",
      "Neural Network:\n",
      "Time taken: 0.19093942642211914 seconds\n",
      "Accuracy: 0.6880733944954128\n",
      "Precision: 0.7727272727272727\n",
      "Recall: 0.2125\n",
      "F1 Score: 0.3333333333333333\n",
      "Matthews Correlation Coefficient: 0.2820453364354862\n",
      "Confusion Matrix: [[133   5]\n",
      " [ 63  17]]\n",
      "Classification Report:               precision    recall  f1-score   support\n",
      "\n",
      "           0       0.68      0.96      0.80       138\n",
      "           1       0.77      0.21      0.33        80\n",
      "\n",
      "    accuracy                           0.69       218\n",
      "   macro avg       0.73      0.59      0.56       218\n",
      "weighted avg       0.71      0.69      0.63       218\n",
      "\n",
      "              precision    recall  f1-score   support\n",
      "\n",
      "           0       0.68      0.96      0.80       138\n",
      "           1       0.77      0.21      0.33        80\n",
      "\n",
      "    accuracy                           0.69       218\n",
      "   macro avg       0.73      0.59      0.56       218\n",
      "weighted avg       0.71      0.69      0.63       218\n",
      "\n",
      "XGBoost:\n",
      "Time taken: 1.6086411476135254 seconds\n",
      "Accuracy: 0.6834862385321101\n",
      "Precision: 0.582089552238806\n",
      "Recall: 0.4875\n",
      "F1 Score: 0.5306122448979592\n",
      "Matthews Correlation Coefficient: 0.2973005885877386\n",
      "Confusion Matrix: [[110  28]\n",
      " [ 41  39]]\n",
      "Classification Report:               precision    recall  f1-score   support\n",
      "\n",
      "           0       0.73      0.80      0.76       138\n",
      "           1       0.58      0.49      0.53        80\n",
      "\n",
      "    accuracy                           0.68       218\n",
      "   macro avg       0.66      0.64      0.65       218\n",
      "weighted avg       0.67      0.68      0.68       218\n",
      "\n",
      "              precision    recall  f1-score   support\n",
      "\n",
      "           0       0.73      0.80      0.76       138\n",
      "           1       0.58      0.49      0.53        80\n",
      "\n",
      "    accuracy                           0.68       218\n",
      "   macro avg       0.66      0.64      0.65       218\n",
      "weighted avg       0.67      0.68      0.68       218\n",
      "\n",
      "[LightGBM] [Info] Number of positive: 296, number of negative: 572\n",
      "[LightGBM] [Info] Auto-choosing row-wise multi-threading, the overhead of testing was 0.000438 seconds.\n",
      "You can set `force_row_wise=true` to remove the overhead.\n",
      "And if memory is not enough, you can set `force_col_wise=true`.\n",
      "[LightGBM] [Info] Total Bins 1491\n",
      "[LightGBM] [Info] Number of data points in the train set: 868, number of used features: 7\n",
      "[LightGBM] [Info] [binary:BoostFromScore]: pavg=0.341014 -> initscore=-0.658780\n",
      "[LightGBM] [Info] Start training from score -0.658780\n",
      "[LightGBM] [Warning] No further splits with positive gain, best gain: -inf\n",
      "[LightGBM] [Warning] No further splits with positive gain, best gain: -inf\n",
      "[LightGBM] [Warning] No further splits with positive gain, best gain: -inf\n",
      "LightGBM:\n",
      "Time taken: 0.21801328659057617 seconds\n",
      "Accuracy: 0.6697247706422018\n",
      "Precision: 0.5588235294117647\n",
      "Recall: 0.475\n",
      "F1 Score: 0.5135135135135136\n",
      "Matthews Correlation Coefficient: 0.26800627927140114\n",
      "Confusion Matrix: [[108  30]\n",
      " [ 42  38]]\n",
      "Classification Report:               precision    recall  f1-score   support\n",
      "\n",
      "           0       0.72      0.78      0.75       138\n",
      "           1       0.56      0.47      0.51        80\n",
      "\n",
      "    accuracy                           0.67       218\n",
      "   macro avg       0.64      0.63      0.63       218\n",
      "weighted avg       0.66      0.67      0.66       218\n",
      "\n",
      "              precision    recall  f1-score   support\n",
      "\n",
      "           0       0.72      0.78      0.75       138\n",
      "           1       0.56      0.47      0.51        80\n",
      "\n",
      "    accuracy                           0.67       218\n",
      "   macro avg       0.64      0.63      0.63       218\n",
      "weighted avg       0.66      0.67      0.66       218\n",
      "\n",
      "AdaBoost:\n",
      "Time taken: 0.08825159072875977 seconds\n",
      "Accuracy: 0.6651376146788991\n",
      "Precision: 0.5443037974683544\n",
      "Recall: 0.5375\n",
      "F1 Score: 0.5408805031446542\n",
      "Matthews Correlation Coefficient: 0.27737259538928594\n",
      "Confusion Matrix: [[102  36]\n",
      " [ 37  43]]\n",
      "Classification Report:               precision    recall  f1-score   support\n",
      "\n",
      "           0       0.73      0.74      0.74       138\n",
      "           1       0.54      0.54      0.54        80\n",
      "\n",
      "    accuracy                           0.67       218\n",
      "   macro avg       0.64      0.64      0.64       218\n",
      "weighted avg       0.66      0.67      0.66       218\n",
      "\n",
      "              precision    recall  f1-score   support\n",
      "\n",
      "           0       0.73      0.74      0.74       138\n",
      "           1       0.54      0.54      0.54        80\n",
      "\n",
      "    accuracy                           0.67       218\n",
      "   macro avg       0.64      0.64      0.64       218\n",
      "weighted avg       0.66      0.67      0.66       218\n",
      "\n",
      "QDA:\n",
      "Time taken: 0.014107227325439453 seconds\n",
      "Accuracy: 0.6880733944954128\n",
      "Precision: 0.5909090909090909\n",
      "Recall: 0.4875\n",
      "F1 Score: 0.5342465753424658\n",
      "Matthews Correlation Coefficient: 0.3061591458912443\n",
      "Confusion Matrix: [[111  27]\n",
      " [ 41  39]]\n",
      "Classification Report:               precision    recall  f1-score   support\n",
      "\n",
      "           0       0.73      0.80      0.77       138\n",
      "           1       0.59      0.49      0.53        80\n",
      "\n",
      "    accuracy                           0.69       218\n",
      "   macro avg       0.66      0.65      0.65       218\n",
      "weighted avg       0.68      0.69      0.68       218\n",
      "\n",
      "              precision    recall  f1-score   support\n",
      "\n",
      "           0       0.73      0.80      0.77       138\n",
      "           1       0.59      0.49      0.53        80\n",
      "\n",
      "    accuracy                           0.69       218\n",
      "   macro avg       0.66      0.65      0.65       218\n",
      "weighted avg       0.68      0.69      0.68       218\n",
      "\n",
      "Gradient Boosting:\n",
      "Time taken: 0.19334650039672852 seconds\n",
      "Accuracy: 0.6926605504587156\n",
      "Precision: 0.589041095890411\n",
      "Recall: 0.5375\n",
      "F1 Score: 0.5620915032679739\n",
      "Matthews Correlation Coefficient: 0.3269163017429376\n",
      "Confusion Matrix: [[108  30]\n",
      " [ 37  43]]\n",
      "Classification Report:               precision    recall  f1-score   support\n",
      "\n",
      "           0       0.74      0.78      0.76       138\n",
      "           1       0.59      0.54      0.56        80\n",
      "\n",
      "    accuracy                           0.69       218\n",
      "   macro avg       0.67      0.66      0.66       218\n",
      "weighted avg       0.69      0.69      0.69       218\n",
      "\n",
      "              precision    recall  f1-score   support\n",
      "\n",
      "           0       0.74      0.78      0.76       138\n",
      "           1       0.59      0.54      0.56        80\n",
      "\n",
      "    accuracy                           0.69       218\n",
      "   macro avg       0.67      0.66      0.66       218\n",
      "weighted avg       0.69      0.69      0.69       218\n",
      "\n"
     ]
    }
   ],
   "source": [
    "# evaluate models\n",
    "results = evaluate_models(models, X_train, y_train, X_test, y_test)"
   ]
  },
  {
   "cell_type": "code",
   "execution_count": null,
   "metadata": {},
   "outputs": [],
   "source": [
    "\n",
    "\n",
    "def evaluate_models(models, X_train, y_train, X_test, y_test):\n",
    "    \"\"\"\n",
    "    Evaluate multiple models using cross-validation and generate predictions on the test data.\n",
    "\n",
    "    Parameters:\n",
    "    - models (list): A list of tuples containing the name and model object for each model to be evaluated.\n",
    "    - X_train (array-like): The training data features.\n",
    "    - y_train (array-like): The training data labels.\n",
    "    - X_test (array-like): The test data features.\n",
    "    - y_test (array-like): The test data labels.\n",
    "\n",
    "    Returns:\n",
    "    - results (list): A list of dictionaries containing the evaluation results for each model.\n",
    "    Each dictionary contains the following keys:\n",
    "        - 'name': The name of the model.\n",
    "        - 'time': The time taken to train and predict.\n",
    "        - 'accuracy': The accuracy score.\n",
    "        - 'precision': The precision score.\n",
    "        - 'recall': The recall score.\n",
    "        - 'f1': The F1 score.\n",
    "        - 'mcc': The Matthews Correlation Coefficient.\n",
    "        - 'confusion_matrix': The confusion matrix.\n",
    "        - 'classification_report': The classification report.\n",
    "    \"\"\"\n",
    "\n",
    "    from sklearn.model_selection import cross_val_score\n",
    "    from sklearn.metrics import accuracy_score, precision_score, recall_score, f1_score\n",
    "    from sklearn.metrics import matthews_corrcoef, confusion_matrix, classification_report\n",
    "    \n",
    "    results = []\n",
    "\n",
    "    for name, model in models:\n",
    "        start_time = time.time()\n",
    "\n",
    "        # Cross-validation\n",
    "        cv_scores = cross_val_score(model, X_train, y_train, cv=5)\n",
    "        print(f'{name} cross-validation score: {cv_scores.mean()} ± {cv_scores.std()}')\n",
    "\n",
    "        # Fit the model on the training data and generate predictions on the test data\n",
    "        model.fit(X_train, y_train)\n",
    "        y_pred = model.predict(X_test)\n",
    "\n",
    "        end_time = time.time()\n",
    "        elapsed_time = end_time - start_time\n",
    "        print(f'{name} took {elapsed_time} seconds to train and predict\\n')\n",
    "\n",
    "        # Calculate metrics here (accuracy, precision, recall, etc.)\n",
    "        accuracy = accuracy_score(y_test, y_pred)\n",
    "        precision = precision_score(y_test, y_pred)\n",
    "        recall = recall_score(y_test, y_pred)\n",
    "        f1 = f1_score(y_test, y_pred)\n",
    "        mcc = matthews_corrcoef(y_test, y_pred)\n",
    "        cm = confusion_matrix(y_test, y_pred)\n",
    "        cr = classification_report(y_test, y_pred)\n",
    "\n",
    "        print(f'{name}:')\n",
    "        print(f'Time taken: {elapsed_time} seconds')\n",
    "        print(f'Accuracy: {accuracy}')\n",
    "        print(f'Precision: {precision}')\n",
    "        print(f'Recall: {recall}')\n",
    "        print(f'F1 Score: {f1}')\n",
    "        print(f'Matthews Correlation Coefficient: {mcc}')\n",
    "        print(f'Confusion Matrix: {cm}')\n",
    "        print(f'Classification Report: {cr}')\n",
    "\n",
    "        results.append({\n",
    "            'name': name,\n",
    "            'time': elapsed_time,\n",
    "            'accuracy': accuracy,\n",
    "            'precision': precision,\n",
    "            'recall': recall,\n",
    "            'f1': f1,\n",
    "            'mcc': mcc,\n",
    "            'confusion_matrix': cm,\n",
    "            'classification_report': cr\n",
    "        })\n",
    "\n",
    "    return results\n",
    "\n",
    "\n",
    "\n"
   ]
  },
  {
   "cell_type": "markdown",
   "metadata": {},
   "source": [
    "## Visualise results\n"
   ]
  },
  {
   "cell_type": "code",
   "execution_count": 78,
   "metadata": {},
   "outputs": [
    {
     "data": {
      "image/png": "[encoded data removed]",
      "text/plain": [
       "<Figure size 1000x600 with 1 Axes>"
      ]
     },
     "metadata": {},
     "output_type": "display_data"
    }
   ],
   "source": [
    "import matplotlib.pyplot as plt\n",
    "import seaborn as sns\n",
    "\n",
    "# Convert the results to a DataFrame\n",
    "results_df = pd.DataFrame(results)\n",
    "\n",
    "# Create a bar plot of the accuracy of each model\n",
    "plt.figure(figsize=(10, 6))\n",
    "sns.barplot(x='accuracy', y='name', data=results_df.sort_values('accuracy'))\n",
    "plt.xlabel('Accuracy')\n",
    "plt.ylabel('Model')\n",
    "plt.title('Model Performance')\n",
    "plt.show()\n"
   ]
  },
  {
   "cell_type": "code",
   "execution_count": 79,
   "metadata": {},
   "outputs": [
    {
     "ename": "NameError",
     "evalue": "name 'cm' is not defined",
     "output_type": "error",
     "traceback": [
      "\u001b[1;31m---------------------------------------------------------------------------\u001b[0m",
      "\u001b[1;31mNameError\u001b[0m                                 Traceback (most recent call last)",
      "Cell \u001b[1;32mIn [79], line 3\u001b[0m\n\u001b[0;32m      1\u001b[0m \u001b[38;5;66;03m# Assume `cm` is the confusion matrix and `model_name` is the name of the model\u001b[39;00m\n\u001b[0;32m      2\u001b[0m plt\u001b[38;5;241m.\u001b[39mfigure(figsize\u001b[38;5;241m=\u001b[39m(\u001b[38;5;241m6\u001b[39m, \u001b[38;5;241m6\u001b[39m))\n\u001b[1;32m----> 3\u001b[0m sns\u001b[38;5;241m.\u001b[39mheatmap(\u001b[43mcm\u001b[49m, annot\u001b[38;5;241m=\u001b[39m\u001b[38;5;28;01mTrue\u001b[39;00m, fmt\u001b[38;5;241m=\u001b[39m\u001b[38;5;124m'\u001b[39m\u001b[38;5;124md\u001b[39m\u001b[38;5;124m'\u001b[39m, cmap\u001b[38;5;241m=\u001b[39m\u001b[38;5;124m'\u001b[39m\u001b[38;5;124mBlues\u001b[39m\u001b[38;5;124m'\u001b[39m)\n\u001b[0;32m      4\u001b[0m plt\u001b[38;5;241m.\u001b[39mxlabel(\u001b[38;5;124m'\u001b[39m\u001b[38;5;124mPredicted\u001b[39m\u001b[38;5;124m'\u001b[39m)\n\u001b[0;32m      5\u001b[0m plt\u001b[38;5;241m.\u001b[39mylabel(\u001b[38;5;124m'\u001b[39m\u001b[38;5;124mActual\u001b[39m\u001b[38;5;124m'\u001b[39m)\n",
      "\u001b[1;31mNameError\u001b[0m: name 'cm' is not defined"
     ]
    },
    {
     "data": {
      "text/plain": [
       "<Figure size 600x600 with 0 Axes>"
      ]
     },
     "metadata": {},
     "output_type": "display_data"
    }
   ],
   "source": [
    "# Assume `cm` is the confusion matrix and `model_name` is the name of the model\n",
    "plt.figure(figsize=(6, 6))\n",
    "sns.heatmap(cm, annot=True, fmt='d', cmap='Blues')\n",
    "plt.xlabel('Predicted')\n",
    "plt.ylabel('Actual')\n",
    "plt.title(f'Confusion Matrix for {model_name}')\n",
    "plt.show()\n"
   ]
  },
  {
   "cell_type": "markdown",
   "metadata": {},
   "source": [
    "## Extras"
   ]
  },
  {
   "cell_type": "markdown",
   "metadata": {},
   "source": [
    "## Cross validation variation - not run - will be resource/time intensive "
   ]
  },
  {
   "cell_type": "markdown",
   "metadata": {},
   "source": [
    "### Gaussian processes\n",
    "\n",
    "In this code, RBF(1.0) creates an RBF kernel with a length scale of 1.0, and GaussianProcessClassifier(kernel=kernel, random_state=0) creates a Gaussian process classifier using this kernel.\n",
    "\n",
    "* an replace RBF(1.0) with `DotProduct()`, `Matern()`, `RationalQuadratic()`, or `WhiteKernel()` to use a different kernel.\n",
    "* computationally intensive, especially on large datasets -> start with a subset of data"
   ]
  },
  {
   "cell_type": "code",
   "execution_count": null,
   "metadata": {},
   "outputs": [],
   "source": [
    "from sklearn.gaussian_process import GaussianProcessClassifier\n",
    "from sklearn.gaussian_process.kernels import RBF, DotProduct, Matern, RationalQuadratic, WhiteKernel\n",
    "\n",
    "# models\n",
    "random_state = 0\n",
    "model = [\n",
    "    ('Gaussian Process with RBF kernel', GaussianProcessClassifier(kernel=RBF())),\n",
    "    ('Gaussian Process with DotProduct kernel', GaussianProcessClassifier(kernel=DotProduct())),\n",
    "    ('Gaussian Process with Matern kernel', GaussianProcessClassifier(kernel=Matern())),\n",
    "    ('Gaussian Process with RationalQuadratic kernel', GaussianProcessClassifier(kernel=RationalQuadratic())),\n",
    "    ('Gaussian Process with WhiteKernel', GaussianProcessClassifier(kernel=WhiteKernel()))\n",
    "]\n",
    "\n",
    "# evaluate models\n",
    "for name, model in model:\n",
    "    start_time = time.time()\n",
    "\n",
    "    model.fit(X_train, y_train)\n",
    "    y_pred = model.predict(X_test)\n",
    "\n",
    "    end_time = time.time()\n",
    "    elapsed_time = end_time - start_time\n",
    "\n",
    "    accuracy = accuracy_score(y_test, y_pred)\n",
    "    precision = precision_score(y_test, y_pred)\n",
    "    recall = recall_score(y_test, y_pred)\n",
    "    f1 = f1_score(y_test, y_pred)\n",
    "    mcc = matthews_corrcoef(y_test, y_pred)\n",
    "    cm = confusion_matrix(y_test, y_pred)\n",
    "    cr = classification_report(y_test, y_pred)\n",
    "\n",
    "    print(f'{name}:')\n",
    "    print(f'Time taken: {elapsed_time} seconds')\n",
    "    print(f'Accuracy: {accuracy}')\n",
    "    print(f'Precision: {precision}')\n",
    "    print(f'Recall: {recall}')\n",
    "    print(f'F1 Score: {f1}')\n",
    "    print(f'Matthews Correlation Coefficient: {mcc}')\n",
    "    print(f'Confusion Matrix: {cm}')\n",
    "    print(f'Classification Report: {cr}')\n",
    "    print(cr)\n",
    "\n",
    "    results.append({\n",
    "        'name': name,\n",
    "        'time': elapsed_time,\n",
    "        'accuracy': accuracy,\n",
    "        'precision': precision,\n",
    "        'recall': recall,\n",
    "        'f1': f1,\n",
    "        'mcc': mcc,\n",
    "        'confusion_matrix': cm,\n",
    "        'classification_report': cr\n",
    "    })"
   ]
  },
  {
   "cell_type": "code",
   "execution_count": null,
   "metadata": {},
   "outputs": [],
   "source": [
    "\n",
    "kernel = 1.0 * RBF(1.0)\n",
    "gpc = GaussianProcessClassifier(kernel=kernel, random_state=0)\n",
    "gpc.fit(X_train, y_train)\n",
    "\n",
    "y_pred = gpc.predict(X_test)\n"
   ]
  },
  {
   "cell_type": "markdown",
   "metadata": {},
   "source": [
    "### Keras, TensorFlow, Deep Learning "
   ]
  },
  {
   "cell_type": "markdown",
   "metadata": {},
   "source": [
    "* RNN - recurrent neural networks\n",
    "* CNN - convolutional neural network\n",
    "\n",
    "* **Bidirectional** - wrapper for RNN layer like LSTM or GRU\n",
    "* **Flatten**: This layer is used to flatten the structure into a one-dimensional vector.\n",
    "* **TimeDistributed**: This wrapper allows a layer to be applied to every temporal slice of an input. \n",
    "* **Conv1D**: This layer creates a convolution kernel that is convolved with the layer input over a single spatial (or temporal) dimension to produce a tensor of outputs. It’s often used in tasks involving sequences, such as text classification or time-series analysis.\n",
    "* **MaxPooling1D**: This layer applies a max pooling operation for temporal data to reduce the dimensionality of the data.\n",
    "* **ConvLSTM2D**: This layer is a type of LSTM layer where the recurrent connections are convolutional. \n",
    "* **backend** (K): This is a utility to provide backend-agnostic operations. "
   ]
  },
  {
   "cell_type": "markdown",
   "metadata": {},
   "source": [
    "* **sequence** from `keras.preprocessing`: This module provides functions to prepare time-series actigraphy data for the model.\n",
    "* **ConfigProto** and **Session** from `tensorflow`: These are used to configure TensorFlow and create a TensorFlow session - for gpu use\n",
    "* **Sequential** from `keras.models`: This is a linear stack of layers that to create a neural network. add layers to the network using the .add() method.\n",
    "* **Dense**, **LSTM**, and **Dropout** from `keras.layers`: These are different types of layers can add to your neural network. Dense is a fully connected layer, LSTM is a type of recurrent layer suitable for sequence data, and Dropout is a regularization layer that helps prevent overfitting.\n",
    "* **Adam** from `keras.optimizers`: This is an optimisation algorithm to train your neural network.  efficiency and low memory requirements\n",
    "* **load_model** from `keras.models`: This function allows you to load a saved model - saves retraining\n",
    "* **ModelCheckpoint** from `keras.callbacks`: This is a callback that you can use to save the model at regular intervals during training. This can be useful if training takes a long time and you don’t want to lose your progress if it’s interrupted."
   ]
  },
  {
   "cell_type": "code",
   "execution_count": null,
   "metadata": {},
   "outputs": [],
   "source": [
    "from keras.models import Sequential\n",
    "from keras.layers import Dense, Flatten, TimeDistributed, Conv1D, MaxPooling1D\n",
    "\n",
    "# Define the model\n",
    "model = Sequential()\n",
    "\n",
    "# Add layers\n",
    "model.add(TimeDistributed(Conv1D(filters=64, kernel_size=1, activation='relu'), input_shape=(None, 1)))\n",
    "model.add(TimeDistributed(MaxPooling1D(pool_size=2)))\n",
    "model.add(TimeDistributed(Flatten()))\n",
    "model.add(Dense(50, activation='relu'))\n",
    "model.add(Dense(1))\n",
    "\n",
    "# Compile the model\n",
    "model.compile(optimizer='adam', loss='mse')\n"
   ]
  }
 ],
 "metadata": {
  "kernelspec": {
   "display_name": "Python 3",
   "language": "python",
   "name": "python3"
  },
  "language_info": {
   "codemirror_mode": {
    "name": "ipython",
    "version": 3
   },
   "file_extension": ".py",
   "mimetype": "text/x-python",
   "name": "python",
   "nbconvert_exporter": "python",
   "pygments_lexer": "ipython3",
   "version": "3.11.0"
  }
 },
 "nbformat": 4,
 "nbformat_minor": 2
}
