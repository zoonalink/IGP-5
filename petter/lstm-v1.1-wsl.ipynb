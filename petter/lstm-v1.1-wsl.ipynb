{
 "cells": [
  {
   "cell_type": "markdown",
   "metadata": {},
   "source": [
    "# Using LSTM Features\n"
   ]
  },
  {
   "cell_type": "markdown",
   "metadata": {},
   "source": [
    "## Objectives\n",
    "\n",
    "* objectives:\n",
    "  * Fit a RNN (LSTM) model \n",
    "  * \n",
    "  \n",
    "* plan: \n",
    "\n",
    "1. libraries and functions\n",
    "2. load data\n",
    "3. preprocess data\n",
    "   - [x] full days only\n",
    "   - [ ] resample\n",
    "   - [ ] normalise activity\n",
    "4. feature engineering\n",
    "   - [ ] `mean`, `std`, `min`, `max`, `sum`\n",
    "   - [ ] `%0 active`\n",
    "5. train/test split\n",
    "6. modelling\n",
    "   - [ ] import libraries\n",
    "   - [ ] model selection\n",
    "   - [ ] model evaluation\n",
    "7. interpretation / visualisation\n",
    "   \n",
    "Try to recreate: \n",
    "\n",
    "**Bibliography:** Arora, A., Chakraborty, P. and Bhatia, M.P.S. (2023) Identifying digital biomarkers in actigraph based sequential motor activity data for assessment of depression: a model evaluating SVM in LSTM extracted feature space. International Journal of Information Technology [online]. 15 (2), pp. 797–802. Available from: https://doi.org/10.1007/s41870-023-01162-5 [Accessed 17 February 2024].\n"
   ]
  },
  {
   "cell_type": "markdown",
   "metadata": {},
   "source": [
    "## Data Preprocessing"
   ]
  },
  {
   "cell_type": "code",
   "execution_count": 2,
   "metadata": {},
   "outputs": [],
   "source": [
    "# import libraries\n",
    "import pandas as pd\n",
    "from sklearn.preprocessing import StandardScaler"
   ]
  },
  {
   "cell_type": "markdown",
   "metadata": {},
   "source": [
    "### functions\n",
    "- [x] extract depresjon from folder\n",
    "- [x] extract full days (1440 rows) records and minimum full records\n",
    "- [ ] resample, e.g. to hourly\n",
    "- [] normalise data (mean = 0, std = 1)\n"
   ]
  },
  {
   "cell_type": "markdown",
   "metadata": {},
   "source": [
    "## Extract data from folder"
   ]
  },
  {
   "cell_type": "code",
   "execution_count": 3,
   "metadata": {},
   "outputs": [],
   "source": [
    "\n",
    "def extract_folder(folderpath, add_scores=False, downsample=None):\n",
    "    \"\"\"\n",
    "    Extract CSV data from folder and subfolders into a dataframe.\n",
    "\n",
    "    Args:\n",
    "      folderpath (str): Path to the folder containing CSV files.\n",
    "      add_scores (bool, optional): Boolean to add scores.csv to the dataframe. Defaults to False.\n",
    "      downsample (int, optional): Number of rows to downsample CSVs to. Defaults to None.\n",
    "\n",
    "    Returns:\n",
    "      pandas.DataFrame: DataFrame of concatenated CSV data.\n",
    "    \"\"\"\n",
    "    import os\n",
    "    import pandas as pd\n",
    "    \n",
    "    # Dict to store dataframes by condition  \n",
    "    dfs = {'control': [], 'condition': []}\n",
    "\n",
    "    try:\n",
    "        # Handle top-level scores CSV\n",
    "        if add_scores and 'scores.csv' in os.listdir(folderpath):\n",
    "            scores_path = os.path.join(folderpath, 'scores.csv')  \n",
    "            dfs['scores'] = pd.read_csv(scores_path)\n",
    "\n",
    "        # Get subfolders\n",
    "        subfolders = [f for f in os.listdir(folderpath) if os.path.isdir(os.path.join(folderpath, f))]\n",
    "\n",
    "        for subfolder in subfolders:\n",
    "            subfolderpath = os.path.join(folderpath, subfolder)  \n",
    "\n",
    "            # Get list of CSV files\n",
    "            files = os.listdir(subfolderpath)\n",
    "\n",
    "            for file in files:\n",
    "                filepath = os.path.join(subfolderpath, file)\n",
    "\n",
    "                # Extract ID from filename \n",
    "                id = file.split('.')[0]\n",
    "\n",
    "                df = pd.read_csv(filepath)\n",
    "\n",
    "                # Downsample if needed\n",
    "                if downsample:\n",
    "                    df = df.sample(downsample)\n",
    "\n",
    "                # Add ID column - this is the filename without the extension\n",
    "                df['id'] = id\n",
    "\n",
    "                # Add 'condition' column\n",
    "                df['condition'] = subfolder\n",
    "\n",
    "                # Convert 'timestamp' and 'date' to datetime\n",
    "                df['timestamp'] = pd.to_datetime(df['timestamp'])\n",
    "                df['date'] = pd.to_datetime(df['date'])\n",
    "\n",
    "                # Append to dict by condition\n",
    "                if subfolder == 'control':\n",
    "                    dfs['control'].append(df)\n",
    "                else:  \n",
    "                    dfs['condition'].append(df)\n",
    "\n",
    "    except OSError:\n",
    "        print(f\"Error reading folder: {folderpath}\")\n",
    "\n",
    "    # concatenate dfs for each condition\n",
    "    dfs['control'] = pd.concat(dfs['control'])\n",
    "    dfs['condition'] = pd.concat(dfs['condition'])\n",
    "\n",
    "    # Reset index on the final df\n",
    "    df = pd.concat([dfs['control'], dfs['condition']]).reset_index(drop=True)\n",
    "\n",
    "    # add label column\n",
    "    df['label'] = 0\n",
    "    df.loc[df['condition'] == 'condition', 'label'] = 1\n",
    "    \n",
    "    # remove old 'condition' column\n",
    "    df.drop('condition', axis=1, inplace=True)\n",
    "\n",
    "    # Final concat\n",
    "    return df"
   ]
  },
  {
   "cell_type": "code",
   "execution_count": 4,
   "metadata": {},
   "outputs": [],
   "source": [
    "# load the data\n",
    "df = extract_folder('../data/depresjon')"
   ]
  },
  {
   "cell_type": "markdown",
   "metadata": {},
   "source": [
    "## Data preprocessing"
   ]
  },
  {
   "cell_type": "markdown",
   "metadata": {},
   "source": [
    "### Extract full days only\n"
   ]
  },
  {
   "cell_type": "code",
   "execution_count": 29,
   "metadata": {},
   "outputs": [],
   "source": [
    "def extract_full_days(df):\n",
    "    \"\"\"\n",
    "    Extracts full days from a DataFrame.\n",
    "\n",
    "    Parameters:\n",
    "    df (DataFrame): The input DataFrame.\n",
    "\n",
    "    Returns:\n",
    "    DataFrame: The DataFrame containing only full days (1440 rows per day).\n",
    "\n",
    "    \"\"\"\n",
    "    # group by id and date, count rows, and filter where count equals 1440\n",
    "    full_days_df = df.groupby(['id', 'date']).filter(lambda x: len(x) == 1440)\n",
    "    \n",
    "    # print id and date combinations that don't have 1440 rows\n",
    "    not_full_days = df.groupby(['id', 'date']).size().reset_index(name='count').query('count != 1440')\n",
    "    print(\"id and date combinations that don't have 1440 rows:\")\n",
    "    print(not_full_days)\n",
    "    \n",
    "    return full_days_df\n",
    "\n"
   ]
  },
  {
   "cell_type": "code",
   "execution_count": 30,
   "metadata": {},
   "outputs": [
    {
     "name": "stdout",
     "output_type": "stream",
     "text": [
      "id and date combinations that don't have 1440 rows:\n",
      "                id       date  count\n",
      "0      condition_1 2003-05-07    720\n",
      "16     condition_1 2003-05-23    924\n",
      "17    condition_10 2004-08-31    900\n",
      "32    condition_10 2004-09-15    495\n",
      "33    condition_11 2004-09-28    870\n",
      "...            ...        ...    ...\n",
      "1101     control_7 2003-04-23    610\n",
      "1102     control_8 2003-11-04    900\n",
      "1122     control_8 2003-11-24    658\n",
      "1123     control_9 2003-11-11    900\n",
      "1143     control_9 2003-12-01    778\n",
      "\n",
      "[115 rows x 3 columns]\n"
     ]
    }
   ],
   "source": [
    "full_df = extract_full_days(df)"
   ]
  },
  {
   "cell_type": "code",
   "execution_count": 31,
   "metadata": {},
   "outputs": [
    {
     "name": "stdout",
     "output_type": "stream",
     "text": [
      "(1481760, 5)\n",
      "              timestamp       date  activity         id  label\n",
      "540 2003-03-19 00:00:00 2003-03-19         0  control_1      0\n",
      "541 2003-03-19 00:01:00 2003-03-19         0  control_1      0\n",
      "542 2003-03-19 00:02:00 2003-03-19         0  control_1      0\n",
      "543 2003-03-19 00:03:00 2003-03-19         0  control_1      0\n",
      "544 2003-03-19 00:04:00 2003-03-19       175  control_1      0\n"
     ]
    }
   ],
   "source": [
    "# print shape of the full days dataframe\n",
    "print(full_df.shape)\n",
    "\n",
    "# print the first few rows of the full days dataframe\n",
    "print(full_df.head())"
   ]
  },
  {
   "cell_type": "code",
   "execution_count": 32,
   "metadata": {},
   "outputs": [],
   "source": [
    "# check that the full days dataframe has 1440 rows for each id and date combination\n",
    "counts = full_df.groupby(['id', 'date']).size()\n",
    "assert (counts == 1440).all(), \"Not all groups have 1440 rows\"\n",
    "\n",
    "# check that there are no missing values in the full days dataframe\n",
    "assert full_df.isnull().sum().sum() == 0, \"There is missing data\"\n",
    "\n"
   ]
  },
  {
   "cell_type": "code",
   "execution_count": 33,
   "metadata": {},
   "outputs": [
    {
     "name": "stdout",
     "output_type": "stream",
     "text": [
      "timestamp    0\n",
      "date         0\n",
      "activity     0\n",
      "id           0\n",
      "label        0\n",
      "dtype: int64\n",
      "Empty DataFrame\n",
      "Columns: [timestamp, date, activity, id, label]\n",
      "Index: []\n"
     ]
    }
   ],
   "source": [
    "# check for missing data\n",
    "print(full_df.isnull().sum())\n",
    "\n",
    "# find rows with missing data\n",
    "missing_data = full_df[full_df.isnull().any(axis=1)]\n",
    "print(missing_data)\n"
   ]
  },
  {
   "cell_type": "code",
   "execution_count": 34,
   "metadata": {},
   "outputs": [
    {
     "name": "stdout",
     "output_type": "stream",
     "text": [
      "[ 0  1  2  3  4  5  6  7  8  9 10 11 12 13 14 15 16 17 18 19 20 21 22 23]\n",
      "[ 0  1  2  3  4  5  6  7  8  9 10 11 12 13 14 15 16 17 18 19 20 21 22 23\n",
      " 24 25 26 27 28 29 30 31 32 33 34 35 36 37 38 39 40 41 42 43 44 45 46 47\n",
      " 48 49 50 51 52 53 54 55 56 57 58 59]\n",
      "[0]\n"
     ]
    }
   ],
   "source": [
    "# check unique days\n",
    "#print(full_df['date'].dt.date.unique())\n",
    "\n",
    "# check unique hours\n",
    "print(full_df['timestamp'].dt.hour.unique())\n",
    "\n",
    "# check unique minutes\n",
    "print(full_df['timestamp'].dt.minute.unique())\n",
    "\n",
    "# check unique seconds\n",
    "print(full_df['timestamp'].dt.second.unique())"
   ]
  },
  {
   "cell_type": "code",
   "execution_count": 47,
   "metadata": {},
   "outputs": [
    {
     "name": "stdout",
     "output_type": "stream",
     "text": [
      "<class 'pandas.core.frame.DataFrame'>\n",
      "Index: 1481760 entries, 540 to 1570797\n",
      "Data columns (total 5 columns):\n",
      " #   Column     Non-Null Count    Dtype         \n",
      "---  ------     --------------    -----         \n",
      " 0   timestamp  1481760 non-null  datetime64[ns]\n",
      " 1   date       1481760 non-null  datetime64[ns]\n",
      " 2   activity   1481760 non-null  int64         \n",
      " 3   id         1481760 non-null  object        \n",
      " 4   label      1481760 non-null  int64         \n",
      "dtypes: datetime64[ns](2), int64(2), object(1)\n",
      "memory usage: 67.8+ MB\n",
      "None\n"
     ]
    }
   ],
   "source": [
    "# print info\n",
    "print(full_df.info())"
   ]
  },
  {
   "cell_type": "markdown",
   "metadata": {},
   "source": [
    "### Downsample to hourly\n",
    "\n"
   ]
  },
  {
   "cell_type": "code",
   "execution_count": 145,
   "metadata": {},
   "outputs": [],
   "source": [
    "# create copy\n",
    "full = full_df.copy()"
   ]
  },
  {
   "cell_type": "code",
   "execution_count": 146,
   "metadata": {},
   "outputs": [],
   "source": [
    "def resample_df(df, timestamp_col, resample_col, frequency, aggregate):\n",
    "    \"\"\"\n",
    "    Resamples a DataFrame based on a given timestamp column and aggregates the resampled data.\n",
    "\n",
    "    Args:\n",
    "        df (pandas.DataFrame): The input DataFrame.\n",
    "        timestamp_col (str): The name of the timestamp column in the DataFrame.\n",
    "        resample_col (str): The name of the column to be resampled.\n",
    "        frequency (str): The frequency at which to resample the data (e.g., 'D' for daily, 'H' for hourly).\n",
    "        aggregate (str or callable): The aggregation function to apply to the resampled data.\n",
    "\n",
    "    Returns:\n",
    "        pandas.DataFrame: The resampled and aggregated DataFrame.\n",
    "    \"\"\"\n",
    "    # drop date column\n",
    "    df.set_index(timestamp_col, inplace=True)\n",
    "    # resample data\n",
    "    df_resampled = df.groupby('id')[resample_col].resample(frequency).agg(aggregate)\n",
    "    # reset index\n",
    "    df_resampled = df_resampled.reset_index()\n",
    "    # add label column\n",
    "    df_label = df.groupby(['id', df.index.date])['label'].first()\n",
    "    # reset index\n",
    "    df_label = df_label.reset_index()\n",
    "    # rename columns\n",
    "    df_label.columns = ['id', 'date', 'label']\n",
    "    # convert date to datetime\n",
    "    df_resampled['date'] = df_resampled[timestamp_col].dt.date\n",
    "    # merge dataframes\n",
    "    df_final = pd.merge(df_resampled, df_label, on=['id', 'date'])\n",
    "    \n",
    "    return df_final"
   ]
  },
  {
   "cell_type": "code",
   "execution_count": 147,
   "metadata": {},
   "outputs": [
    {
     "name": "stdout",
     "output_type": "stream",
     "text": [
      "            id           timestamp   activity        date  label\n",
      "0  condition_1 2003-05-08 00:00:00   8.000000  2003-05-08      1\n",
      "1  condition_1 2003-05-08 01:00:00   4.083333  2003-05-08      1\n",
      "2  condition_1 2003-05-08 02:00:00   7.066667  2003-05-08      1\n",
      "3  condition_1 2003-05-08 03:00:00   4.033333  2003-05-08      1\n",
      "4  condition_1 2003-05-08 04:00:00  12.216667  2003-05-08      1\n"
     ]
    }
   ],
   "source": [
    "hourly = resample_df(full, 'timestamp', 'activity', 'h', 'mean')\n",
    "print(hourly.head())"
   ]
  },
  {
   "cell_type": "code",
   "execution_count": 148,
   "metadata": {},
   "outputs": [
    {
     "name": "stdout",
     "output_type": "stream",
     "text": [
      "Empty DataFrame\n",
      "Columns: [id, timestamp, activity, date, label]\n",
      "Index: []\n"
     ]
    }
   ],
   "source": [
    "# Find rows with missing data\n",
    "missing_data = hourly[hourly.isnull().any(axis=1)]\n",
    "\n",
    "# Print rows with missing data\n",
    "print(missing_data)"
   ]
  },
  {
   "cell_type": "code",
   "execution_count": 149,
   "metadata": {},
   "outputs": [],
   "source": [
    "# check that the full days dataframe has 24 rows for each id and date combination\n",
    "counts = hourly.groupby(['id', 'date']).size()\n",
    "assert (counts == 24).all(), \"Not all groups have 24 rows\"\n",
    "\n",
    "\n",
    "# check that there are no missing values in the full days dataframe\n",
    "assert hourly.isnull().sum().sum() == 0, \"There is missing data\"\n",
    "\n"
   ]
  },
  {
   "cell_type": "markdown",
   "metadata": {},
   "source": [
    "### Normalise 'activity'"
   ]
  },
  {
   "cell_type": "code",
   "execution_count": 150,
   "metadata": {},
   "outputs": [],
   "source": [
    "def normalise_data(df, columns_to_normalise):\n",
    "    \"\"\"\n",
    "    Normalise the specified columns in the df using StandardScaler.\n",
    "\n",
    "    Parameters:\n",
    "    - df (pandas.DataFrame): The DataFrame to be normalised.\n",
    "    - columns_to_normalise (list): A list of column names to be normalised.\n",
    "\n",
    "    Returns:\n",
    "    - df (pandas.DataFrame): The DataFrame with the specified columns normalised.\n",
    "    \"\"\"\n",
    "    from sklearn.preprocessing import StandardScaler\n",
    "\n",
    "    scaler = StandardScaler()\n",
    "    df[columns_to_normalise] = scaler.fit_transform(df[columns_to_normalise])\n",
    "    return df"
   ]
  },
  {
   "cell_type": "code",
   "execution_count": 151,
   "metadata": {},
   "outputs": [],
   "source": [
    "# normalise 'activity'\n",
    "norm_df = normalise_data(hourly, ['activity'])"
   ]
  },
  {
   "cell_type": "code",
   "execution_count": 152,
   "metadata": {},
   "outputs": [
    {
     "name": "stdout",
     "output_type": "stream",
     "text": [
      "            id           timestamp  activity        date  label\n",
      "0  condition_1 2003-05-08 00:00:00 -0.692092  2003-05-08      1\n",
      "1  condition_1 2003-05-08 01:00:00 -0.707868  2003-05-08      1\n",
      "2  condition_1 2003-05-08 02:00:00 -0.695852  2003-05-08      1\n",
      "3  condition_1 2003-05-08 03:00:00 -0.708069  2003-05-08      1\n",
      "4  condition_1 2003-05-08 04:00:00 -0.675109  2003-05-08      1\n"
     ]
    }
   ],
   "source": [
    "# print the first few rows of the normalised dataframe\n",
    "print(norm_df.head())"
   ]
  },
  {
   "cell_type": "code",
   "execution_count": 153,
   "metadata": {},
   "outputs": [
    {
     "name": "stdout",
     "output_type": "stream",
     "text": [
      "id           0\n",
      "timestamp    0\n",
      "activity     0\n",
      "date         0\n",
      "label        0\n",
      "dtype: int64\n"
     ]
    }
   ],
   "source": [
    "# check for missing data\n",
    "print(norm_df.isnull().sum())"
   ]
  },
  {
   "cell_type": "markdown",
   "metadata": {},
   "source": [
    "## Sequences"
   ]
  },
  {
   "cell_type": "markdown",
   "metadata": {},
   "source": [
    "### Create 24 hour sequences\n",
    "\n",
    "The general idea - I think - is to create 24-hour long sequences from the hourly resampled dataframe so that *daily patterns* can be captured.  Then the `LSTM` model learns from the full day sequences.\n",
    "\n",
    "The sliding window effectively means taking a fixed-size window and liding across the data in steps: \n",
    "\n",
    "* window size = 24; hop-size = 12:\n",
    "  * 24 rows = first window\n",
    "  * slide window 12 rows down and take rows 12-36 as the next window\n",
    "  * etc.\n"
   ]
  },
  {
   "cell_type": "code",
   "execution_count": 154,
   "metadata": {},
   "outputs": [],
   "source": [
    "def create_sequences(full_df, window_size, hop_size):\n",
    "    \"\"\"\n",
    "    Create sequences from a given dataframe.\n",
    "\n",
    "    Args:\n",
    "        full_df (pandas.DataFrame): df with full days\n",
    "        window_size (int): The size of each window/sequence.\n",
    "        hop_size (int): The number of steps to move the window.\n",
    "\n",
    "    Returns:\n",
    "        list: A list of sequences/windows created from the dataframe.\n",
    "    \"\"\"\n",
    "    sequences = []\n",
    "\n",
    "    for i in range(0, len(full_df), hop_size):\n",
    "        window = full_df.iloc[i:i+window_size]\n",
    "        sequences.append(window)\n",
    "\n",
    "    return sequences\n"
   ]
  },
  {
   "cell_type": "code",
   "execution_count": 155,
   "metadata": {},
   "outputs": [],
   "source": [
    "# Create sequences for full days df\n",
    "window_size = 24\n",
    "hop_size = 12\n",
    "sequences = create_sequences(norm_df, window_size, hop_size)"
   ]
  },
  {
   "cell_type": "code",
   "execution_count": 156,
   "metadata": {},
   "outputs": [
    {
     "name": "stdout",
     "output_type": "stream",
     "text": [
      "2058\n",
      "(24, 5)\n"
     ]
    }
   ],
   "source": [
    "# print the number of sequences\n",
    "print(len(sequences))\n",
    "\n",
    "# print the shape of the first sequence\n",
    "print(sequences[0].shape)\n",
    "\n",
    "# check for missing data in sequences\n",
    "for i, sequence in enumerate(sequences):\n",
    "    if sequence.isnull().sum().sum() > 0:\n",
    "        print(f\"Sequence {i} has missing data\")"
   ]
  },
  {
   "cell_type": "markdown",
   "metadata": {},
   "source": [
    "* 2058 24-hour sequences\n",
    "* each sequence has a shape of 24 (hours), 5 columns"
   ]
  },
  {
   "cell_type": "code",
   "execution_count": 157,
   "metadata": {},
   "outputs": [
    {
     "name": "stdout",
     "output_type": "stream",
     "text": [
      "[              id           timestamp  activity        date  label\n",
      "24684  control_9 2003-11-30 12:00:00  -0.69612  2003-11-30      0\n",
      "24685  control_9 2003-11-30 13:00:00  -0.69612  2003-11-30      0\n",
      "24686  control_9 2003-11-30 14:00:00  -0.69612  2003-11-30      0\n",
      "24687  control_9 2003-11-30 15:00:00  -0.69612  2003-11-30      0\n",
      "24688  control_9 2003-11-30 16:00:00  -0.69612  2003-11-30      0\n",
      "24689  control_9 2003-11-30 17:00:00  -0.69612  2003-11-30      0\n",
      "24690  control_9 2003-11-30 18:00:00  -0.69612  2003-11-30      0\n",
      "24691  control_9 2003-11-30 19:00:00  -0.69612  2003-11-30      0\n",
      "24692  control_9 2003-11-30 20:00:00  -0.69612  2003-11-30      0\n",
      "24693  control_9 2003-11-30 21:00:00  -0.69612  2003-11-30      0\n",
      "24694  control_9 2003-11-30 22:00:00  -0.69612  2003-11-30      0\n",
      "24695  control_9 2003-11-30 23:00:00  -0.69612  2003-11-30      0]\n"
     ]
    }
   ],
   "source": [
    "lengths = [len(seq) for seq in sequences]\n",
    "#print(set(lengths))\n",
    "\n",
    "# print sequences with length not equal to window_size\n",
    "print([seq for seq in sequences if len(seq) != window_size])"
   ]
  },
  {
   "cell_type": "markdown",
   "metadata": {},
   "source": [
    "Remove partial sequence for `control_9`"
   ]
  },
  {
   "cell_type": "code",
   "execution_count": 158,
   "metadata": {},
   "outputs": [],
   "source": [
    "# remove sequences with length not equal to window_size\n",
    "full_seqs = [s for s in sequences if len(s) == window_size]"
   ]
  },
  {
   "cell_type": "code",
   "execution_count": 159,
   "metadata": {},
   "outputs": [
    {
     "name": "stdout",
     "output_type": "stream",
     "text": [
      "[]\n"
     ]
    }
   ],
   "source": [
    "# print length of sequences\n",
    "print([seq for seq in full_seqs if len(seq) != window_size])"
   ]
  },
  {
   "cell_type": "code",
   "execution_count": 160,
   "metadata": {},
   "outputs": [
    {
     "name": "stdout",
     "output_type": "stream",
     "text": [
      "id                   object\n",
      "timestamp    datetime64[ns]\n",
      "activity            float64\n",
      "date                 object\n",
      "label                 int64\n",
      "dtype: object\n"
     ]
    }
   ],
   "source": [
    "# check data types\n",
    "print(full_seqs[0].dtypes)"
   ]
  },
  {
   "cell_type": "code",
   "execution_count": 161,
   "metadata": {},
   "outputs": [
    {
     "name": "stdout",
     "output_type": "stream",
     "text": [
      "            id           timestamp  activity        date  label\n",
      "0  condition_1 2003-05-08 00:00:00 -0.692092  2003-05-08      1\n",
      "1  condition_1 2003-05-08 01:00:00 -0.707868  2003-05-08      1\n",
      "2  condition_1 2003-05-08 02:00:00 -0.695852  2003-05-08      1\n",
      "3  condition_1 2003-05-08 03:00:00 -0.708069  2003-05-08      1\n",
      "4  condition_1 2003-05-08 04:00:00 -0.675109  2003-05-08      1\n"
     ]
    }
   ],
   "source": [
    "print(full_seqs[0].head())"
   ]
  },
  {
   "cell_type": "markdown",
   "metadata": {},
   "source": [
    "Create data set"
   ]
  },
  {
   "cell_type": "code",
   "execution_count": 163,
   "metadata": {},
   "outputs": [],
   "source": [
    "def create_dataset(sequences, activity_column='activity', label_column='label'):\n",
    "    \"\"\"\n",
    "    Create a dataset from a list of sequences.\n",
    "\n",
    "    Parameters:\n",
    "    sequences (list): A list of sequences.\n",
    "    activity_column (str): The name of the column containing activity data in each sequence. Default is 'activity'.\n",
    "    label_column (str): The name of the column containing label data in each sequence. Default is 'label'.\n",
    "\n",
    "    Returns:\n",
    "    inputs (numpy.ndarray): An array of input sequences.\n",
    "    targets (numpy.ndarray): An array of target sequences.\n",
    "    \"\"\"\n",
    "\n",
    "    import numpy as np\n",
    "    inputs = []\n",
    "    targets = []\n",
    "\n",
    "    for seq in sequences:\n",
    "        # Extract just activity column\n",
    "        input_arr = seq[activity_column].values\n",
    "\n",
    "        # Extract label column\n",
    "        target_arr = seq[label_column].values[0]  # Only take the first label\n",
    "\n",
    "        inputs.append(input_arr)\n",
    "        targets.append(target_arr)\n",
    "\n",
    "    inputs = np.array(inputs)\n",
    "    targets = np.array(targets)\n",
    "\n",
    "    return inputs, targets\n"
   ]
  },
  {
   "cell_type": "code",
   "execution_count": 165,
   "metadata": {},
   "outputs": [],
   "source": [
    "# create dataset from full sequences\n",
    "X_train, y_train = create_dataset(full_seqs)\n",
    "# Reshape X_train for the model\n",
    "X_train = X_train.reshape(X_train.shape[0], X_train.shape[1], 1)\n"
   ]
  },
  {
   "cell_type": "code",
   "execution_count": 166,
   "metadata": {},
   "outputs": [
    {
     "name": "stdout",
     "output_type": "stream",
     "text": [
      "(2057, 24, 1) (2057,)\n"
     ]
    }
   ],
   "source": [
    "# print the shape of X_train and y_train\n",
    "print(X_train.shape, y_train.shape)"
   ]
  },
  {
   "cell_type": "code",
   "execution_count": 167,
   "metadata": {},
   "outputs": [
    {
     "name": "stdout",
     "output_type": "stream",
     "text": [
      "                  0\n",
      "count  49368.000000\n",
      "mean       0.000258\n",
      "std        1.000142\n",
      "min       -0.724315\n",
      "25%       -0.708875\n",
      "50%       -0.528665\n",
      "75%        0.468999\n",
      "max       15.416479\n"
     ]
    }
   ],
   "source": [
    "# describe X_train\n",
    "print(pd.DataFrame(X_train.reshape(-1)).describe())\n"
   ]
  },
  {
   "cell_type": "code",
   "execution_count": 168,
   "metadata": {},
   "outputs": [
    {
     "data": {
      "image/png": "[encoded data removed]",
      "text/plain": [
       "<Figure size 640x480 with 1 Axes>"
      ]
     },
     "metadata": {},
     "output_type": "display_data"
    }
   ],
   "source": [
    "import matplotlib.pyplot as plt\n",
    "plt.hist(X_train.reshape(-1), bins=50)\n",
    "plt.show()\n"
   ]
  },
  {
   "cell_type": "markdown",
   "metadata": {},
   "source": [
    "## LSTM\n"
   ]
  },
  {
   "cell_type": "markdown",
   "metadata": {},
   "source": [
    "\n",
    "Article (Arora, 2023) states that they extracted high level features from the fifth LSTM layer with this configuration: \n",
    "\n",
    "* num_timesteps = 24 \n",
    "* num_features = 1  \n",
    "* num_layers = 5 \n",
    "* units = [125, 100, 75, 50, 25] \n",
    "* dropout = 0.1\n"
   ]
  },
  {
   "cell_type": "markdown",
   "metadata": {},
   "source": [
    "### side step - set up separate environment - too many issues instlling tensorfloww\n",
    "\n",
    "1. gpu drivers\n",
    "2. cuda toolkit, cuDNN\n",
    "3. running in wsl\n"
   ]
  },
  {
   "cell_type": "code",
   "execution_count": 169,
   "metadata": {},
   "outputs": [
    {
     "name": "stdout",
     "output_type": "stream",
     "text": [
      "Num GPUs Available: 1\n"
     ]
    }
   ],
   "source": [
    "import tensorflow as tf\n",
    "\n",
    "# Check if TensorFlow sees any GPUs\n",
    "gpus = tf.config.list_physical_devices('GPU')\n",
    "\n",
    "if gpus:\n",
    "    # If GPUs are available, print the number of GPUs\n",
    "    print(\"Num GPUs Available:\", len(gpus))\n",
    "else:\n",
    "    print(\"No GPUs Available\")\n",
    "\n"
   ]
  },
  {
   "cell_type": "markdown",
   "metadata": {},
   "source": [
    "### LSTM model\n",
    "\n",
    "Copy the configuration from the article."
   ]
  },
  {
   "cell_type": "code",
   "execution_count": 170,
   "metadata": {},
   "outputs": [
    {
     "name": "stdout",
     "output_type": "stream",
     "text": [
      "65/65 [==============================] - 3s 10ms/step\n"
     ]
    }
   ],
   "source": [
    "from tensorflow.keras.models import Sequential\n",
    "from tensorflow.keras.layers import LSTM, Dense\n",
    "\n",
    "# configuration\n",
    "num_timesteps = 24 # X data shape \n",
    "num_features = 1  # Number of features\n",
    "num_layers = 5 \n",
    "units = [125, 100, 75, 50, 25] # Units in each LSTM layer\n",
    "dropout = 0.1\n",
    "\n",
    "model = Sequential()\n",
    "\n",
    "#  LSTM layers  \n",
    "for i in range(num_layers):\n",
    "  model.add(LSTM(units[i], return_sequences=True, dropout=dropout)) \n",
    "\n",
    "#  connected output layer  \n",
    "model.add(Dense(25)) \n",
    "\n",
    "# compile model\n",
    "model.compile(loss='mean_squared_error', optimizer='adam') \n",
    "\n",
    "# generate features\n",
    "features1 = model.predict(X_train)"
   ]
  },
  {
   "cell_type": "code",
   "execution_count": 171,
   "metadata": {},
   "outputs": [
    {
     "name": "stdout",
     "output_type": "stream",
     "text": [
      "(2057, 24, 25)\n"
     ]
    }
   ],
   "source": [
    "# print the shape of the features\n",
    "print(features1.shape)"
   ]
  },
  {
   "cell_type": "markdown",
   "metadata": {},
   "source": [
    "### Plot feature example"
   ]
  },
  {
   "cell_type": "code",
   "execution_count": 172,
   "metadata": {},
   "outputs": [
    {
     "data": {
      "image/png": "[encoded data removed]",
      "text/plain": [
       "<Figure size 640x480 with 1 Axes>"
      ]
     },
     "metadata": {},
     "output_type": "display_data"
    },
    {
     "data": {
      "image/png": "[encoded data removed]",
      "text/plain": [
       "<Figure size 640x480 with 1 Axes>"
      ]
     },
     "metadata": {},
     "output_type": "display_data"
    }
   ],
   "source": [
    "import matplotlib.pyplot as plt\n",
    "\n",
    "# plot the first feature\n",
    "plt.plot(features1[:,0]) \n",
    "plt.ylabel('Feature 0 Value')\n",
    "plt.xlabel('Sequence')\n",
    "plt.title('Feature 0 Over Time')\n",
    "plt.show()\n",
    "\n",
    "# plot the second feature\n",
    "plt.plot(features1[:,1])\n",
    "plt.ylabel('Feature 1 Value')\n",
    "plt.xlabel('Sequence')\n",
    "plt.title('Feature 1 Over Time')\n",
    "plt.show()\n",
    "\n"
   ]
  },
  {
   "cell_type": "markdown",
   "metadata": {},
   "source": [
    "### Perform PCA - n = 2"
   ]
  },
  {
   "cell_type": "code",
   "execution_count": 173,
   "metadata": {},
   "outputs": [
    {
     "data": {
      "image/png": "[encoded data removed]",
      "text/plain": [
       "<Figure size 640x480 with 1 Axes>"
      ]
     },
     "metadata": {},
     "output_type": "display_data"
    }
   ],
   "source": [
    "\n",
    "\n",
    "from sklearn.decomposition import PCA\n",
    "import matplotlib.pyplot as plt\n",
    "\n",
    "def plot_pca(features):\n",
    "    \"\"\"\n",
    "    Plot the PCA of LSTM features.\n",
    "\n",
    "    Parameters:\n",
    "    features (numpy.ndarray): The LSTM features.\n",
    "\n",
    "    Returns:\n",
    "    None\n",
    "    \"\"\"\n",
    "    # Flatten the features \n",
    "    flattened_features = features.reshape(features.shape[0], -1)\n",
    "\n",
    "    pca = PCA(n_components=2)\n",
    "    pca_features = pca.fit_transform(flattened_features)\n",
    "    plt.scatter(pca_features[:,0], pca_features[:,1])\n",
    "    plt.xlabel('Principal Component 1')\n",
    "    plt.ylabel('Principal Component 2')\n",
    "    plt.title('PCA of LSTM Features')\n",
    "    plt.show()\n",
    "\n",
    "# plot the PCA of the LSTM features\n",
    "plot_pca(features1)\n"
   ]
  },
  {
   "cell_type": "markdown",
   "metadata": {},
   "source": [
    "### Extract features from LSTM\n"
   ]
  },
  {
   "cell_type": "code",
   "execution_count": 174,
   "metadata": {},
   "outputs": [],
   "source": [
    "from tensorflow.keras.models import Model\n",
    "\n",
    "# create a model that outputs the feature representations of the LSTM layers\n",
    "feature_extractor = Model(inputs=model.inputs, outputs=model.layers[4].output)\n"
   ]
  },
  {
   "cell_type": "code",
   "execution_count": 175,
   "metadata": {},
   "outputs": [
    {
     "name": "stdout",
     "output_type": "stream",
     "text": [
      "65/65 [==============================] - 1s 8ms/step\n"
     ]
    }
   ],
   "source": [
    "# generate features\n",
    "features = feature_extractor.predict(X_train)\n"
   ]
  },
  {
   "cell_type": "code",
   "execution_count": 176,
   "metadata": {},
   "outputs": [
    {
     "name": "stdout",
     "output_type": "stream",
     "text": [
      "(2057, 24, 25)\n"
     ]
    }
   ],
   "source": [
    "# print shape of features\n",
    "print(features.shape)"
   ]
  },
  {
   "cell_type": "code",
   "execution_count": 177,
   "metadata": {},
   "outputs": [
    {
     "name": "stdout",
     "output_type": "stream",
     "text": [
      "False\n"
     ]
    }
   ],
   "source": [
    "# check if features and features2 are the same\n",
    "print(np.allclose(features, features2))"
   ]
  },
  {
   "cell_type": "markdown",
   "metadata": {},
   "source": [
    "### Statistical features\n",
    "\n",
    "* mean\n",
    "* std\n",
    "* % zero activities"
   ]
  },
  {
   "cell_type": "code",
   "execution_count": 178,
   "metadata": {},
   "outputs": [],
   "source": [
    "\n",
    "\n",
    "#  mean and standard deviation\n",
    "mean_activity = np.mean(X_train, axis=1)\n",
    "std_activity = np.std(X_train, axis=1)\n",
    "\n",
    "#  percentage of zero activities\n",
    "zero_activity = np.sum(X_train == 0, axis=1) / X_train.shape[1]\n"
   ]
  },
  {
   "cell_type": "markdown",
   "metadata": {},
   "source": [
    "### Combine features"
   ]
  },
  {
   "cell_type": "code",
   "execution_count": 179,
   "metadata": {},
   "outputs": [
    {
     "name": "stdout",
     "output_type": "stream",
     "text": [
      "(2057, 3)\n",
      "[[-0.09498505  0.5808358   0.        ]\n",
      " [-0.10704322  0.56905133  0.        ]\n",
      " [-0.22432436  0.49533169  0.        ]\n",
      " [-0.22415374  0.44898347  0.        ]\n",
      " [-0.18071804  0.48282368  0.        ]]\n"
     ]
    }
   ],
   "source": [
    "#  statistical features into one array\n",
    "stat_features = np.hstack([mean_activity.reshape(-1, 1), std_activity.reshape(-1, 1), zero_activity.reshape(-1, 1)])\n",
    "print(stat_features.shape)\n",
    "print(stat_features[:5])\n"
   ]
  },
  {
   "cell_type": "markdown",
   "metadata": {},
   "source": [
    "* Statistical features x 3\n",
    "* LSTM features -> 24 timesteps * 25 features = 600\n"
   ]
  },
  {
   "cell_type": "code",
   "execution_count": 180,
   "metadata": {},
   "outputs": [
    {
     "name": "stdout",
     "output_type": "stream",
     "text": [
      "(2057, 603)\n",
      "[[ 2.62403978e-06 -3.86794773e-06  9.55380983e-07 ... -9.49850543e-02\n",
      "   5.80835797e-01  0.00000000e+00]\n",
      " [-1.03451350e-06  1.25902295e-06 -3.73586204e-07 ... -1.07043223e-01\n",
      "   5.69051335e-01  0.00000000e+00]\n",
      " [ 1.68185227e-06 -2.37774566e-06  6.08931089e-07 ... -2.24324362e-01\n",
      "   4.95331693e-01  0.00000000e+00]\n",
      " [-1.93066541e-07  2.45509653e-07 -6.93357123e-08 ... -2.24153741e-01\n",
      "   4.48983468e-01  0.00000000e+00]\n",
      " [ 1.21114192e-06 -1.66818040e-06  4.35839752e-07 ... -1.80718043e-01\n",
      "   4.82823683e-01  0.00000000e+00]]\n"
     ]
    }
   ],
   "source": [
    "# flatten the LSTM features - 3D to 2D\n",
    "flattened_features = features.reshape(features.shape[0], -1)\n",
    "\n",
    "# Combine LSTM features and statistical features\n",
    "combined_features = np.hstack([flattened_features, stat_features])\n",
    "print(combined_features.shape)\n",
    "print(combined_features[:5])\n"
   ]
  },
  {
   "cell_type": "markdown",
   "metadata": {},
   "source": [
    "## Linear SVM model\n",
    "\n",
    "* fit linear SVM with `view_as_windows` to create the 'overlapping windows'\n"
   ]
  },
  {
   "cell_type": "code",
   "execution_count": 181,
   "metadata": {},
   "outputs": [
    {
     "name": "stdout",
     "output_type": "stream",
     "text": [
      "[1 1 1 1 1]\n",
      "(2057,)\n"
     ]
    }
   ],
   "source": [
    "# check content of y_train\n",
    "print(y_train[:5])\n",
    "\n",
    "# print y_train shape\n",
    "print(y_train.shape)"
   ]
  },
  {
   "cell_type": "markdown",
   "metadata": {},
   "source": [
    "### Trying to understand the windows!"
   ]
  },
  {
   "cell_type": "code",
   "execution_count": 186,
   "metadata": {},
   "outputs": [
    {
     "name": "stdout",
     "output_type": "stream",
     "text": [
      "Shape of windows: (170, 1, 24, 603)\n"
     ]
    }
   ],
   "source": [
    "windows = view_as_windows(combined_features, window_shape=(window_size, combined_features.shape[1]), step=hop_size)\n",
    "print(\"Shape of windows:\", windows.shape)\n"
   ]
  },
  {
   "cell_type": "code",
   "execution_count": 187,
   "metadata": {},
   "outputs": [
    {
     "name": "stdout",
     "output_type": "stream",
     "text": [
      "Shape of flattened windows: (170, 14472)\n"
     ]
    }
   ],
   "source": [
    "windows = windows.reshape(windows.shape[0]*windows.shape[1], -1)\n",
    "print(\"Shape of flattened windows:\", windows.shape)\n"
   ]
  },
  {
   "cell_type": "code",
   "execution_count": 188,
   "metadata": {},
   "outputs": [
    {
     "name": "stdout",
     "output_type": "stream",
     "text": [
      "Shape of windowed_labels: (170, 24)\n"
     ]
    }
   ],
   "source": [
    "windowed_labels = view_as_windows(y_train, window_shape=(window_size,), step=hop_size)\n",
    "print(\"Shape of windowed_labels:\", windowed_labels.shape)\n"
   ]
  },
  {
   "cell_type": "code",
   "execution_count": 189,
   "metadata": {},
   "outputs": [
    {
     "name": "stdout",
     "output_type": "stream",
     "text": [
      "Shape of flattened windowed_labels: (4080,)\n"
     ]
    }
   ],
   "source": [
    "windowed_labels = windowed_labels.reshape(-1)\n",
    "print(\"Shape of flattened windowed_labels:\", windowed_labels.shape)\n"
   ]
  },
  {
   "cell_type": "code",
   "execution_count": 190,
   "metadata": {},
   "outputs": [
    {
     "data": {
      "text/html": [
       "<style>#sk-container-id-1 {\n",
       "  /* Definition of color scheme common for light and dark mode */\n",
       "  --sklearn-color-text: black;\n",
       "  --sklearn-color-line: gray;\n",
       "  /* Definition of color scheme for unfitted estimators */\n",
       "  --sklearn-color-unfitted-level-0: #fff5e6;\n",
       "  --sklearn-color-unfitted-level-1: #f6e4d2;\n",
       "  --sklearn-color-unfitted-level-2: #ffe0b3;\n",
       "  --sklearn-color-unfitted-level-3: chocolate;\n",
       "  /* Definition of color scheme for fitted estimators */\n",
       "  --sklearn-color-fitted-level-0: #f0f8ff;\n",
       "  --sklearn-color-fitted-level-1: #d4ebff;\n",
       "  --sklearn-color-fitted-level-2: #b3dbfd;\n",
       "  --sklearn-color-fitted-level-3: cornflowerblue;\n",
       "\n",
       "  /* Specific color for light theme */\n",
       "  --sklearn-color-text-on-default-background: var(--sg-text-color, var(--theme-code-foreground, var(--jp-content-font-color1, black)));\n",
       "  --sklearn-color-background: var(--sg-background-color, var(--theme-background, var(--jp-layout-color0, white)));\n",
       "  --sklearn-color-border-box: var(--sg-text-color, var(--theme-code-foreground, var(--jp-content-font-color1, black)));\n",
       "  --sklearn-color-icon: #696969;\n",
       "\n",
       "  @media (prefers-color-scheme: dark) {\n",
       "    /* Redefinition of color scheme for dark theme */\n",
       "    --sklearn-color-text-on-default-background: var(--sg-text-color, var(--theme-code-foreground, var(--jp-content-font-color1, white)));\n",
       "    --sklearn-color-background: var(--sg-background-color, var(--theme-background, var(--jp-layout-color0, #111)));\n",
       "    --sklearn-color-border-box: var(--sg-text-color, var(--theme-code-foreground, var(--jp-content-font-color1, white)));\n",
       "    --sklearn-color-icon: #878787;\n",
       "  }\n",
       "}\n",
       "\n",
       "#sk-container-id-1 {\n",
       "  color: var(--sklearn-color-text);\n",
       "}\n",
       "\n",
       "#sk-container-id-1 pre {\n",
       "  padding: 0;\n",
       "}\n",
       "\n",
       "#sk-container-id-1 input.sk-hidden--visually {\n",
       "  border: 0;\n",
       "  clip: rect(1px 1px 1px 1px);\n",
       "  clip: rect(1px, 1px, 1px, 1px);\n",
       "  height: 1px;\n",
       "  margin: -1px;\n",
       "  overflow: hidden;\n",
       "  padding: 0;\n",
       "  position: absolute;\n",
       "  width: 1px;\n",
       "}\n",
       "\n",
       "#sk-container-id-1 div.sk-dashed-wrapped {\n",
       "  border: 1px dashed var(--sklearn-color-line);\n",
       "  margin: 0 0.4em 0.5em 0.4em;\n",
       "  box-sizing: border-box;\n",
       "  padding-bottom: 0.4em;\n",
       "  background-color: var(--sklearn-color-background);\n",
       "}\n",
       "\n",
       "#sk-container-id-1 div.sk-container {\n",
       "  /* jupyter's `normalize.less` sets `[hidden] { display: none; }`\n",
       "     but bootstrap.min.css set `[hidden] { display: none !important; }`\n",
       "     so we also need the `!important` here to be able to override the\n",
       "     default hidden behavior on the sphinx rendered scikit-learn.org.\n",
       "     See: https://github.com/scikit-learn/scikit-learn/issues/21755 */\n",
       "  display: inline-block !important;\n",
       "  position: relative;\n",
       "}\n",
       "\n",
       "#sk-container-id-1 div.sk-text-repr-fallback {\n",
       "  display: none;\n",
       "}\n",
       "\n",
       "div.sk-parallel-item,\n",
       "div.sk-serial,\n",
       "div.sk-item {\n",
       "  /* draw centered vertical line to link estimators */\n",
       "  background-image: linear-gradient(var(--sklearn-color-text-on-default-background), var(--sklearn-color-text-on-default-background));\n",
       "  background-size: 2px 100%;\n",
       "  background-repeat: no-repeat;\n",
       "  background-position: center center;\n",
       "}\n",
       "\n",
       "/* Parallel-specific style estimator block */\n",
       "\n",
       "#sk-container-id-1 div.sk-parallel-item::after {\n",
       "  content: \"\";\n",
       "  width: 100%;\n",
       "  border-bottom: 2px solid var(--sklearn-color-text-on-default-background);\n",
       "  flex-grow: 1;\n",
       "}\n",
       "\n",
       "#sk-container-id-1 div.sk-parallel {\n",
       "  display: flex;\n",
       "  align-items: stretch;\n",
       "  justify-content: center;\n",
       "  background-color: var(--sklearn-color-background);\n",
       "  position: relative;\n",
       "}\n",
       "\n",
       "#sk-container-id-1 div.sk-parallel-item {\n",
       "  display: flex;\n",
       "  flex-direction: column;\n",
       "}\n",
       "\n",
       "#sk-container-id-1 div.sk-parallel-item:first-child::after {\n",
       "  align-self: flex-end;\n",
       "  width: 50%;\n",
       "}\n",
       "\n",
       "#sk-container-id-1 div.sk-parallel-item:last-child::after {\n",
       "  align-self: flex-start;\n",
       "  width: 50%;\n",
       "}\n",
       "\n",
       "#sk-container-id-1 div.sk-parallel-item:only-child::after {\n",
       "  width: 0;\n",
       "}\n",
       "\n",
       "/* Serial-specific style estimator block */\n",
       "\n",
       "#sk-container-id-1 div.sk-serial {\n",
       "  display: flex;\n",
       "  flex-direction: column;\n",
       "  align-items: center;\n",
       "  background-color: var(--sklearn-color-background);\n",
       "  padding-right: 1em;\n",
       "  padding-left: 1em;\n",
       "}\n",
       "\n",
       "\n",
       "/* Toggleable style: style used for estimator/Pipeline/ColumnTransformer box that is\n",
       "clickable and can be expanded/collapsed.\n",
       "- Pipeline and ColumnTransformer use this feature and define the default style\n",
       "- Estimators will overwrite some part of the style using the `sk-estimator` class\n",
       "*/\n",
       "\n",
       "/* Pipeline and ColumnTransformer style (default) */\n",
       "\n",
       "#sk-container-id-1 div.sk-toggleable {\n",
       "  /* Default theme specific background. It is overwritten whether we have a\n",
       "  specific estimator or a Pipeline/ColumnTransformer */\n",
       "  background-color: var(--sklearn-color-background);\n",
       "}\n",
       "\n",
       "/* Toggleable label */\n",
       "#sk-container-id-1 label.sk-toggleable__label {\n",
       "  cursor: pointer;\n",
       "  display: block;\n",
       "  width: 100%;\n",
       "  margin-bottom: 0;\n",
       "  padding: 0.5em;\n",
       "  box-sizing: border-box;\n",
       "  text-align: center;\n",
       "}\n",
       "\n",
       "#sk-container-id-1 label.sk-toggleable__label-arrow:before {\n",
       "  /* Arrow on the left of the label */\n",
       "  content: \"▸\";\n",
       "  float: left;\n",
       "  margin-right: 0.25em;\n",
       "  color: var(--sklearn-color-icon);\n",
       "}\n",
       "\n",
       "#sk-container-id-1 label.sk-toggleable__label-arrow:hover:before {\n",
       "  color: var(--sklearn-color-text);\n",
       "}\n",
       "\n",
       "/* Toggleable content - dropdown */\n",
       "\n",
       "#sk-container-id-1 div.sk-toggleable__content {\n",
       "  max-height: 0;\n",
       "  max-width: 0;\n",
       "  overflow: hidden;\n",
       "  text-align: left;\n",
       "  /* unfitted */\n",
       "  background-color: var(--sklearn-color-unfitted-level-0);\n",
       "}\n",
       "\n",
       "#sk-container-id-1 div.sk-toggleable__content.fitted {\n",
       "  /* fitted */\n",
       "  background-color: var(--sklearn-color-fitted-level-0);\n",
       "}\n",
       "\n",
       "#sk-container-id-1 div.sk-toggleable__content pre {\n",
       "  margin: 0.2em;\n",
       "  border-radius: 0.25em;\n",
       "  color: var(--sklearn-color-text);\n",
       "  /* unfitted */\n",
       "  background-color: var(--sklearn-color-unfitted-level-0);\n",
       "}\n",
       "\n",
       "#sk-container-id-1 div.sk-toggleable__content.fitted pre {\n",
       "  /* unfitted */\n",
       "  background-color: var(--sklearn-color-fitted-level-0);\n",
       "}\n",
       "\n",
       "#sk-container-id-1 input.sk-toggleable__control:checked~div.sk-toggleable__content {\n",
       "  /* Expand drop-down */\n",
       "  max-height: 200px;\n",
       "  max-width: 100%;\n",
       "  overflow: auto;\n",
       "}\n",
       "\n",
       "#sk-container-id-1 input.sk-toggleable__control:checked~label.sk-toggleable__label-arrow:before {\n",
       "  content: \"▾\";\n",
       "}\n",
       "\n",
       "/* Pipeline/ColumnTransformer-specific style */\n",
       "\n",
       "#sk-container-id-1 div.sk-label input.sk-toggleable__control:checked~label.sk-toggleable__label {\n",
       "  color: var(--sklearn-color-text);\n",
       "  background-color: var(--sklearn-color-unfitted-level-2);\n",
       "}\n",
       "\n",
       "#sk-container-id-1 div.sk-label.fitted input.sk-toggleable__control:checked~label.sk-toggleable__label {\n",
       "  background-color: var(--sklearn-color-fitted-level-2);\n",
       "}\n",
       "\n",
       "/* Estimator-specific style */\n",
       "\n",
       "/* Colorize estimator box */\n",
       "#sk-container-id-1 div.sk-estimator input.sk-toggleable__control:checked~label.sk-toggleable__label {\n",
       "  /* unfitted */\n",
       "  background-color: var(--sklearn-color-unfitted-level-2);\n",
       "}\n",
       "\n",
       "#sk-container-id-1 div.sk-estimator.fitted input.sk-toggleable__control:checked~label.sk-toggleable__label {\n",
       "  /* fitted */\n",
       "  background-color: var(--sklearn-color-fitted-level-2);\n",
       "}\n",
       "\n",
       "#sk-container-id-1 div.sk-label label.sk-toggleable__label,\n",
       "#sk-container-id-1 div.sk-label label {\n",
       "  /* The background is the default theme color */\n",
       "  color: var(--sklearn-color-text-on-default-background);\n",
       "}\n",
       "\n",
       "/* On hover, darken the color of the background */\n",
       "#sk-container-id-1 div.sk-label:hover label.sk-toggleable__label {\n",
       "  color: var(--sklearn-color-text);\n",
       "  background-color: var(--sklearn-color-unfitted-level-2);\n",
       "}\n",
       "\n",
       "/* Label box, darken color on hover, fitted */\n",
       "#sk-container-id-1 div.sk-label.fitted:hover label.sk-toggleable__label.fitted {\n",
       "  color: var(--sklearn-color-text);\n",
       "  background-color: var(--sklearn-color-fitted-level-2);\n",
       "}\n",
       "\n",
       "/* Estimator label */\n",
       "\n",
       "#sk-container-id-1 div.sk-label label {\n",
       "  font-family: monospace;\n",
       "  font-weight: bold;\n",
       "  display: inline-block;\n",
       "  line-height: 1.2em;\n",
       "}\n",
       "\n",
       "#sk-container-id-1 div.sk-label-container {\n",
       "  text-align: center;\n",
       "}\n",
       "\n",
       "/* Estimator-specific */\n",
       "#sk-container-id-1 div.sk-estimator {\n",
       "  font-family: monospace;\n",
       "  border: 1px dotted var(--sklearn-color-border-box);\n",
       "  border-radius: 0.25em;\n",
       "  box-sizing: border-box;\n",
       "  margin-bottom: 0.5em;\n",
       "  /* unfitted */\n",
       "  background-color: var(--sklearn-color-unfitted-level-0);\n",
       "}\n",
       "\n",
       "#sk-container-id-1 div.sk-estimator.fitted {\n",
       "  /* fitted */\n",
       "  background-color: var(--sklearn-color-fitted-level-0);\n",
       "}\n",
       "\n",
       "/* on hover */\n",
       "#sk-container-id-1 div.sk-estimator:hover {\n",
       "  /* unfitted */\n",
       "  background-color: var(--sklearn-color-unfitted-level-2);\n",
       "}\n",
       "\n",
       "#sk-container-id-1 div.sk-estimator.fitted:hover {\n",
       "  /* fitted */\n",
       "  background-color: var(--sklearn-color-fitted-level-2);\n",
       "}\n",
       "\n",
       "/* Specification for estimator info (e.g. \"i\" and \"?\") */\n",
       "\n",
       "/* Common style for \"i\" and \"?\" */\n",
       "\n",
       ".sk-estimator-doc-link,\n",
       "a:link.sk-estimator-doc-link,\n",
       "a:visited.sk-estimator-doc-link {\n",
       "  float: right;\n",
       "  font-size: smaller;\n",
       "  line-height: 1em;\n",
       "  font-family: monospace;\n",
       "  background-color: var(--sklearn-color-background);\n",
       "  border-radius: 1em;\n",
       "  height: 1em;\n",
       "  width: 1em;\n",
       "  text-decoration: none !important;\n",
       "  margin-left: 1ex;\n",
       "  /* unfitted */\n",
       "  border: var(--sklearn-color-unfitted-level-1) 1pt solid;\n",
       "  color: var(--sklearn-color-unfitted-level-1);\n",
       "}\n",
       "\n",
       ".sk-estimator-doc-link.fitted,\n",
       "a:link.sk-estimator-doc-link.fitted,\n",
       "a:visited.sk-estimator-doc-link.fitted {\n",
       "  /* fitted */\n",
       "  border: var(--sklearn-color-fitted-level-1) 1pt solid;\n",
       "  color: var(--sklearn-color-fitted-level-1);\n",
       "}\n",
       "\n",
       "/* On hover */\n",
       "div.sk-estimator:hover .sk-estimator-doc-link:hover,\n",
       ".sk-estimator-doc-link:hover,\n",
       "div.sk-label-container:hover .sk-estimator-doc-link:hover,\n",
       ".sk-estimator-doc-link:hover {\n",
       "  /* unfitted */\n",
       "  background-color: var(--sklearn-color-unfitted-level-3);\n",
       "  color: var(--sklearn-color-background);\n",
       "  text-decoration: none;\n",
       "}\n",
       "\n",
       "div.sk-estimator.fitted:hover .sk-estimator-doc-link.fitted:hover,\n",
       ".sk-estimator-doc-link.fitted:hover,\n",
       "div.sk-label-container:hover .sk-estimator-doc-link.fitted:hover,\n",
       ".sk-estimator-doc-link.fitted:hover {\n",
       "  /* fitted */\n",
       "  background-color: var(--sklearn-color-fitted-level-3);\n",
       "  color: var(--sklearn-color-background);\n",
       "  text-decoration: none;\n",
       "}\n",
       "\n",
       "/* Span, style for the box shown on hovering the info icon */\n",
       ".sk-estimator-doc-link span {\n",
       "  display: none;\n",
       "  z-index: 9999;\n",
       "  position: relative;\n",
       "  font-weight: normal;\n",
       "  right: .2ex;\n",
       "  padding: .5ex;\n",
       "  margin: .5ex;\n",
       "  width: min-content;\n",
       "  min-width: 20ex;\n",
       "  max-width: 50ex;\n",
       "  color: var(--sklearn-color-text);\n",
       "  box-shadow: 2pt 2pt 4pt #999;\n",
       "  /* unfitted */\n",
       "  background: var(--sklearn-color-unfitted-level-0);\n",
       "  border: .5pt solid var(--sklearn-color-unfitted-level-3);\n",
       "}\n",
       "\n",
       ".sk-estimator-doc-link.fitted span {\n",
       "  /* fitted */\n",
       "  background: var(--sklearn-color-fitted-level-0);\n",
       "  border: var(--sklearn-color-fitted-level-3);\n",
       "}\n",
       "\n",
       ".sk-estimator-doc-link:hover span {\n",
       "  display: block;\n",
       "}\n",
       "\n",
       "/* \"?\"-specific style due to the `<a>` HTML tag */\n",
       "\n",
       "#sk-container-id-1 a.estimator_doc_link {\n",
       "  float: right;\n",
       "  font-size: 1rem;\n",
       "  line-height: 1em;\n",
       "  font-family: monospace;\n",
       "  background-color: var(--sklearn-color-background);\n",
       "  border-radius: 1rem;\n",
       "  height: 1rem;\n",
       "  width: 1rem;\n",
       "  text-decoration: none;\n",
       "  /* unfitted */\n",
       "  color: var(--sklearn-color-unfitted-level-1);\n",
       "  border: var(--sklearn-color-unfitted-level-1) 1pt solid;\n",
       "}\n",
       "\n",
       "#sk-container-id-1 a.estimator_doc_link.fitted {\n",
       "  /* fitted */\n",
       "  border: var(--sklearn-color-fitted-level-1) 1pt solid;\n",
       "  color: var(--sklearn-color-fitted-level-1);\n",
       "}\n",
       "\n",
       "/* On hover */\n",
       "#sk-container-id-1 a.estimator_doc_link:hover {\n",
       "  /* unfitted */\n",
       "  background-color: var(--sklearn-color-unfitted-level-3);\n",
       "  color: var(--sklearn-color-background);\n",
       "  text-decoration: none;\n",
       "}\n",
       "\n",
       "#sk-container-id-1 a.estimator_doc_link.fitted:hover {\n",
       "  /* fitted */\n",
       "  background-color: var(--sklearn-color-fitted-level-3);\n",
       "}\n",
       "</style><div id=\"sk-container-id-1\" class=\"sk-top-container\"><div class=\"sk-text-repr-fallback\"><pre>SVC(C=0.1, kernel=&#x27;linear&#x27;)</pre><b>In a Jupyter environment, please rerun this cell to show the HTML representation or trust the notebook. <br />On GitHub, the HTML representation is unable to render, please try loading this page with nbviewer.org.</b></div><div class=\"sk-container\" hidden><div class=\"sk-item\"><div class=\"sk-estimator fitted sk-toggleable\"><input class=\"sk-toggleable__control sk-hidden--visually\" id=\"sk-estimator-id-1\" type=\"checkbox\" checked><label for=\"sk-estimator-id-1\" class=\"sk-toggleable__label fitted sk-toggleable__label-arrow fitted\">&nbsp;&nbsp;SVC<a class=\"sk-estimator-doc-link fitted\" rel=\"noreferrer\" target=\"_blank\" href=\"https://scikit-learn.org/1.4/modules/generated/sklearn.svm.SVC.html\">?<span>Documentation for SVC</span></a><span class=\"sk-estimator-doc-link fitted\">i<span>Fitted</span></span></label><div class=\"sk-toggleable__content fitted\"><pre>SVC(C=0.1, kernel=&#x27;linear&#x27;)</pre></div> </div></div></div></div>"
      ],
      "text/plain": [
       "SVC(C=0.1, kernel='linear')"
      ]
     },
     "execution_count": 190,
     "metadata": {},
     "output_type": "execute_result"
    }
   ],
   "source": [
    "from skimage.util import view_as_windows\n",
    "from sklearn import svm\n",
    "\n",
    "# window size and hop size\n",
    "window_size = 24\n",
    "hop_size = 12\n",
    "\n",
    "# overlapping windows for the features\n",
    "windows = view_as_windows(combined_features, window_shape=(window_size, combined_features.shape[1]), step=hop_size)\n",
    "\n",
    "# flatten the feature windows\n",
    "windows = windows.reshape(windows.shape[0]*windows.shape[1], -1)\n",
    "\n",
    "#  overlapping windows for the labels\n",
    "windowed_labels = view_as_windows(y_train, window_shape=(window_size,), step=hop_size)\n",
    "\n",
    "# flatten the label windows\n",
    "windowed_labels = windowed_labels.reshape(-1)\n",
    "\n",
    "#  one label for each window\n",
    "windowed_labels = windowed_labels[::hop_size][:windows.shape[0]]\n",
    "\n",
    "# train the SVM model\n",
    "clf = svm.SVC(kernel='linear', C=0.1)\n",
    "clf.fit(windows, windowed_labels)\n"
   ]
  },
  {
   "cell_type": "code",
   "execution_count": 192,
   "metadata": {},
   "outputs": [
    {
     "name": "stderr",
     "output_type": "stream",
     "text": [
      "/home/zoonalink/.local/lib/python3.10/site-packages/sklearn/metrics/_classification.py:1509: UndefinedMetricWarning: Precision is ill-defined and being set to 0.0 in labels with no predicted samples. Use `zero_division` parameter to control this behavior.\n",
      "  _warn_prf(average, modifier, f\"{metric.capitalize()} is\", len(result))\n",
      "/home/zoonalink/.local/lib/python3.10/site-packages/sklearn/metrics/_classification.py:1509: UndefinedMetricWarning: Precision is ill-defined and being set to 0.0 in labels with no predicted samples. Use `zero_division` parameter to control this behavior.\n",
      "  _warn_prf(average, modifier, f\"{metric.capitalize()} is\", len(result))\n",
      "/home/zoonalink/.local/lib/python3.10/site-packages/sklearn/metrics/_classification.py:1509: UndefinedMetricWarning: Precision is ill-defined and being set to 0.0 in labels with no predicted samples. Use `zero_division` parameter to control this behavior.\n",
      "  _warn_prf(average, modifier, f\"{metric.capitalize()} is\", len(result))\n",
      "/home/zoonalink/.local/lib/python3.10/site-packages/sklearn/metrics/_classification.py:1509: UndefinedMetricWarning: Precision is ill-defined and being set to 0.0 in labels with no predicted samples. Use `zero_division` parameter to control this behavior.\n",
      "  _warn_prf(average, modifier, f\"{metric.capitalize()} is\", len(result))\n",
      "/home/zoonalink/.local/lib/python3.10/site-packages/sklearn/metrics/_classification.py:1509: UndefinedMetricWarning: Precision is ill-defined and being set to 0.0 in labels with no predicted samples. Use `zero_division` parameter to control this behavior.\n",
      "  _warn_prf(average, modifier, f\"{metric.capitalize()} is\", len(result))\n",
      "/home/zoonalink/.local/lib/python3.10/site-packages/sklearn/metrics/_classification.py:1509: UndefinedMetricWarning: Precision is ill-defined and being set to 0.0 in labels with no predicted samples. Use `zero_division` parameter to control this behavior.\n",
      "  _warn_prf(average, modifier, f\"{metric.capitalize()} is\", len(result))\n",
      "/home/zoonalink/.local/lib/python3.10/site-packages/sklearn/metrics/_classification.py:1509: UndefinedMetricWarning: Precision is ill-defined and being set to 0.0 in labels with no predicted samples. Use `zero_division` parameter to control this behavior.\n",
      "  _warn_prf(average, modifier, f\"{metric.capitalize()} is\", len(result))\n",
      "/home/zoonalink/.local/lib/python3.10/site-packages/sklearn/metrics/_classification.py:1509: UndefinedMetricWarning: Precision is ill-defined and being set to 0.0 in labels with no predicted samples. Use `zero_division` parameter to control this behavior.\n",
      "  _warn_prf(average, modifier, f\"{metric.capitalize()} is\", len(result))\n",
      "/home/zoonalink/.local/lib/python3.10/site-packages/sklearn/metrics/_classification.py:1509: UndefinedMetricWarning: Precision is ill-defined and being set to 0.0 in labels with no predicted samples. Use `zero_division` parameter to control this behavior.\n",
      "  _warn_prf(average, modifier, f\"{metric.capitalize()} is\", len(result))\n"
     ]
    },
    {
     "name": "stdout",
     "output_type": "stream",
     "text": [
      "fit_time: [0.47579074 0.16083479 0.18537378 0.13656116 0.23015904 0.49073124\n",
      " 0.13562012 0.19269133 0.1324029  0.14945269]\n",
      "score_time: [0.06451201 0.02536321 0.01585627 0.02690458 0.02235413 0.03381348\n",
      " 0.01768208 0.02112579 0.02475834 0.25252342]\n",
      "test_accuracy: [0.70588235 0.70588235 0.70588235 0.70588235 0.70588235 0.70588235\n",
      " 0.70588235 0.70588235 0.70588235 0.64705882]\n",
      "test_precision: [0.4982699  0.4982699  0.4982699  0.4982699  0.4982699  0.4982699\n",
      " 0.4982699  0.4982699  0.4982699  0.41868512]\n",
      "test_recall: [0.70588235 0.70588235 0.70588235 0.70588235 0.70588235 0.70588235\n",
      " 0.70588235 0.70588235 0.70588235 0.64705882]\n",
      "test_f1_score: [0.5841785  0.5841785  0.5841785  0.5841785  0.5841785  0.5841785\n",
      " 0.5841785  0.5841785  0.5841785  0.50840336]\n",
      "test_mcc: [0. 0. 0. 0. 0. 0. 0. 0. 0. 0.]\n"
     ]
    },
    {
     "name": "stderr",
     "output_type": "stream",
     "text": [
      "/home/zoonalink/.local/lib/python3.10/site-packages/sklearn/metrics/_classification.py:1509: UndefinedMetricWarning: Precision is ill-defined and being set to 0.0 in labels with no predicted samples. Use `zero_division` parameter to control this behavior.\n",
      "  _warn_prf(average, modifier, f\"{metric.capitalize()} is\", len(result))\n"
     ]
    }
   ],
   "source": [
    "from sklearn import svm\n",
    "from sklearn.model_selection import cross_validate\n",
    "from sklearn.metrics import make_scorer, accuracy_score, precision_score, recall_score, f1_score, confusion_matrix, matthews_corrcoef\n",
    "\n",
    "# SVM model\n",
    "#clf = svm.SVC(kernel='linear', C=0.1)\n",
    "\n",
    "#  scoring metrics\n",
    "scoring = {\n",
    "    'accuracy': make_scorer(accuracy_score),\n",
    "    'precision': make_scorer(precision_score, average='weighted'),\n",
    "    'recall': make_scorer(recall_score, average='weighted'),\n",
    "    'f1_score': make_scorer(f1_score, average='weighted'),\n",
    "    'mcc': make_scorer(matthews_corrcoef)\n",
    "}\n",
    "\n",
    "#  10-fold cross-validation\n",
    "cv_results = cross_validate(clf, windows, windowed_labels, cv=10, scoring=scoring)\n",
    "\n",
    "# print cross-validation scores\n",
    "for metric, scores in cv_results.items():\n",
    "    print(f\"{metric}: {scores}\")\n",
    "\n",
    "\n"
   ]
  },
  {
   "cell_type": "markdown",
   "metadata": {},
   "source": [
    "## Conclusion\n",
    "\n",
    "* After all that...the model does not perform any better than random chance.\n",
    "* I thought I followed the exact set up described in the article but do not have anywhere near the same results.  \n",
    "* Something must be quite wrong somewhere. \n",
    "\n"
   ]
  },
  {
   "cell_type": "markdown",
   "metadata": {},
   "source": [
    "## Train / Test split"
   ]
  },
  {
   "cell_type": "markdown",
   "metadata": {},
   "source": [
    "## Models"
   ]
  },
  {
   "cell_type": "markdown",
   "metadata": {},
   "source": [
    "### Import model libraries"
   ]
  },
  {
   "cell_type": "markdown",
   "metadata": {},
   "source": [
    "### Define models (broken into sets -not sure of time needed)"
   ]
  },
  {
   "cell_type": "markdown",
   "metadata": {},
   "source": [
    "## Model evaluation function"
   ]
  },
  {
   "cell_type": "markdown",
   "metadata": {},
   "source": [
    "## Models"
   ]
  },
  {
   "cell_type": "markdown",
   "metadata": {},
   "source": [
    "### Results - summary - out of the box models: \n",
    "\n",
    "* **Accuracy** - proportion of total predictions correct ->    `gradient boost`\n",
    "\n",
    "$$\\frac{{\\text{{True Positive}} + \\text{{True Negative}}}}{{\\text{{Total Prediction}}}}$$\n",
    "\n",
    "* **Precision**: proportion of positive prediction that are actually correct (Positive Predictive value) -> `neural network`\n",
    "  \n",
    "$$\\frac{{\\text{{True Positive}}}}{{\\text{{True Positives}}+ \\text{{False Positives}}}}$$\n",
    "\n",
    "* **Recall**: proportion of actual positives that are correctly identified (aka Sensitivity) -> `Naive Bayes`\n",
    "\n",
    "$$\\frac{{\\text{{True Positive}}}}{{\\text{{True Positives}} + \\text{{False Negatives}}}}$$\n",
    "\n",
    "* **F1**: harmonic mean of Precision and Recall -> `gradient boost`\n",
    "\n",
    "$$\\frac{{{{2}} * \\text{{(Precision}} * \\text{{Recall)}}}}{{\\text{{Precision}} + \\text{{Recall}}}}$$\n",
    "\n",
    "* **MCC**: measure of quality of binary classifications - considered a balanced measure ->  `gradient boost`\n",
    "\n",
    "$$\\frac{{\\text{{(TP * TN - FP *FN)}}}}{{\\text{{sqrt((TP+FP)*(TP+FN)*(TN+FP)*(TN+FN))}}}}$$\n",
    "\n",
    "* **Quickest**: time ->  `Naive Bayes`\n",
    "\n",
    "\n",
    "\n",
    "#### Reminder: \n",
    "\n",
    "* `True Positives (TP)`:  model predicted positive, and the truth is also positive.\n",
    "* `True Negatives (TN)`:  model predicted negative, and the truth is also negative.\n",
    "* `False Positives (FP)`: model predicted positive, and the truth is negative.\n",
    "* `False Negatives (FN)`: model predicted negative, and the truth is positive."
   ]
  },
  {
   "cell_type": "markdown",
   "metadata": {},
   "source": [
    "## Visualise results\n"
   ]
  }
 ],
 "metadata": {
  "kernelspec": {
   "display_name": "Python 3",
   "language": "python",
   "name": "python3"
  },
  "language_info": {
   "codemirror_mode": {
    "name": "ipython",
    "version": 3
   },
   "file_extension": ".py",
   "mimetype": "text/x-python",
   "name": "python",
   "nbconvert_exporter": "python",
   "pygments_lexer": "ipython3",
   "version": "3.10.12"
  }
 },
 "nbformat": 4,
 "nbformat_minor": 2
}
