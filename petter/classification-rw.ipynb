{
 "cells": [
  {
   "cell_type": "markdown",
   "metadata": {},
   "source": [
    "# Depresjon Classification"
   ]
  },
  {
   "cell_type": "markdown",
   "metadata": {},
   "source": [
    "\n",
    "1. Import & Validate\n",
    "2. Summary stats\n",
    "3. Data Prep\n",
    "   1. Feature Extraction\n",
    "   2. Train-Test split\n",
    "4. Modelling\n",
    "   1. Selection\n",
    "   2. Training\n",
    "   3. Evaluation\n",
    "   4. "
   ]
  },
  {
   "cell_type": "code",
   "execution_count": 1,
   "metadata": {},
   "outputs": [],
   "source": [
    "# libraries\n",
    "import os\n",
    "import pandas as pd\n",
    "import numpy as np\n",
    "import matplotlib.pyplot as plt\n",
    "import seaborn as sns\n"
   ]
  },
  {
   "cell_type": "markdown",
   "metadata": {},
   "source": [
    "## Import \n",
    "\n",
    "### Functions list\n",
    "\n",
    "1. **`exctract_csv`** Extract single csv file \n",
    "2. **`add_scores`** Add additional data, e.g. scores.csv to single df\n",
    "3. **`extract_folder`** Extract all csvs\n",
    "4. **`validate_missing`** Validate df for missing values"
   ]
  },
  {
   "cell_type": "markdown",
   "metadata": {},
   "source": [
    "#### Extract single csv"
   ]
  },
  {
   "cell_type": "code",
   "execution_count": 31,
   "metadata": {},
   "outputs": [],
   "source": [
    "# Extract single CSV file\n",
    "def extract_csv(filepath, condition):\n",
    "    \"\"\"\n",
    "    Extracts a single CSV file into a dataframe.\n",
    "\n",
    "    Parameters:\n",
    "    filepath (str): The path to the CSV file.\n",
    "    condition (str): The condition associated with the data.\n",
    "\n",
    "    Returns:\n",
    "    pandas.DataFrame: The dataframe containing the CSV data with an additional 'condition' column.\n",
    "    \"\"\"\n",
    "    try:\n",
    "        df = pd.read_csv(filepath, on_bad_lines='error') \n",
    "        df['condition'] = condition\n",
    "        return df\n",
    "    except OSError:\n",
    "        print(f\"Error reading file: {filepath}\")"
   ]
  },
  {
   "cell_type": "markdown",
   "metadata": {},
   "source": [
    "##### Example single file extraction"
   ]
  },
  {
   "cell_type": "code",
   "execution_count": 32,
   "metadata": {},
   "outputs": [
    {
     "name": "stdout",
     "output_type": "stream",
     "text": [
      "             timestamp        date  activity  condition\n",
      "0  2003-05-07 12:00:00  2003-05-07         0          1\n",
      "1  2003-05-07 12:01:00  2003-05-07       143          1\n",
      "2  2003-05-07 12:02:00  2003-05-07         0          1\n",
      "3  2003-05-07 12:03:00  2003-05-07        20          1\n",
      "4  2003-05-07 12:04:00  2003-05-07       166          1\n"
     ]
    }
   ],
   "source": [
    "# example condition_1.csv\n",
    "fp1 = '../data/depresjon/condition/condition_1.csv'\n",
    "condition = 1\n",
    "\n",
    "file1 = extract_csv(fp1, condition)\n",
    "print(file1.head())"
   ]
  },
  {
   "cell_type": "markdown",
   "metadata": {},
   "source": [
    "#### Add scores file to df"
   ]
  },
  {
   "cell_type": "code",
   "execution_count": 33,
   "metadata": {},
   "outputs": [],
   "source": [
    "# Add additional data to single df\n",
    "def add_scores(df, subject, scores_file):\n",
    "    \"\"\"\n",
    "    Adds data from scores.csv to a dataframe.\n",
    "    \n",
    "    Parameters:\n",
    "    - df: pandas DataFrame to which the scores will be added.\n",
    "    - subject: subject number for which the scores are being added.\n",
    "    - scores_file: path to the scores.csv file.\n",
    "    \n",
    "    Returns:\n",
    "    - df: pandas DataFrame with the scores added.\n",
    "    \"\"\"\n",
    "    scores = pd.read_csv(scores_file)\n",
    "    df['number'] = subject\n",
    "    return df.merge(scores, left_on='number', right_on='number')"
   ]
  },
  {
   "cell_type": "markdown",
   "metadata": {},
   "source": [
    "##### Example adding scores.csv to df"
   ]
  },
  {
   "cell_type": "code",
   "execution_count": 34,
   "metadata": {},
   "outputs": [
    {
     "name": "stdout",
     "output_type": "stream",
     "text": [
      "             timestamp        date  activity  condition       number  days  \\\n",
      "0  2003-05-07 12:00:00  2003-05-07         0          1  condition_1    11   \n",
      "1  2003-05-07 12:01:00  2003-05-07       143          1  condition_1    11   \n",
      "2  2003-05-07 12:02:00  2003-05-07         0          1  condition_1    11   \n",
      "3  2003-05-07 12:03:00  2003-05-07        20          1  condition_1    11   \n",
      "4  2003-05-07 12:04:00  2003-05-07       166          1  condition_1    11   \n",
      "\n",
      "   gender    age  afftype  melanch  inpatient   edu  marriage  work  madrs1  \\\n",
      "0       2  35-39      2.0      2.0        2.0  6-10       1.0   2.0    19.0   \n",
      "1       2  35-39      2.0      2.0        2.0  6-10       1.0   2.0    19.0   \n",
      "2       2  35-39      2.0      2.0        2.0  6-10       1.0   2.0    19.0   \n",
      "3       2  35-39      2.0      2.0        2.0  6-10       1.0   2.0    19.0   \n",
      "4       2  35-39      2.0      2.0        2.0  6-10       1.0   2.0    19.0   \n",
      "\n",
      "   madrs2  \n",
      "0    19.0  \n",
      "1    19.0  \n",
      "2    19.0  \n",
      "3    19.0  \n",
      "4    19.0  \n"
     ]
    }
   ],
   "source": [
    "# example condition_1 df\n",
    "scores_file = '../data/depresjon/scores.csv'\n",
    "subject = 'condition_1'\n",
    "fp1_with_scores = add_scores(file1, subject, scores_file)\n",
    "print(fp1_with_scores.head())"
   ]
  },
  {
   "cell_type": "markdown",
   "metadata": {},
   "source": [
    "#### Extract all files in folder structure"
   ]
  },
  {
   "cell_type": "code",
   "execution_count": 35,
   "metadata": {},
   "outputs": [],
   "source": [
    "\n",
    "\n",
    "def extract_folder(folderpath, add_scores=False, downsample=None):\n",
    "    \"\"\"\n",
    "    Extract CSV data from folder and subfolders into a dataframe.\n",
    "\n",
    "    Args:\n",
    "      folderpath (str): Path to the folder containing CSV files.\n",
    "      add_scores (bool, optional): Boolean to add scores.csv to the dataframe. Defaults to False.\n",
    "      downsample (int, optional): Number of rows to downsample CSVs to. Defaults to None.\n",
    "\n",
    "    Returns:\n",
    "      pandas.DataFrame: DataFrame of concatenated CSV data.\n",
    "    \"\"\"\n",
    "\n",
    "    # Dict to store dataframes by condition  \n",
    "    dfs = {'control': [], 'condition': []}\n",
    "\n",
    "    try:\n",
    "        # Handle top-level scores CSV\n",
    "        if add_scores and 'scores.csv' in os.listdir(folderpath):\n",
    "            scores_path = os.path.join(folderpath, 'scores.csv')  \n",
    "            dfs['scores'] = pd.read_csv(scores_path)\n",
    "\n",
    "        # Get subfolders\n",
    "        subfolders = [f for f in os.listdir(folderpath) if os.path.isdir(os.path.join(folderpath, f))]\n",
    "\n",
    "        for subfolder in subfolders:\n",
    "            subfolderpath = os.path.join(folderpath, subfolder)  \n",
    "\n",
    "            # Get list of CSV files\n",
    "            files = os.listdir(subfolderpath)\n",
    "\n",
    "            for file in files:\n",
    "                filepath = os.path.join(subfolderpath, file)\n",
    "\n",
    "                # Extract ID from filename \n",
    "                id = file.split('.')[0]\n",
    "\n",
    "                df = pd.read_csv(filepath)\n",
    "\n",
    "                # Downsample if needed\n",
    "                if downsample:\n",
    "                    df = df.sample(downsample)\n",
    "\n",
    "                # Add ID column - this is the filename without the extension\n",
    "                df['id'] = id\n",
    "\n",
    "                # Add 'condition' column\n",
    "                df['condition'] = subfolder\n",
    "\n",
    "                # Convert 'timestamp' and 'date' to datetime\n",
    "                df['timestamp'] = pd.to_datetime(df['timestamp'])\n",
    "                df['date'] = pd.to_datetime(df['date'])\n",
    "\n",
    "                # Append to dict by condition\n",
    "                if subfolder == 'control':\n",
    "                    dfs['control'].append(df)\n",
    "                else:  \n",
    "                    dfs['condition'].append(df)\n",
    "\n",
    "    except OSError:\n",
    "        print(f\"Error reading folder: {folderpath}\")\n",
    "\n",
    "    # Concatenate dfs for each condition\n",
    "    dfs['control'] = pd.concat(dfs['control'])\n",
    "    dfs['condition'] = pd.concat(dfs['condition'])\n",
    "\n",
    "    # Reset index on the final df\n",
    "    df = pd.concat([dfs['control'], dfs['condition']]).reset_index(drop=True)\n",
    "\n",
    "    # Final concat\n",
    "    return df\n",
    "\n"
   ]
  },
  {
   "cell_type": "markdown",
   "metadata": {},
   "source": [
    "##### Example extraction of all files in folder"
   ]
  },
  {
   "cell_type": "code",
   "execution_count": 57,
   "metadata": {},
   "outputs": [
    {
     "name": "stdout",
     "output_type": "stream",
     "text": [
      "                  timestamp       date  activity           id  condition\n",
      "0       2003-03-18 15:00:00 2003-03-18        60    control_1    control\n",
      "1       2003-03-18 15:01:00 2003-03-18         0    control_1    control\n",
      "2       2003-03-18 15:02:00 2003-03-18       264    control_1    control\n",
      "3       2003-03-18 15:03:00 2003-03-18       662    control_1    control\n",
      "4       2003-03-18 15:04:00 2003-03-18       293    control_1    control\n",
      "...                     ...        ...       ...          ...        ...\n",
      "1571696 2004-06-10 14:58:00 2004-06-10         0  condition_9  condition\n",
      "1571697 2004-06-10 14:59:00 2004-06-10         0  condition_9  condition\n",
      "1571698 2004-06-10 15:00:00 2004-06-10         0  condition_9  condition\n",
      "1571699 2004-06-10 15:01:00 2004-06-10         5  condition_9  condition\n",
      "1571700 2004-06-10 15:02:00 2004-06-10         0  condition_9  condition\n",
      "\n",
      "[1571701 rows x 5 columns]\n"
     ]
    }
   ],
   "source": [
    "# set folder path\n",
    "folderpath = '../data/depresjon/'\n",
    "# extract all files\n",
    "all_files = extract_folder(folderpath)\n",
    "# print rows 21-24\n",
    "#print(all_files.iloc[21:25])\n",
    "print(all_files.head(-5))\n"
   ]
  },
  {
   "cell_type": "markdown",
   "metadata": {},
   "source": [
    "**Basic checks** on dataframe to validate function\n",
    "* Looks as expected  &#128512;"
   ]
  },
  {
   "cell_type": "code",
   "execution_count": 58,
   "metadata": {},
   "outputs": [
    {
     "name": "stdout",
     "output_type": "stream",
     "text": [
      "There are 55 unique respondents.\n",
      "\n",
      "condition\n",
      "condition    23\n",
      "control      32\n",
      "Name: id, dtype: int64 \n",
      "\n",
      "There are 1571706 rows and 5 columns.\n",
      "\n",
      "The columns are:\n",
      " Index(['timestamp', 'date', 'activity', 'id', 'condition'], dtype='object') \n",
      "\n",
      "timestamp    datetime64[ns]\n",
      "date         datetime64[ns]\n",
      "activity              int64\n",
      "id                   object\n",
      "condition            object\n",
      "dtype: object \n",
      "\n",
      "control      1019990\n",
      "condition     551716\n",
      "Name: condition, dtype: int64 \n",
      "\n",
      "control      0.64897\n",
      "condition    0.35103\n",
      "Name: condition, dtype: float64 \n",
      "\n"
     ]
    }
   ],
   "source": [
    "\n",
    "# Check file\n",
    "\n",
    "# check id column\n",
    "print(\"There are\", len(all_files['id'].unique()), \"unique respondents.\\n\")\n",
    "\n",
    "# print unique ids by condition\n",
    "print(all_files.groupby('condition')['id'].nunique(), \"\\n\")\n",
    "\n",
    "#print(all_files['id'].unique())\n",
    "# shape\n",
    "print(\"There are\", all_files.shape[0], \"rows and\", all_files.shape[1], \"columns.\\n\")\n",
    "#print(all_files.shape)\n",
    "# print columns\n",
    "print(\"The columns are:\\n\", all_files.columns, \"\\n\")\n",
    "#print(all_files.columns)\n",
    "\n",
    "# print dtypes\n",
    "print(all_files.dtypes, \"\\n\")\n",
    "\n",
    "# print unique conditions\n",
    "#print(all_files['condition'].unique())\n",
    "\n",
    "# print condition counts\n",
    "print(all_files['condition'].value_counts(), \"\\n\")\n",
    "\n",
    "# print condition proportions\n",
    "print(all_files['condition'].value_counts(normalize=True),\"\\n\")\n",
    "\n"
   ]
  },
  {
   "cell_type": "code",
   "execution_count": 59,
   "metadata": {},
   "outputs": [
    {
     "data": {
      "image/png": "[encoded data removed]",
      "text/plain": [
       "<Figure size 640x480 with 1 Axes>"
      ]
     },
     "metadata": {},
     "output_type": "display_data"
    }
   ],
   "source": [
    "# Plot bar chart of condition proportions\n",
    "all_files['condition'].value_counts(normalize=True).plot(kind='bar')\n",
    "plt.title('Condition Proportions')\n",
    "plt.show()\n"
   ]
  },
  {
   "cell_type": "markdown",
   "metadata": {},
   "source": [
    "**Viewing** sample rows"
   ]
  },
  {
   "cell_type": "code",
   "execution_count": 65,
   "metadata": {},
   "outputs": [
    {
     "name": "stdout",
     "output_type": "stream",
     "text": [
      "            timestamp       date  activity         id condition\n",
      "0 2003-03-18 15:00:00 2003-03-18        60  control_1   control\n",
      "1 2003-03-18 15:01:00 2003-03-18         0  control_1   control\n",
      "2 2003-03-18 15:02:00 2003-03-18       264  control_1   control\n",
      "3 2003-03-18 15:03:00 2003-03-18       662  control_1   control\n",
      "4 2003-03-18 15:04:00 2003-03-18       293  control_1   control \n",
      "\n",
      "\n",
      "                  timestamp       date  activity            id  condition\n",
      "1096536 2005-03-14 11:57:00 2005-03-14       212  condition_12  condition\n",
      "547556  2006-01-24 18:02:00 2006-01-24       151    control_28    control\n",
      "956768  2003-04-19 18:24:00 2003-04-19         0     control_7    control\n",
      "1390019 2002-11-18 23:37:00 2002-11-18         0  condition_22  condition\n",
      "593868  2002-11-09 02:45:00 2002-11-09         0     control_3    control\n",
      "1441751 2003-06-01 02:27:00 2003-06-01       201   condition_3  condition\n",
      "1412775 2002-06-20 18:16:00 2002-06-20       434  condition_23  condition\n",
      "279147  2004-01-10 12:01:00 2004-01-10        40    control_19    control\n",
      "455706  2004-03-03 15:09:00 2004-03-03         0    control_24    control\n",
      "919256  2003-03-24 16:12:00 2003-03-24       485     control_7    control\n"
     ]
    }
   ],
   "source": [
    "# set seed\n",
    "np.random.seed(1)\n",
    "# print first 5 rows of all_files\n",
    "print(all_files.head(), \"\\n\\n\")\n",
    "\n",
    "\n",
    "# Get sample of 10 rows without replacement\n",
    "sample = all_files.sample(n=10, replace=False) \n",
    "\n",
    "# print the sample\n",
    "print(sample)"
   ]
  },
  {
   "cell_type": "markdown",
   "metadata": {},
   "source": [
    "#### Validate for missing values"
   ]
  },
  {
   "cell_type": "code",
   "execution_count": 40,
   "metadata": {},
   "outputs": [
    {
     "name": "stdout",
     "output_type": "stream",
     "text": [
      "No missing values found.\n"
     ]
    }
   ],
   "source": [
    "\n",
    "# Validate missing data\n",
    "def validate_missing(df):\n",
    "    missing = df.isna().sum()\n",
    "    if missing.any():\n",
    "        print(f'Missing values found in columns: {missing[missing > 0].index}')\n",
    "    else:\n",
    "        print('No missing values found.')\n",
    "        \n",
    "validate_missing(all_files)"
   ]
  },
  {
   "cell_type": "markdown",
   "metadata": {},
   "source": [
    "## Summary Statistics"
   ]
  },
  {
   "cell_type": "code",
   "execution_count": 41,
   "metadata": {},
   "outputs": [
    {
     "name": "stdout",
     "output_type": "stream",
     "text": [
      "           activity\n",
      "count  1.571706e+06\n",
      "mean   1.795652e+02\n",
      "std    3.597233e+02\n",
      "min    0.000000e+00\n",
      "25%    0.000000e+00\n",
      "50%    4.000000e+00\n",
      "75%    2.020000e+02\n",
      "max    8.000000e+03\n"
     ]
    }
   ],
   "source": [
    "# print summary statistics\n",
    "print(all_files.describe())"
   ]
  },
  {
   "cell_type": "code",
   "execution_count": 66,
   "metadata": {},
   "outputs": [
    {
     "name": "stdout",
     "output_type": "stream",
     "text": [
      "               id condition\n",
      "count     1571706   1571706\n",
      "unique         55         2\n",
      "top     control_3   control\n",
      "freq        65407   1019990 \n",
      "\n",
      "<class 'pandas.core.frame.DataFrame'>\n",
      "RangeIndex: 1571706 entries, 0 to 1571705\n",
      "Data columns (total 5 columns):\n",
      " #   Column     Non-Null Count    Dtype         \n",
      "---  ------     --------------    -----         \n",
      " 0   timestamp  1571706 non-null  datetime64[ns]\n",
      " 1   date       1571706 non-null  datetime64[ns]\n",
      " 2   activity   1571706 non-null  int64         \n",
      " 3   id         1571706 non-null  object        \n",
      " 4   condition  1571706 non-null  object        \n",
      "dtypes: datetime64[ns](2), int64(1), object(2)\n",
      "memory usage: 60.0+ MB\n",
      "None\n"
     ]
    }
   ],
   "source": [
    "# print categorical summary statistics\n",
    "print(all_files.describe(include='object'), \"\\n\")\n",
    "\n",
    "# print info\n",
    "print(all_files.info())"
   ]
  },
  {
   "cell_type": "markdown",
   "metadata": {},
   "source": [
    "## Data Prep \n",
    "\n",
    "* There are a lot of rows - 1.5M for 55 respondents.\n",
    "* One approach is to feature engineer the actigraphy data by `resampling`\n",
    "* May be an opportunity to create a flexible function approach, with option to specify resample duration\n",
    "\n"
   ]
  },
  {
   "cell_type": "markdown",
   "metadata": {},
   "source": [
    "### -> Feature Extraction"
   ]
  },
  {
   "cell_type": "markdown",
   "metadata": {},
   "source": [
    "\n",
    "#### Simple resample function\n"
   ]
  },
  {
   "cell_type": "code",
   "execution_count": 46,
   "metadata": {},
   "outputs": [],
   "source": [
    "\n",
    "def resample_data_v1(df, col, rule):\n",
    "    \"\"\"\n",
    "    Resamples the given DataFrame by setting the index to the specified column and\n",
    "    calculating the mean for each time interval based on the given rule.\n",
    "\n",
    "    Args:\n",
    "        df (pandas.DataFrame): The DataFrame to be resampled.\n",
    "        col (str): The name of the column to be used as the new index.\n",
    "        rule (str): The resampling rule, e.g., 'H' for hourly, 'D' for daily.\n",
    "\n",
    "    Returns:\n",
    "        pandas.DataFrame: The resampled DataFrame.\n",
    "    \"\"\"\n",
    "    return df.set_index(col).resample(rule).mean()\n"
   ]
  },
  {
   "cell_type": "markdown",
   "metadata": {},
   "source": [
    "##### Example resample (simple, test)"
   ]
  },
  {
   "cell_type": "code",
   "execution_count": 47,
   "metadata": {},
   "outputs": [
    {
     "name": "stdout",
     "output_type": "stream",
     "text": [
      "                       activity\n",
      "timestamp                      \n",
      "2002-05-24 11:00:00  145.300000\n",
      "2002-05-24 12:00:00  128.633333\n",
      "2002-05-24 13:00:00  135.400000\n",
      "2002-05-24 14:00:00   72.016667\n",
      "2002-05-24 15:00:00  249.700000 \n",
      "\n",
      "\n",
      "(32691, 1)\n"
     ]
    },
    {
     "name": "stderr",
     "output_type": "stream",
     "text": [
      "C:\\Users\\zoona\\AppData\\Local\\Temp\\ipykernel_30892\\600900001.py:14: FutureWarning: The default value of numeric_only in DataFrameGroupBy.mean is deprecated. In a future version, numeric_only will default to False. Either specify numeric_only or select only columns which should be valid for the function.\n",
      "  return df.set_index(col).resample(rule).mean()\n"
     ]
    }
   ],
   "source": [
    "col = 'timestamp'\n",
    "rule = '1H'\n",
    "\n",
    "resampled = resample_data_v1(all_files, col, rule)\n",
    "print(resampled.head(), \"\\n\\n\")\n",
    "print(resampled.shape)"
   ]
  },
  {
   "cell_type": "markdown",
   "metadata": {},
   "source": [
    "#### Resampling function - reworked\n",
    "\n",
    "* allows specifying frequency\n",
    "* retains id, condition cols"
   ]
  },
  {
   "cell_type": "code",
   "execution_count": 79,
   "metadata": {},
   "outputs": [],
   "source": [
    "\n",
    "def feature_engineering(df, resample_freq='1H'):\n",
    "    \"\"\"\n",
    "    Perform feature engineering on time series data.\n",
    "\n",
    "    Args:\n",
    "      df (pd.DataFrame): Input DataFrame with timestamp, date, activity, id, and condition columns.\n",
    "      resample_freq (str, optional): Resampling frequency, e.g., '1H' for hourly. Defaults to '1H'.\n",
    "\n",
    "    Returns:\n",
    "      pd.DataFrame: DataFrame with resampled features.\n",
    "    \"\"\"\n",
    "    # copy of the DataFrame to avoid modifying the original data\n",
    "    df_copy = df.copy()\n",
    "\n",
    "    # convert timestamp and date columns to datetime, if not already\n",
    "    df_copy['timestamp'] = pd.to_datetime(df_copy['timestamp'])\n",
    "    df_copy['date'] = pd.to_datetime(df_copy['date'])\n",
    "\n",
    "    # timestamp as the index\n",
    "    df_copy.set_index('timestamp', inplace=True)\n",
    "\n",
    "    # create additional features from timestamp and date\n",
    "    df_copy['hour'] = df_copy.index.hour\n",
    "    df_copy['day_of_week'] = df_copy.index.dayofweek\n",
    "    df_copy['day_of_month'] = df_copy.index.day\n",
    "    df_copy['month'] = df_copy.index.month\n",
    "    df_copy['year'] = df_copy.index.year\n",
    "\n",
    "    # resample only numeric columns to the specified frequency and aggregate using mean\n",
    "    numeric_columns = ['activity', 'hour', 'day_of_week', 'day_of_month', 'month', 'year']\n",
    "    df_resampled = df_copy[numeric_columns].resample(resample_freq).mean()\n",
    "\n",
    "    # retain 'id' and 'condition' columns, and use the first value in each group\n",
    "    df_resampled[['id', 'condition']] = df_copy[['id', 'condition']].iloc[0]\n",
    "\n",
    "    return df_resampled\n"
   ]
  },
  {
   "cell_type": "markdown",
   "metadata": {},
   "source": [
    "##### Example use of function"
   ]
  },
  {
   "cell_type": "code",
   "execution_count": 77,
   "metadata": {},
   "outputs": [],
   "source": [
    "# resample with functionm, 1H\n",
    "resampled_df = feature_engineering(all_files, resample_freq='1H')\n"
   ]
  },
  {
   "cell_type": "code",
   "execution_count": 80,
   "metadata": {},
   "outputs": [
    {
     "name": "stdout",
     "output_type": "stream",
     "text": [
      "                       activity  hour  day_of_week  day_of_month  month  \\\n",
      "timestamp                                                                 \n",
      "2002-05-24 11:00:00  145.300000  11.0          4.0          24.0    5.0   \n",
      "2002-05-24 12:00:00  128.633333  12.0          4.0          24.0    5.0   \n",
      "2002-05-24 13:00:00  135.400000  13.0          4.0          24.0    5.0   \n",
      "2002-05-24 14:00:00   72.016667  14.0          4.0          24.0    5.0   \n",
      "2002-05-24 15:00:00  249.700000  15.0          4.0          24.0    5.0   \n",
      "\n",
      "                       year         id condition  \n",
      "timestamp                                         \n",
      "2002-05-24 11:00:00  2002.0  control_1   control  \n",
      "2002-05-24 12:00:00  2002.0  control_1   control  \n",
      "2002-05-24 13:00:00  2002.0  control_1   control  \n",
      "2002-05-24 14:00:00  2002.0  control_1   control  \n",
      "2002-05-24 15:00:00  2002.0  control_1   control   \n",
      "\n",
      "\n",
      "(32691, 8)\n"
     ]
    }
   ],
   "source": [
    "# print first 5 rows\n",
    "print(resampled_df.head(), \"\\n\\n\")\n",
    "\n",
    "# print shape\n",
    "print(resampled_df.shape)"
   ]
  },
  {
   "cell_type": "markdown",
   "metadata": {},
   "source": [
    "### Train-Test split \n",
    "\n"
   ]
  },
  {
   "cell_type": "markdown",
   "metadata": {},
   "source": [
    "## Modelling"
   ]
  },
  {
   "cell_type": "markdown",
   "metadata": {},
   "source": [
    "### Selection \n",
    "\n",
    "### Training\n",
    "\n",
    "### Evaluaion\n",
    "\n"
   ]
  },
  {
   "cell_type": "markdown",
   "metadata": {},
   "source": [
    "## to continue here\n",
    "\n",
    "\n",
    "\n",
    "option LTSM - 3d shape needed (i.e. samples, time steps, features)\n",
    "\n",
    "1. train-test split\n",
    "2. model selection -> lstm\n",
    "3. model training\n",
    "4. model eval\n",
    "5. what about imbalance?\n",
    "\n",
    "\n",
    "3. next steps for classification model\n",
    "4. vectorize operations like date filtering using pandas queries\n",
    "5. convert to arays\n",
    "6. preprocess by resampling to hourly (or create a function to specify resampling options??)\n",
    "7. standard ml models -> logistic regression, svm, random forest\n",
    "8. alternative approaches: \n",
    "   1. aggregate daily stats to use as features instead of sequence data\n",
    "   2. complex engineered features like trend, autocorrelation\n",
    "   3. sequence models like rnn instead of standard ml models"
   ]
  },
  {
   "cell_type": "code",
   "execution_count": 102,
   "metadata": {},
   "outputs": [],
   "source": [
    "# 5. Preprocess - Resample and aggregate\n",
    "def resample(df, rule):\n",
    "    return df.set_index('timestamp').resample(rule).mean()\n"
   ]
  },
  {
   "cell_type": "code",
   "execution_count": null,
   "metadata": {},
   "outputs": [],
   "source": [
    "# Resample to 1 hour\n",
    "rule = '1H'\n",
    "resampled = resample(all_files, rule)"
   ]
  },
  {
   "cell_type": "code",
   "execution_count": null,
   "metadata": {},
   "outputs": [],
   "source": [
    "\n",
    "# 6. Feature engineering\n",
    "def daily_features(df):\n",
    "    return df.groupby('date').agg({'activity': ['mean', 'std', 'max']})"
   ]
  },
  {
   "cell_type": "code",
   "execution_count": null,
   "metadata": {},
   "outputs": [],
   "source": []
  }
 ],
 "metadata": {
  "kernelspec": {
   "display_name": "Python 3",
   "language": "python",
   "name": "python3"
  },
  "language_info": {
   "codemirror_mode": {
    "name": "ipython",
    "version": 3
   },
   "file_extension": ".py",
   "mimetype": "text/x-python",
   "name": "python",
   "nbconvert_exporter": "python",
   "pygments_lexer": "ipython3",
   "version": "3.11.0"
  }
 },
 "nbformat": 4,
 "nbformat_minor": 2
}
