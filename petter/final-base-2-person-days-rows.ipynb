{
 "cells": [
  {
   "cell_type": "markdown",
   "metadata": {},
   "source": [
    "# `DEPRESJON` - Exploring Gender Specific Machine Learning Models\n",
    "## Model 1: Row (Person Days) prediction\n",
    "\n",
    ">Garcia-Ceja, E., Riegler, M., Jakobsen, P., Tørresen, J., Nordgreen, T., Oedegaard, K.J. and Fasmer, O.B. (2018) Depresjon: a motor activity database of depression episodes in unipolar and bipolar patients. In: Proceedings of the 9th ACM Multimedia Systems Conference [online]MMSys ’18: 9th ACM Multimedia Systems Conference. Amsterdam Netherlands: ACM, pp. 472–477. Available from: https://dl.acm.org/doi/10.1145/3204949.3208125 [Accessed 2 December 2023].\n",
    "\n",
    "**Objectives**\n",
    "\n",
    "* Recreate baseline models for Female/Male/All observations as done by (Garcia-Ceja et al., 2018)\n",
    "\n",
    "**Files in Series**\n",
    "\n",
    "* [wiki-08-base-1-eda](.\\wiki-08-base-1-eda.ipynb)\n",
    "* [wiki-08-base-2-person-days-rows](.\\wiki-08-base-2-person-days-rows.ipynb)\n",
    "* [wiki-08-base-3-person-prediction](.\\wiki-08-base-3-person-prediction.ipynb)\n",
    "* [wiki-08-base-4-person-hours.ipynb](.\\wiki-08-base-4-person-hours.ipynb)\n"
   ]
  },
  {
   "cell_type": "markdown",
   "metadata": {},
   "source": [
    "## Features\n",
    "\n",
    ">\"Each day was characterized by a feature vector which was computed by extracting a set of features **on a per day basis from the activity level**. The extracted features were the **mean activity level**, the corresponding **standard deviation** and the **percentage of events with no activity i.e, activity level = 0**. The features were **normalized between 0 and 1** before the classification.\" (Garcia-Ceja et al., 2018)\n",
    "\n",
    "1. Create baseline features on \"per day basis\":\n",
    "\n",
    "* `mean activity level`\n",
    "* `standard deviation`\n",
    "* `percentage of events with no activity`\n",
    "\n",
    "2. Normalise features between 0 and 1\n",
    "\n"
   ]
  },
  {
   "cell_type": "code",
   "execution_count": 1,
   "metadata": {},
   "outputs": [],
   "source": [
    "# import from csv\n",
    "import pandas as pd\n",
    "input_csv_path = '../data/petter/wiki-08-garcia.csv'\n",
    "df = pd.read_csv(input_csv_path, parse_dates=['timestamp', 'date'])"
   ]
  },
  {
   "cell_type": "code",
   "execution_count": 2,
   "metadata": {},
   "outputs": [],
   "source": [
    "# load functions in python file with magic command\n",
    "%run ../code/wiki-08-base-functions.py"
   ]
  },
  {
   "cell_type": "code",
   "execution_count": 3,
   "metadata": {},
   "outputs": [],
   "source": [
    "import pandas as pd\n",
    "\n",
    "# group data by date and id (person and days)\n",
    "grouped = df.groupby(['date', 'id'])\n",
    "\n",
    "\n",
    "# features for each date-id combination - mean, std, and percentage of zeros\n",
    "features = grouped['activity'].agg(['mean', 'std', lambda x: (x == 0).mean()])\n",
    "features.columns = ['mean_activity', 'std_activity', 'pct_no_activity']\n",
    "\n",
    "# reset index to make it a regular dataframe\n",
    "features = features.reset_index()\n",
    "\n",
    "# join with the original dataframe to get the labels\n",
    "df_with_features = df.merge(features, on=['id','date'], how='left')\n",
    "\n",
    "# normalise the features between 0 and 1\n",
    "df_with_features[['mean_activity', 'std_activity', 'pct_no_activity']] = (\n",
    "    df_with_features[['mean_activity', 'std_activity', 'pct_no_activity']] - \n",
    "    df_with_features[['mean_activity', 'std_activity', 'pct_no_activity']].min()) / (\n",
    "    df_with_features[['mean_activity', 'std_activity', 'pct_no_activity']].max() - \n",
    "    df_with_features[['mean_activity', 'std_activity', 'pct_no_activity']].min())\n",
    "\n",
    "# drop unnecessary columns\n",
    "#df_processed = df_with_features.drop(['timestamp', 'activity'], axis=1)\n",
    "df_processed = df_with_features.drop(['timestamp', 'activity', 'age', 'activity_norm', 'day_of_week', 'hour_of_day'], axis=1)\n",
    "\n",
    "# remove duplicate rows\n",
    "df_processed = df_processed.drop_duplicates()"
   ]
  },
  {
   "cell_type": "code",
   "execution_count": 4,
   "metadata": {},
   "outputs": [
    {
     "name": "stdout",
     "output_type": "stream",
     "text": [
      "        date            id  mean_activity  std_activity  pct_no_activity\n",
      "0 2002-05-25  condition_20      72.238194    149.511740         0.568750\n",
      "1 2002-05-26  condition_20      61.306250    154.005830         0.625000\n",
      "2 2002-05-27  condition_20      72.115278    152.556990         0.543056\n",
      "3 2002-05-28  condition_20      91.186111    180.270903         0.535417\n",
      "4 2002-05-29  condition_20      32.315972    107.570967         0.775000\n"
     ]
    }
   ],
   "source": [
    "print(features.head())"
   ]
  },
  {
   "cell_type": "markdown",
   "metadata": {},
   "source": [
    "## Split datasets\n",
    "\n",
    "1. Split by female/male/all\n",
    "2. Split each into train/test"
   ]
  },
  {
   "cell_type": "code",
   "execution_count": 5,
   "metadata": {},
   "outputs": [],
   "source": [
    "# create all, male, female dfs\n",
    "both = df_processed.copy()\n",
    "male = df_processed[df_processed['gender'] == 2]\n",
    "female = df_processed[df_processed['gender'] == 1]\n"
   ]
  },
  {
   "cell_type": "code",
   "execution_count": 6,
   "metadata": {},
   "outputs": [],
   "source": [
    "# list of variable names to delete\n",
    "var_list = ['grouped', 'features', 'df_with_features', 'df', 'df_processed']\n",
    "# delete variables if they exist\n",
    "for var in var_list:\n",
    "    if var in locals():\n",
    "        del locals()[var]"
   ]
  },
  {
   "cell_type": "markdown",
   "metadata": {},
   "source": [
    "Splitting into Train/Test with `split data` does not guarantee that a person's rows are not split between the two datasets."
   ]
  },
  {
   "cell_type": "code",
   "execution_count": 10,
   "metadata": {},
   "outputs": [],
   "source": [
    "# split each dataset into train and test sets\n",
    "X_train_both, y_train_both, X_test_both, y_test_both = split_data(both, random_state=5, deleteXy=True)\n",
    "X_train_male, y_train_male, X_test_male, y_test_male = split_data(male, random_state=5, deleteXy=True)\n",
    "X_train_female, y_train_female, X_test_female, y_test_female = split_data(female, random_state=5, deleteXy=True)"
   ]
  },
  {
   "cell_type": "code",
   "execution_count": 12,
   "metadata": {},
   "outputs": [
    {
     "name": "stdout",
     "output_type": "stream",
     "text": [
      "Both dataset:\n",
      "Train set: 554 samples\n",
      "Test set: 139 samples\n",
      "\n",
      "Male dataset:\n",
      "Train set: 248 samples\n",
      "Test set: 62 samples\n",
      "\n",
      "Female dataset:\n",
      "Train set: 306 samples\n",
      "Test set: 77 samples\n"
     ]
    }
   ],
   "source": [
    "# print info\n",
    "print(\"Both dataset:\")\n",
    "print(f\"Train set: {X_train_both.shape[0]} samples\")\n",
    "print(f\"Test set: {X_test_both.shape[0]} samples\")\n",
    "print(\"\\nMale dataset:\")\n",
    "print(f\"Train set: {X_train_male.shape[0]} samples\")\n",
    "print(f\"Test set: {X_test_male.shape[0]} samples\")\n",
    "print(\"\\nFemale dataset:\")\n",
    "print(f\"Train set: {X_train_female.shape[0]} samples\")\n",
    "print(f\"Test set: {X_test_female.shape[0]} samples\")"
   ]
  },
  {
   "cell_type": "markdown",
   "metadata": {},
   "source": [
    "## Model\n",
    "\n",
    "* Single run of several models for each `both`, `female` and `male` datasets\n",
    "* No model tuning\n",
    "* Basic comparison\n",
    "\n",
    "**Observation** is that when splitting into `train` and `test` sets, there is no guarantee that a person's rows (in this case, date+person) are not split between the two sets.  That is, people are not maintained across the datasets. \n",
    "\n",
    "**Predicting depression state of a person's day (row level) does not make sense, in my view.  We are interested in predicting a person's depression state - not whether a person's day is depresseed.** \n"
   ]
  },
  {
   "cell_type": "code",
   "execution_count": 13,
   "metadata": {},
   "outputs": [],
   "source": [
    "# list of models\n",
    "# zeroR is loaded from functions file\n",
    "# libraries loaded from function file\n",
    "models = [\n",
    "    ('ZeroR', ZeroRClassifier()),\n",
    "    ('Random Forest', RandomForestClassifier()),\n",
    "    ('Linear SVC', LinearSVC(dual=False, max_iter=10000)),\n",
    "    ('Decision Tree', DecisionTreeClassifier()),\n",
    "    ('Logistic Regression', LogisticRegression()),\n",
    "    ('KNN', KNeighborsClassifier()),\n",
    "    ('Naive Bayes', GaussianNB()),\n",
    "    ('Neural Network', MLPClassifier(max_iter=1000)),\n",
    "    ('XGBoost', XGBClassifier()),\n",
    "    ('LightGBM', LGBMClassifier(verbose=-1)),\n",
    "    ('AdaBoost', AdaBoostClassifier(algorithm='SAMME')),\n",
    "    ('QDA', QuadraticDiscriminantAnalysis()),\n",
    "    ('Gradient Boosting', GradientBoostingClassifier()), \n",
    "    ('SVM rbf', SVC(kernel='rbf')),\n",
    "    ('SVM linear', SVC(kernel='linear')),\n",
    "    ('Gaussian Process', GaussianProcessClassifier())\n",
    "]"
   ]
  },
  {
   "cell_type": "code",
   "execution_count": 14,
   "metadata": {},
   "outputs": [
    {
     "name": "stderr",
     "output_type": "stream",
     "text": [
      "c:\\Users\\zoona\\Anaconda3\\envs\\igp5_env\\lib\\site-packages\\sklearn\\metrics\\_classification.py:1509: UndefinedMetricWarning: Precision is ill-defined and being set to 0.0 in labels with no predicted samples. Use `zero_division` parameter to control this behavior.\n",
      "  _warn_prf(average, modifier, f\"{metric.capitalize()} is\", len(result))\n",
      "c:\\Users\\zoona\\Anaconda3\\envs\\igp5_env\\lib\\site-packages\\sklearn\\metrics\\_classification.py:1509: UndefinedMetricWarning: Precision is ill-defined and being set to 0.0 due to no predicted samples. Use `zero_division` parameter to control this behavior.\n",
      "  _warn_prf(average, modifier, f\"{metric.capitalize()} is\", len(result))\n",
      "c:\\Users\\zoona\\Anaconda3\\envs\\igp5_env\\lib\\site-packages\\sklearn\\metrics\\_classification.py:1509: UndefinedMetricWarning: Precision is ill-defined and being set to 0.0 in labels with no predicted samples. Use `zero_division` parameter to control this behavior.\n",
      "  _warn_prf(average, modifier, f\"{metric.capitalize()} is\", len(result))\n",
      "c:\\Users\\zoona\\Anaconda3\\envs\\igp5_env\\lib\\site-packages\\sklearn\\metrics\\_classification.py:1509: UndefinedMetricWarning: Precision is ill-defined and being set to 0.0 in labels with no predicted samples. Use `zero_division` parameter to control this behavior.\n",
      "  _warn_prf(average, modifier, f\"{metric.capitalize()} is\", len(result))\n",
      "c:\\Users\\zoona\\Anaconda3\\envs\\igp5_env\\lib\\site-packages\\sklearn\\metrics\\_classification.py:1509: UndefinedMetricWarning: Precision is ill-defined and being set to 0.0 in labels with no predicted samples. Use `zero_division` parameter to control this behavior.\n",
      "  _warn_prf(average, modifier, f\"{metric.capitalize()} is\", len(result))\n",
      "c:\\Users\\zoona\\Anaconda3\\envs\\igp5_env\\lib\\site-packages\\sklearn\\metrics\\_classification.py:1509: UndefinedMetricWarning: Precision is ill-defined and being set to 0.0 in labels with no predicted samples. Use `zero_division` parameter to control this behavior.\n",
      "  _warn_prf(average, modifier, f\"{metric.capitalize()} is\", len(result))\n",
      "c:\\Users\\zoona\\Anaconda3\\envs\\igp5_env\\lib\\site-packages\\sklearn\\metrics\\_classification.py:1509: UndefinedMetricWarning: Precision is ill-defined and being set to 0.0 in labels with no predicted samples. Use `zero_division` parameter to control this behavior.\n",
      "  _warn_prf(average, modifier, f\"{metric.capitalize()} is\", len(result))\n",
      "c:\\Users\\zoona\\Anaconda3\\envs\\igp5_env\\lib\\site-packages\\sklearn\\metrics\\_classification.py:1509: UndefinedMetricWarning: Precision is ill-defined and being set to 0.0 in labels with no predicted samples. Use `zero_division` parameter to control this behavior.\n",
      "  _warn_prf(average, modifier, f\"{metric.capitalize()} is\", len(result))\n",
      "c:\\Users\\zoona\\Anaconda3\\envs\\igp5_env\\lib\\site-packages\\sklearn\\metrics\\_classification.py:1509: UndefinedMetricWarning: Precision is ill-defined and being set to 0.0 in labels with no predicted samples. Use `zero_division` parameter to control this behavior.\n",
      "  _warn_prf(average, modifier, f\"{metric.capitalize()} is\", len(result))\n",
      "c:\\Users\\zoona\\Anaconda3\\envs\\igp5_env\\lib\\site-packages\\sklearn\\metrics\\_classification.py:1509: UndefinedMetricWarning: Precision is ill-defined and being set to 0.0 in labels with no predicted samples. Use `zero_division` parameter to control this behavior.\n",
      "  _warn_prf(average, modifier, f\"{metric.capitalize()} is\", len(result))\n",
      "c:\\Users\\zoona\\Anaconda3\\envs\\igp5_env\\lib\\site-packages\\sklearn\\metrics\\_classification.py:1509: UndefinedMetricWarning: Precision is ill-defined and being set to 0.0 due to no predicted samples. Use `zero_division` parameter to control this behavior.\n",
      "  _warn_prf(average, modifier, f\"{metric.capitalize()} is\", len(result))\n",
      "c:\\Users\\zoona\\Anaconda3\\envs\\igp5_env\\lib\\site-packages\\sklearn\\metrics\\_classification.py:1509: UndefinedMetricWarning: Precision is ill-defined and being set to 0.0 in labels with no predicted samples. Use `zero_division` parameter to control this behavior.\n",
      "  _warn_prf(average, modifier, f\"{metric.capitalize()} is\", len(result))\n",
      "c:\\Users\\zoona\\Anaconda3\\envs\\igp5_env\\lib\\site-packages\\sklearn\\metrics\\_classification.py:1509: UndefinedMetricWarning: Precision is ill-defined and being set to 0.0 in labels with no predicted samples. Use `zero_division` parameter to control this behavior.\n",
      "  _warn_prf(average, modifier, f\"{metric.capitalize()} is\", len(result))\n",
      "c:\\Users\\zoona\\Anaconda3\\envs\\igp5_env\\lib\\site-packages\\sklearn\\metrics\\_classification.py:1509: UndefinedMetricWarning: Precision is ill-defined and being set to 0.0 in labels with no predicted samples. Use `zero_division` parameter to control this behavior.\n",
      "  _warn_prf(average, modifier, f\"{metric.capitalize()} is\", len(result))\n"
     ]
    }
   ],
   "source": [
    "# empty dictionary to store results\n",
    "all_results = {}\n",
    "\n",
    "# single_run for each dataset\n",
    "for dataset_name in ['both', 'male', 'female']:\n",
    "    X_train = locals()[f\"X_train_{dataset_name}\"]\n",
    "    X_test = locals()[f\"X_test_{dataset_name}\"]\n",
    "    y_train = locals()[f\"y_train_{dataset_name}\"]\n",
    "    y_test = locals()[f\"y_test_{dataset_name}\"]\n",
    "\n",
    "    # single_run \n",
    "    results = single_run(X_train, X_test, y_train, y_test, models)\n",
    "\n",
    "    # store the results in the all_results dictionary\n",
    "    all_results[dataset_name] = results\n"
   ]
  },
  {
   "cell_type": "code",
   "execution_count": 16,
   "metadata": {},
   "outputs": [
    {
     "name": "stdout",
     "output_type": "stream",
     "text": [
      "both dataset elapsed_time for SVM rbf: 0.005937814712524414\n",
      "both dataset accuracy for SVM rbf: 0.7266187050359713\n",
      "both dataset precision for SVM rbf: 0.6444444444444445\n",
      "both dataset recall for SVM rbf: 0.5686274509803921\n",
      "both dataset f1 for SVM rbf: 0.6041666666666666\n",
      "both dataset specificity for SVM rbf: 0.8181818181818182\n",
      "both dataset mcc for SVM rbf: 0.3984309922914437\n",
      "both dataset roc_auc for SVM rbf: 0.693404634581105\n",
      "\n",
      "\n",
      "male dataset elapsed_time for SVM rbf: 0.0009989738464355469\n",
      "male dataset accuracy for SVM rbf: 0.7741935483870968\n",
      "male dataset precision for SVM rbf: 0.84375\n",
      "male dataset recall for SVM rbf: 0.75\n",
      "male dataset f1 for SVM rbf: 0.7941176470588235\n",
      "male dataset specificity for SVM rbf: 0.8076923076923077\n",
      "male dataset mcc for SVM rbf: 0.5506770308517437\n",
      "male dataset roc_auc for SVM rbf: 0.7788461538461539\n",
      "\n",
      "\n",
      "female dataset elapsed_time for SVM rbf: 0.0009987354278564453\n",
      "female dataset accuracy for SVM rbf: 0.7922077922077922\n",
      "female dataset precision for SVM rbf: 1.0\n",
      "female dataset recall for SVM rbf: 0.4074074074074074\n",
      "female dataset f1 for SVM rbf: 0.5789473684210527\n",
      "female dataset specificity for SVM rbf: 1.0\n",
      "female dataset mcc for SVM rbf: 0.5555555555555556\n",
      "female dataset roc_auc for SVM rbf: 0.7037037037037037\n"
     ]
    }
   ],
   "source": [
    "# print metrics (dataset, model, metric - can use 'all' for everything) - needs 'all_results' dictionary\n",
    "print_model_metric(all_results, dataset = 'both', model = 'SVM rbf')\n",
    "print(\"\\n\")\n",
    "print_model_metric(all_results, dataset = 'male', model = 'SVM rbf', metric='all')\n",
    "print(\"\\n\")\n",
    "print_model_metric(all_results, dataset = 'female', model = 'SVM rbf')"
   ]
  },
  {
   "cell_type": "code",
   "execution_count": 17,
   "metadata": {},
   "outputs": [
    {
     "name": "stdout",
     "output_type": "stream",
     "text": [
      "\n",
      "Top 3 models for both dataset based on accuracy:\n",
      "1. Naive Bayes: 0.7266187050359713\n",
      "2. Neural Network: 0.7266187050359713\n",
      "3. SVM rbf: 0.7266187050359713\n",
      "\n",
      "Top 3 models for both dataset based on precision:\n",
      "1. Neural Network: 0.6511627906976745\n",
      "2. SVM rbf: 0.6444444444444445\n",
      "3. Gaussian Process: 0.6428571428571429\n",
      "\n",
      "Top 3 models for both dataset based on recall:\n",
      "1. QDA: 0.7058823529411765\n",
      "2. Gradient Boosting: 0.6274509803921569\n",
      "3. Naive Bayes: 0.6078431372549019\n",
      "\n",
      "Top 3 models for both dataset based on specificity:\n",
      "1. ZeroR: 1.0\n",
      "2. Neural Network: 0.8295454545454546\n",
      "3. SVM linear: 0.8295454545454546\n",
      "\n",
      "Top 3 models for both dataset based on f1:\n",
      "1. QDA: 0.6486486486486487\n",
      "2. Naive Bayes: 0.62\n",
      "3. SVM rbf: 0.6041666666666666\n",
      "\n",
      "Top 3 models for both dataset based on mcc:\n",
      "1. QDA: 0.4214835852612645\n",
      "2. Naive Bayes: 0.4068486282170665\n",
      "3. SVM rbf: 0.3984309922914437\n",
      "\n",
      "Fastest model (elapsed time) for both dataset:\n",
      "Naive Bayes: 0.0\n",
      "\n",
      "\n",
      "\n",
      "Top 3 models for male dataset based on accuracy:\n",
      "1. QDA: 0.7741935483870968\n",
      "2. SVM rbf: 0.7741935483870968\n",
      "3. Neural Network: 0.7580645161290323\n",
      "\n",
      "Top 3 models for male dataset based on precision:\n",
      "1. AdaBoost: 0.92\n",
      "2. SVM linear: 0.8888888888888888\n",
      "3. Gradient Boosting: 0.8518518518518519\n",
      "\n",
      "Top 3 models for male dataset based on recall:\n",
      "1. ZeroR: 1.0\n",
      "2. QDA: 0.8055555555555556\n",
      "3. SVM rbf: 0.75\n",
      "\n",
      "Top 3 models for male dataset based on specificity:\n",
      "1. AdaBoost: 0.9230769230769231\n",
      "2. SVM linear: 0.8846153846153846\n",
      "3. Gradient Boosting: 0.8461538461538461\n",
      "\n",
      "Top 3 models for male dataset based on f1:\n",
      "1. QDA: 0.8055555555555556\n",
      "2. SVM rbf: 0.7941176470588235\n",
      "3. Neural Network: 0.7761194029850746\n",
      "\n",
      "Top 3 models for male dataset based on mcc:\n",
      "1. AdaBoost: 0.5652973549921312\n",
      "2. SVM rbf: 0.5506770308517437\n",
      "3. SVM linear: 0.5486506183515162\n",
      "\n",
      "Fastest model (elapsed time) for male dataset:\n",
      "Naive Bayes: 0.0\n",
      "\n",
      "\n",
      "\n",
      "Top 3 models for female dataset based on accuracy:\n",
      "1. KNN: 0.8051948051948052\n",
      "2. SVM rbf: 0.7922077922077922\n",
      "3. Random Forest: 0.7792207792207793\n",
      "\n",
      "Top 3 models for female dataset based on precision:\n",
      "1. Logistic Regression: 1.0\n",
      "2. Neural Network: 1.0\n",
      "3. AdaBoost: 1.0\n",
      "\n",
      "Top 3 models for female dataset based on recall:\n",
      "1. Decision Tree: 0.5925925925925926\n",
      "2. Random Forest: 0.5555555555555556\n",
      "3. KNN: 0.5555555555555556\n",
      "\n",
      "Top 3 models for female dataset based on specificity:\n",
      "1. ZeroR: 1.0\n",
      "2. Logistic Regression: 1.0\n",
      "3. Neural Network: 1.0\n",
      "\n",
      "Top 3 models for female dataset based on f1:\n",
      "1. KNN: 0.6666666666666666\n",
      "2. Random Forest: 0.6382978723404256\n",
      "3. LightGBM: 0.6382978723404256\n",
      "\n",
      "Top 3 models for female dataset based on mcc:\n",
      "1. KNN: 0.5587235474821028\n",
      "2. SVM rbf: 0.5555555555555556\n",
      "3. Logistic Regression: 0.5257335815637598\n",
      "\n",
      "Fastest model (elapsed time) for female dataset:\n",
      "Linear SVC: 0.0\n",
      "\n",
      "\n"
     ]
    }
   ],
   "source": [
    "# print best results for each dataset\n",
    "for dataset_name, dataset_results in all_results.items():\n",
    "    for metric in ['accuracy', 'precision', 'recall', 'specificity', 'f1', 'mcc']:\n",
    "        print_top_models(dataset_name, dataset_results, metric)\n",
    "    print_second_fastest_model(dataset_name, dataset_results)\n",
    "    print(\"\\n\")"
   ]
  },
  {
   "cell_type": "markdown",
   "metadata": {},
   "source": [
    "### Interpretation of Single Run\n",
    "\n",
    "* The models perform well 'out-of-the-box' and results are quite similar between models and between datasets. \n",
    "* Results can vary significantly with different seeds, indicating that there is not much between the models.  \n",
    "* The results above are from a `single run` with a fixed seed - changing seeds and performing another `single run` will result in different outcomes.\n",
    "\n",
    "\n",
    "1. **Performance** overall\n",
    "\n",
    "* Top performing models vary across the three datasets, suggesting the *potential* influence of gender-specific charactersitics on the model performance\n",
    "* `Naive Bayes`, `Neural Network`, and `SVM rbf` perform well in terms of accuracy across all datasets.\n",
    "* `Neural Network` consistently ranks high in precision across all datasets, indicating its ability to minimise false positives.\n",
    "\n",
    "\n",
    "* This could mean that it is worthwhile pursuing separate models by gender and including additional gender-specific features.\n",
    "  \n",
    "\n",
    "1. **Trade-offs**\n",
    "* There are trade-offs between metrics - this shows the importance of considering multiple metrics and prioritising them against specific requirements and use-cases, especially taking into account the consequences of false positives and false negatives when applying the model - e.g. in a clinical setting. \n",
    "* **Precision v Recall**\n",
    "   * Precision measurees the proportion of true positive instances among all postive predictions; recall measures proportion of actual positive instances which were correctly identified.  \n",
    "   * Classification models can prioritise precision or recall.\n",
    "   * **High precision - Low Recall**: when decision threshold for positive classification is very high - that is, conservative at predicting positive instances.\n",
    "     * For example, high precision is when most predicted depression is true depression, but low recall is when many true depressions are missed.\n",
    "   * **Low precision - High Recall**: when decision threshold for positive classification is liberal. \n",
    "     * Many cases are predicted to be 'depressed' (false positives) when they are not.\n",
    "   * **F1** - harmonic mean to balance this situation.\n",
    "   * `male` dataset has high precision with AdaBoost (0.92) but lower recall (0.63)\n",
    "   * `female` dataset best model has a lower F1 (0.6) than `male` (0.80) or `both` (0.64).  This could be due to potential bias or because of underlying differences in the data patterns or distributions.\n",
    " * **Accuracy v MCC**\n",
    "   * Matthews Correlation Coefficient is a powerful metric useed to evaluate binary classification models - especially useful for imbalanced datasets or where false postive / false negative costs are different.  It takes into account all four confusion matrix elements - TP, TN, FP, FN.\n",
    "   * The MCC is a balanced measure, robust to class imbalance, easy to interpret (-1 to 1) and allows for fair comparison between model performance.\n",
    "   * For each dataset, the MCC (~0.4-0.5) score is a lot lower than the accuracy (~0.7-0.8).  This could be due to class imbalance or misclassification patterns (bearing in mind very basic features).\n",
    "   * But `both` has an MCC of 0.42 compared to 0.56 for `female` and `male` which suggests that the gender-specific models may be performing better - or is there a need for more data (or a different dataset)?\n",
    "\n",
    "  Of particular note are the many `1.0` results with the `female` dataset - see `precision` and `specificity`.\n",
    "  * Precision is the proportion of true positive predictions among all positive predictions, so all instances predicted to be positive were true positives - that is, no false positive predictions were made. \n",
    "  * Specificity is the proportion of true negative instances that were correctly identified out of all negative instances, so all actual negative (not depressed) instances were correctly identified.  Essentially, the omdel did not misclassify any negative instances as positive in its predictions.\n",
    "  * This could be due to **overfitting** or other **anomalies** or **evaluation** issues.  Needs to be evaluated robustly for reliability and generalisability.  Recall this is a single run on a small dataset."
   ]
  },
  {
   "cell_type": "markdown",
   "metadata": {},
   "source": [
    "### Statistical test for signficance\n",
    "\n",
    "Performing `Wilcoxon rank-sum` (aka Mann-Witney U) to see if there is a statistically significant difference between datast metrics.\n",
    "* Wilcoxon rank sum is non-parametric (does not assume normal distribution)\n",
    "* There is no significant difference.\n",
    "* This could be:\n",
    "  * Small sample size - one value for each metric of each dataset\n",
    "  * Magnitude of difference is not large enough\n",
    "  * Outliers, distributional differences not accounted for (recall, minimal data processing)\n",
    "  * Significance does not mean that gender-specific models should be abandoned "
   ]
  },
  {
   "cell_type": "code",
   "execution_count": 18,
   "metadata": {},
   "outputs": [
    {
     "name": "stdout",
     "output_type": "stream",
     "text": [
      "No statistically significant differences were found.\n"
     ]
    }
   ],
   "source": [
    "import scipy.stats as stats\n",
    "\n",
    "metrics = ['f1', 'accuracy', 'precision', 'recall', 'specificity', 'mcc']\n",
    "significant_results_found = False\n",
    "\n",
    "for model_name, model_results in all_results['both'].items():\n",
    "    for metric in metrics:\n",
    "        male_result = all_results['male'][model_name][metric]\n",
    "        female_result = all_results['female'][model_name][metric]\n",
    "        all_result = model_results[metric]\n",
    "\n",
    "        # Wilcoxon rank-sum test\n",
    "        _, p_val_male = stats.ranksums(male_result, all_result)\n",
    "        _, p_val_female = stats.ranksums(female_result, all_result)\n",
    "\n",
    "        if p_val_male < 0.05 or p_val_female < 0.05:\n",
    "            print(f\"Model: {model_name}\")\n",
    "            print(f\"Metric: {metric}\")\n",
    "            if p_val_male < 0.05:\n",
    "                print(\"The performance on the 'male' dataset is significantly different from the 'all' dataset.\")\n",
    "                print(f\"p-value for 'male' vs. 'all': {p_val_male}\")\n",
    "            if p_val_female < 0.05:\n",
    "                print(\"The performance on the 'female' dataset is significantly different from the 'all' dataset.\")\n",
    "                print(f\"p-value for 'female' vs. 'all': {p_val_female}\")\n",
    "            print(\"\\n\")\n",
    "            significant_results_found = True\n",
    "\n",
    "if not significant_results_found:\n",
    "    print(\"No statistically significant differences were found.\")"
   ]
  },
  {
   "cell_type": "markdown",
   "metadata": {},
   "source": [
    "Re-running with `cross-validation` using the entire dataset."
   ]
  },
  {
   "cell_type": "code",
   "execution_count": 19,
   "metadata": {},
   "outputs": [],
   "source": [
    "# prepare all, male, female into dictionary of X and y\n",
    "datasets = {\n",
    "\n",
    "    'male': {\n",
    "        'X': both[both['gender'] == 2][['mean_activity', 'std_activity', 'pct_no_activity']].values,\n",
    "        'y': both[both['gender'] == 2]['label'].values\n",
    "    },\n",
    "    'female': {\n",
    "        'X': both[both['gender'] == 1][['mean_activity', 'std_activity', 'pct_no_activity']].values,\n",
    "        'y': both[both['gender'] == 1]['label'].values\n",
    "    }\n",
    "}\n",
    "\n",
    "# update models to dictionary\n",
    "models = {\n",
    "    'ZeroR': ZeroRClassifier(),\n",
    "    'Random Forest': RandomForestClassifier(),\n",
    "    'Linear SVC': LinearSVC(dual=False, max_iter=10000),\n",
    "    'Decision Tree': DecisionTreeClassifier(),\n",
    "    'Logistic Regression': LogisticRegression(),\n",
    "    'KNN': KNeighborsClassifier(),\n",
    "    'Naive Bayes': GaussianNB(),\n",
    "    'Neural Network': MLPClassifier(max_iter=1000),\n",
    "    'XGBoost': XGBClassifier(),\n",
    "    'LightGBM': LGBMClassifier(force_col_wise=True, verbose=-1),\n",
    "    'AdaBoost': AdaBoostClassifier(algorithm='SAMME'),\n",
    "    'QDA': QuadraticDiscriminantAnalysis(),\n",
    "    'Gradient Boosting': GradientBoostingClassifier(), \n",
    "    'SVM rbf': SVC(kernel='rbf'),\n",
    "    'SVM linear': SVC(kernel='linear'),\n",
    "    'Gaussian Process': GaussianProcessClassifier()\n",
    "}"
   ]
  },
  {
   "cell_type": "code",
   "execution_count": 20,
   "metadata": {},
   "outputs": [
    {
     "name": "stdout",
     "output_type": "stream",
     "text": [
      "No statistically significant differences were found for model ZeroR on dataset male.\n",
      "No statistically significant differences were found for model ZeroR on dataset female.\n"
     ]
    },
    {
     "name": "stderr",
     "output_type": "stream",
     "text": [
      "c:\\Users\\zoona\\Anaconda3\\envs\\igp5_env\\lib\\site-packages\\sklearn\\metrics\\_classification.py:1509: UndefinedMetricWarning: Precision is ill-defined and being set to 0.0 due to no predicted samples. Use `zero_division` parameter to control this behavior.\n",
      "  _warn_prf(average, modifier, f\"{metric.capitalize()} is\", len(result))\n",
      "c:\\Users\\zoona\\Anaconda3\\envs\\igp5_env\\lib\\site-packages\\sklearn\\metrics\\_classification.py:1509: UndefinedMetricWarning: Precision is ill-defined and being set to 0.0 due to no predicted samples. Use `zero_division` parameter to control this behavior.\n",
      "  _warn_prf(average, modifier, f\"{metric.capitalize()} is\", len(result))\n",
      "c:\\Users\\zoona\\Anaconda3\\envs\\igp5_env\\lib\\site-packages\\sklearn\\metrics\\_classification.py:1509: UndefinedMetricWarning: Precision is ill-defined and being set to 0.0 due to no predicted samples. Use `zero_division` parameter to control this behavior.\n",
      "  _warn_prf(average, modifier, f\"{metric.capitalize()} is\", len(result))\n",
      "c:\\Users\\zoona\\Anaconda3\\envs\\igp5_env\\lib\\site-packages\\sklearn\\metrics\\_classification.py:1509: UndefinedMetricWarning: Precision is ill-defined and being set to 0.0 due to no predicted samples. Use `zero_division` parameter to control this behavior.\n",
      "  _warn_prf(average, modifier, f\"{metric.capitalize()} is\", len(result))\n",
      "c:\\Users\\zoona\\Anaconda3\\envs\\igp5_env\\lib\\site-packages\\sklearn\\metrics\\_classification.py:1509: UndefinedMetricWarning: Precision is ill-defined and being set to 0.0 due to no predicted samples. Use `zero_division` parameter to control this behavior.\n",
      "  _warn_prf(average, modifier, f\"{metric.capitalize()} is\", len(result))\n"
     ]
    },
    {
     "name": "stdout",
     "output_type": "stream",
     "text": [
      "No statistically significant differences were found for model Random Forest on dataset male.\n",
      "No statistically significant differences were found for model Random Forest on dataset female.\n",
      "No statistically significant differences were found for model Linear SVC on dataset male.\n",
      "No statistically significant differences were found for model Linear SVC on dataset female.\n",
      "No statistically significant differences were found for model Decision Tree on dataset male.\n",
      "No statistically significant differences were found for model Decision Tree on dataset female.\n",
      "No statistically significant differences were found for model Logistic Regression on dataset male.\n",
      "No statistically significant differences were found for model Logistic Regression on dataset female.\n",
      "No statistically significant differences were found for model KNN on dataset male.\n",
      "No statistically significant differences were found for model KNN on dataset female.\n",
      "No statistically significant differences were found for model Naive Bayes on dataset male.\n",
      "No statistically significant differences were found for model Naive Bayes on dataset female.\n",
      "No statistically significant differences were found for model Neural Network on dataset male.\n",
      "No statistically significant differences were found for model Neural Network on dataset female.\n",
      "No statistically significant differences were found for model XGBoost on dataset male.\n",
      "No statistically significant differences were found for model XGBoost on dataset female.\n",
      "No statistically significant differences were found for model LightGBM on dataset male.\n",
      "No statistically significant differences were found for model LightGBM on dataset female.\n",
      "No statistically significant differences were found for model AdaBoost on dataset male.\n",
      "No statistically significant differences were found for model AdaBoost on dataset female.\n",
      "No statistically significant differences were found for model QDA on dataset male.\n",
      "No statistically significant differences were found for model QDA on dataset female.\n",
      "No statistically significant differences were found for model Gradient Boosting on dataset male.\n",
      "No statistically significant differences were found for model Gradient Boosting on dataset female.\n",
      "No statistically significant differences were found for model SVM rbf on dataset male.\n",
      "No statistically significant differences were found for model SVM rbf on dataset female.\n",
      "No statistically significant differences were found for model SVM linear on dataset male.\n",
      "No statistically significant differences were found for model SVM linear on dataset female.\n",
      "No statistically significant differences were found for model Gaussian Process on dataset male.\n",
      "No statistically significant differences were found for model Gaussian Process on dataset female.\n"
     ]
    }
   ],
   "source": [
    "import scipy.stats as stats\n",
    "from sklearn.model_selection import StratifiedKFold\n",
    "\n",
    "metrics = ['f1', 'accuracy', 'precision', 'recall', 'specificity', 'mcc']\n",
    "num_folds = 5  #  cross-validation folds\n",
    "\n",
    "for model_name, model in models.items():\n",
    "    for dataset_name, dataset in datasets.items():\n",
    "        X, y = dataset['X'], dataset['y']\n",
    "        cv = StratifiedKFold(n_splits=num_folds, shuffle=True, random_state=42)\n",
    "        metric_values = []\n",
    "        significant_difference_found = False  #  flag initialisation\n",
    "\n",
    "        for train_idx, test_idx in cv.split(X, y):\n",
    "            X_train, X_test = X[train_idx], X[test_idx]\n",
    "            y_train, y_test = y[train_idx], y[test_idx]\n",
    "\n",
    "            model.fit(X_train, y_train)\n",
    "            y_pred = model.predict(X_test)\n",
    "\n",
    "            # metric values for current fold\n",
    "            metric_values.append({\n",
    "                'accuracy': accuracy_score(y_test, y_pred),\n",
    "                'precision': precision_score(y_test, y_pred),\n",
    "                'recall': recall_score(y_test, y_pred),\n",
    "                'f1': f1_score(y_test, y_pred),\n",
    "                'specificity': recall_score(y_test, y_pred, pos_label=1),\n",
    "                'mcc': matthews_corrcoef(y_test, y_pred)\n",
    "            })\n",
    "\n",
    "        # compare metric distributions between datasets\n",
    "        for metric in metrics:\n",
    "            dataset_metric_values = [fold_metrics[metric] for fold_metrics in metric_values]\n",
    "            all_metric_values = all_results['both'][model_name][metric]\n",
    "\n",
    "            _, p_val = stats.ranksums(dataset_metric_values, all_metric_values)\n",
    "            if p_val < 0.05:\n",
    "                print(f\"Model: {model_name}\")\n",
    "                print(f\"Metric: {metric}\")\n",
    "                print(f\"Dataset: {dataset_name}\")\n",
    "                print(f\"p-value for comparing with 'all' dataset: {p_val}\")\n",
    "                print(\"The performance is significantly different from the 'all' dataset.\")\n",
    "                print(\"\\n\")\n",
    "                significant_difference_found = True  # set flag\n",
    "\n",
    "        if not significant_difference_found:\n",
    "            print(f\"No statistically significant differences were found for model {model_name} on dataset {dataset_name}.\")\n"
   ]
  },
  {
   "cell_type": "markdown",
   "metadata": {},
   "source": [
    "No statistically significant differences with cross-validated (n=5) approach."
   ]
  },
  {
   "cell_type": "markdown",
   "metadata": {},
   "source": [
    "### Visualising metrics"
   ]
  },
  {
   "cell_type": "code",
   "execution_count": 21,
   "metadata": {},
   "outputs": [],
   "source": [
    "import pandas as pd\n",
    "\n",
    "# empty list \n",
    "data = []\n",
    "\n",
    "# iterate over datasets\n",
    "for dataset_name, dataset_results in all_results.items():\n",
    "    # iterate over models\n",
    "    for model_name, model_results in dataset_results.items():\n",
    "        # iterate over metrics\n",
    "        for metric_name, metric_value in model_results.items():\n",
    "            data.append({\n",
    "                'model': model_name,\n",
    "                'metric_name': metric_name,\n",
    "                'metric_value': metric_value,\n",
    "                'dataset': dataset_name\n",
    "            })\n",
    "\n",
    "# df\n",
    "singles = pd.DataFrame(data)"
   ]
  },
  {
   "cell_type": "code",
   "execution_count": 23,
   "metadata": {},
   "outputs": [
    {
     "data": {
      "image/png": "[encoded data removed]",
      "text/plain": [
       "<Figure size 800x600 with 2 Axes>"
      ]
     },
     "metadata": {},
     "output_type": "display_data"
    },
    {
     "data": {
      "image/png": "[encoded data removed]",
      "text/plain": [
       "<Figure size 800x600 with 2 Axes>"
      ]
     },
     "metadata": {},
     "output_type": "display_data"
    },
    {
     "data": {
      "image/png": "[encoded data removed]",
      "text/plain": [
       "<Figure size 800x600 with 2 Axes>"
      ]
     },
     "metadata": {},
     "output_type": "display_data"
    }
   ],
   "source": [
    "import matplotlib.pyplot as plt\n",
    "import seaborn as sns\n",
    "\n",
    "for dataset_name, dataset_results in all_results.items():\n",
    "    # sort the models based on accuracy\n",
    "    accuracy_sorted = sorted(dataset_results.items(), key=lambda x: x[1]['accuracy'], reverse=True)\n",
    "    \n",
    "    # best performing model\n",
    "    best_model_name, best_model_results = accuracy_sorted[0]\n",
    "    \n",
    "    # confusion matrix\n",
    "    cm = best_model_results['cm']\n",
    "    plt.figure(figsize=(8, 6))\n",
    "    sns.heatmap(cm, annot=True, cmap='Blues', fmt='g')\n",
    "    plt.title(f\"Row level Confusion Matrix for {best_model_name} on {dataset_name} dataset\")\n",
    "    plt.xlabel(\"Predicted\")\n",
    "    plt.ylabel(\"Actual\")\n",
    "    plt.show()"
   ]
  }
 ],
 "metadata": {
  "kernelspec": {
   "display_name": "igp5_env",
   "language": "python",
   "name": "python3"
  },
  "language_info": {
   "codemirror_mode": {
    "name": "ipython",
    "version": 3
   },
   "file_extension": ".py",
   "mimetype": "text/x-python",
   "name": "python",
   "nbconvert_exporter": "python",
   "pygments_lexer": "ipython3",
   "version": "3.9.18"
  }
 },
 "nbformat": 4,
 "nbformat_minor": 2
}
