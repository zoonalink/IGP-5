{
 "cells": [
  {
   "cell_type": "markdown",
   "metadata": {},
   "source": [
    "## 05.01 Extract Data"
   ]
  },
  {
   "cell_type": "markdown",
   "metadata": {},
   "source": [
    "![](./_images/2024-03-03-22-03-04.png)\n",
    "\n",
    "![](./_images/2024-03-03-22-06-17.png)\n",
    "\n",
    "![](./_images/2024-03-03-22-06-51.png)"
   ]
  }
 ],
 "metadata": {
  "language_info": {
   "name": "python"
  }
 },
 "nbformat": 4,
 "nbformat_minor": 2
}
